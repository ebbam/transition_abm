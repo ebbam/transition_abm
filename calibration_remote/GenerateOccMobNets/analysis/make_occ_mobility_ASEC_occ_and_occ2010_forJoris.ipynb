{
 "cells": [
  {
   "cell_type": "code",
   "execution_count": 1,
   "id": "390fbdde",
   "metadata": {},
   "outputs": [],
   "source": [
    "import pandas as pd\n",
    "import random\n",
    "import numpy as np\n",
    "from matplotlib import pylab as plt\n",
    "import scipy.stats\n",
    "import copy\n",
    "from scipy.sparse import linalg as LA\n",
    "#import powerlaw\n",
    "# %matplotlib inline\n",
    "\n",
    "path_data = \"../data/\"\n",
    "path_fig = \"../results/fig/\"\n",
    "# cps file name\n",
    "file_asec = \"cpsasec_00001.csv\"\n",
    "# file_occ_soc_map = \"2010-occ-codes-soc-categories_clean.csv\"\n",
    "# used for CPS is \"occ2010_in_cps2019.csv\"\n",
    "file_occ_in_cps2010 = \"occ2010_cps_broad_class.csv\"\n",
    "# pkl file for asec\n",
    "file_asec_pkl = \"CPS_asec_df_occmob_summary.pkl\""
   ]
  },
  {
   "cell_type": "code",
   "execution_count": 2,
   "id": "46f46c5d",
   "metadata": {},
   "outputs": [
    {
     "data": {
      "text/html": [
       "<div>\n",
       "<style scoped>\n",
       "    .dataframe tbody tr th:only-of-type {\n",
       "        vertical-align: middle;\n",
       "    }\n",
       "\n",
       "    .dataframe tbody tr th {\n",
       "        vertical-align: top;\n",
       "    }\n",
       "\n",
       "    .dataframe thead th {\n",
       "        text-align: right;\n",
       "    }\n",
       "</style>\n",
       "<table border=\"1\" class=\"dataframe\">\n",
       "  <thead>\n",
       "    <tr style=\"text-align: right;\">\n",
       "      <th></th>\n",
       "      <th>Code</th>\n",
       "      <th>BroadClassification</th>\n",
       "      <th>Label</th>\n",
       "    </tr>\n",
       "  </thead>\n",
       "  <tbody>\n",
       "    <tr>\n",
       "      <th>0</th>\n",
       "      <td>10</td>\n",
       "      <td>MANAGEMENT, BUSINESS, SCIENCE, AND ARTS</td>\n",
       "      <td>Chief executives and legislators/public admini...</td>\n",
       "    </tr>\n",
       "    <tr>\n",
       "      <th>1</th>\n",
       "      <td>20</td>\n",
       "      <td>MANAGEMENT, BUSINESS, SCIENCE, AND ARTS</td>\n",
       "      <td>General and Operations Managers</td>\n",
       "    </tr>\n",
       "    <tr>\n",
       "      <th>2</th>\n",
       "      <td>30</td>\n",
       "      <td>MANAGEMENT, BUSINESS, SCIENCE, AND ARTS</td>\n",
       "      <td>Managers in Marketing, Advertising, and Public...</td>\n",
       "    </tr>\n",
       "    <tr>\n",
       "      <th>3</th>\n",
       "      <td>100</td>\n",
       "      <td>MANAGEMENT, BUSINESS, SCIENCE, AND ARTS</td>\n",
       "      <td>Administrative Services Managers</td>\n",
       "    </tr>\n",
       "    <tr>\n",
       "      <th>4</th>\n",
       "      <td>110</td>\n",
       "      <td>MANAGEMENT, BUSINESS, SCIENCE, AND ARTS</td>\n",
       "      <td>Computer and Information Systems Managers</td>\n",
       "    </tr>\n",
       "  </tbody>\n",
       "</table>\n",
       "</div>"
      ],
      "text/plain": [
       "   Code                      BroadClassification  \\\n",
       "0    10  MANAGEMENT, BUSINESS, SCIENCE, AND ARTS   \n",
       "1    20  MANAGEMENT, BUSINESS, SCIENCE, AND ARTS   \n",
       "2    30  MANAGEMENT, BUSINESS, SCIENCE, AND ARTS   \n",
       "3   100  MANAGEMENT, BUSINESS, SCIENCE, AND ARTS   \n",
       "4   110  MANAGEMENT, BUSINESS, SCIENCE, AND ARTS   \n",
       "\n",
       "                                               Label  \n",
       "0  Chief executives and legislators/public admini...  \n",
       "1                    General and Operations Managers  \n",
       "2  Managers in Marketing, Advertising, and Public...  \n",
       "3                   Administrative Services Managers  \n",
       "4          Computer and Information Systems Managers  "
      ]
     },
     "execution_count": 2,
     "metadata": {},
     "output_type": "execute_result"
    }
   ],
   "source": [
    "df_categories = pd.read_csv(path_data + file_occ_in_cps2010 )\n",
    "df_categories.head()"
   ]
  },
  {
   "cell_type": "code",
   "execution_count": 3,
   "id": "e5d6487e",
   "metadata": {},
   "outputs": [],
   "source": [
    "df_categories = pd.read_csv(path_data + file_occ_in_cps2010)\n",
    "df_categories.head()\n",
    "occ_names = list(df_categories[\"Label\"])\n",
    "occ_codes = list(df_categories[\"Code\"])\n",
    "dict_code_index = {}\n",
    "for i in range(len(occ_codes)):\n",
    "    dict_code_index[occ_codes[i]] = i"
   ]
  },
  {
   "cell_type": "code",
   "execution_count": 4,
   "id": "104309cf",
   "metadata": {},
   "outputs": [],
   "source": [
    "df_asec = pd.read_pickle(path_data + file_asec_pkl)\n",
    "df_asec_2019 = pd.read_pickle(path_data + \"CPS_asec_df_occmob_summary_2019.pkl\")"
   ]
  },
  {
   "cell_type": "code",
   "execution_count": 5,
   "id": "a2e18c35",
   "metadata": {},
   "outputs": [
    {
     "data": {
      "text/plain": [
       "458"
      ]
     },
     "execution_count": 5,
     "metadata": {},
     "output_type": "execute_result"
    }
   ],
   "source": [
    "len(df_categories)"
   ]
  },
  {
   "cell_type": "markdown",
   "id": "d1224f32",
   "metadata": {},
   "source": [
    "### quick check asec and asec 2019"
   ]
  },
  {
   "cell_type": "code",
   "execution_count": 6,
   "id": "7e823164",
   "metadata": {},
   "outputs": [],
   "source": [
    "df_asec = df_asec[df_asec[\"ASECWT\"].notna()]\n",
    "# remove CPSIDP unless they are part of the asec over sample\n",
    "df_asec = df_asec[(df_asec[\"CPSIDP\"] != 0) | (df_asec[\"ASECOVERP\"] == 1)] \n",
    "# Drop 2021\n",
    "df_asec = df_asec[df_asec[\"YEAR\"] != 2021]\n",
    "# same for 2019\n",
    "df_asec_2019 = df_asec_2019[df_asec_2019[\"ASECWT\"].notna()]\n",
    "# remove CPSIDP unless they are part of the asec over sample\n",
    "df_asec_2019 = df_asec_2019[(df_asec_2019[\"CPSIDP\"] != 0) | (df_asec_2019[\"ASECOVERP\"] == 1)] "
   ]
  },
  {
   "cell_type": "code",
   "execution_count": 7,
   "id": "05ef01b1",
   "metadata": {},
   "outputs": [],
   "source": [
    "df_asec_2019_v2 = df_asec[df_asec[\"YEAR\"] == 2019]"
   ]
  },
  {
   "cell_type": "code",
   "execution_count": 8,
   "id": "3c519aa1",
   "metadata": {},
   "outputs": [],
   "source": [
    "df_asec_2019[\"ChangeOcc\"] = df_asec_2019[\"OCC2010\"] != df_asec_2019[\"OCC10LY\"]\n",
    "df_asec_2019[\"ChangeOccWT\"] = df_asec_2019[\"ChangeOcc\"] * df_asec_2019[\"ASECWT\"]"
   ]
  },
  {
   "cell_type": "code",
   "execution_count": 9,
   "id": "3e2ee053",
   "metadata": {},
   "outputs": [
    {
     "name": "stdout",
     "output_type": "stream",
     "text": [
      "Workforce estimation (millions)  163.00103038999998\n",
      "People that changed occupaiton (millions)  25.82486389\n",
      "Percentage of workforce that switched occupation in a year  0.15843374626657783\n"
     ]
    }
   ],
   "source": [
    "print(\"Workforce estimation (millions) \", df_asec_2019[\"ASECWT\"].sum()/1e6)\n",
    "print(\"People that changed occupaiton (millions) \", df_asec_2019[\"ChangeOccWT\"].sum()/1e6)\n",
    "print(\"Percentage of workforce that switched occupation in a year \", df_asec_2019[\"ChangeOccWT\"].sum()/df_asec_2019[\"ASECWT\"].sum())"
   ]
  },
  {
   "cell_type": "code",
   "execution_count": 10,
   "id": "c41b3507",
   "metadata": {},
   "outputs": [
    {
     "name": "stderr",
     "output_type": "stream",
     "text": [
      "<ipython-input-10-d34464c58ae6>:1: SettingWithCopyWarning: \n",
      "A value is trying to be set on a copy of a slice from a DataFrame.\n",
      "Try using .loc[row_indexer,col_indexer] = value instead\n",
      "\n",
      "See the caveats in the documentation: https://pandas.pydata.org/pandas-docs/stable/user_guide/indexing.html#returning-a-view-versus-a-copy\n",
      "  df_asec_2019_v2[\"ChangeOcc\"] = df_asec_2019_v2[\"OCC2010\"] != df_asec_2019_v2[\"OCC10LY\"]\n",
      "<ipython-input-10-d34464c58ae6>:2: SettingWithCopyWarning: \n",
      "A value is trying to be set on a copy of a slice from a DataFrame.\n",
      "Try using .loc[row_indexer,col_indexer] = value instead\n",
      "\n",
      "See the caveats in the documentation: https://pandas.pydata.org/pandas-docs/stable/user_guide/indexing.html#returning-a-view-versus-a-copy\n",
      "  df_asec_2019_v2[\"ChangeOccWT\"] = df_asec_2019_v2[\"ChangeOcc\"] * df_asec_2019_v2[\"ASECWT\"]\n"
     ]
    }
   ],
   "source": [
    "df_asec_2019_v2[\"ChangeOcc\"] = df_asec_2019_v2[\"OCC2010\"] != df_asec_2019_v2[\"OCC10LY\"]\n",
    "df_asec_2019_v2[\"ChangeOccWT\"] = df_asec_2019_v2[\"ChangeOcc\"] * df_asec_2019_v2[\"ASECWT\"]"
   ]
  },
  {
   "cell_type": "markdown",
   "id": "84e0dc0f",
   "metadata": {},
   "source": [
    "**note the lines before count transitions from unemployed, military, etc.**"
   ]
  },
  {
   "cell_type": "code",
   "execution_count": 11,
   "id": "1d217ab5",
   "metadata": {},
   "outputs": [
    {
     "name": "stdout",
     "output_type": "stream",
     "text": [
      "Workforce estimation (millions)  163.00103038999998\n",
      "People that changed occupaiton (millions)  25.82486389\n",
      "Percentage of workforce that switched occupation in a year  0.15843374626657783\n"
     ]
    }
   ],
   "source": [
    "print(\"Workforce estimation (millions) \", df_asec_2019_v2[\"ASECWT\"].sum()/1e6)\n",
    "print(\"People that changed occupaiton (millions) \", df_asec_2019_v2[\"ChangeOccWT\"].sum()/1e6)\n",
    "print(\"Percentage of workforce that switched occupation in a year \", df_asec_2019_v2[\"ChangeOccWT\"].sum()/df_asec_2019_v2[\"ASECWT\"].sum())"
   ]
  },
  {
   "cell_type": "markdown",
   "id": "26b87d36",
   "metadata": {},
   "source": [
    "### close check"
   ]
  },
  {
   "cell_type": "code",
   "execution_count": 12,
   "id": "35d612f0",
   "metadata": {},
   "outputs": [],
   "source": [
    "df_asec = df_asec[df_asec[\"ASECWT\"].notna()]\n",
    "# remove CPSIDP unless they are part of the asec over sample\n",
    "df_asec = df_asec[(df_asec[\"CPSIDP\"] != 0) | (df_asec[\"ASECOVERP\"] == 1)] \n",
    "# Drop 2021\n",
    "df_asec = df_asec[df_asec[\"YEAR\"] != 2021]"
   ]
  },
  {
   "cell_type": "code",
   "execution_count": 13,
   "id": "a1df382f",
   "metadata": {},
   "outputs": [],
   "source": [
    "df_asec = df_asec[(df_asec[\"ASECWT\"].notna()) & (df_asec[\"OCC2010\"] != 9999) & (df_asec[\"OCC10LY\"] != 9999)\\\n",
    "                 & (df_asec[\"OCC2010\"] != 9920) & (df_asec[\"OCC10LY\"] != 9920)] "
   ]
  },
  {
   "cell_type": "code",
   "execution_count": 14,
   "id": "df0a7d06",
   "metadata": {},
   "outputs": [],
   "source": [
    "occ_asec = set(df_asec[\"OCC2010\"].unique())\n",
    "occ_cps_form = set(df_categories[\"Code\"])"
   ]
  },
  {
   "cell_type": "code",
   "execution_count": 15,
   "id": "fa1e33c8",
   "metadata": {},
   "outputs": [
    {
     "name": "stdout",
     "output_type": "stream",
     "text": [
      "in ASEC but not in the other list set()\n",
      "in list but not ASEC {9920, 9800, 1980, 9810, 9820}\n"
     ]
    }
   ],
   "source": [
    "print(\"in ASEC but not in the other list\", occ_asec.difference(occ_cps_form))\n",
    "print(\"in list but not ASEC\", occ_cps_form.difference(occ_asec))\n",
    "#NOTE this is other way around than in CPS, should probably check list again\n",
    "to_remove_list = occ_cps_form.difference(occ_asec)\n",
    "to_remove_asec = occ_asec.difference(occ_cps_form)\n",
    "df_categories = df_categories[~df_categories['Code'].isin(to_remove_list)]\n",
    "df_asec = df_asec[~df_asec['OCC2010'].isin(to_remove_asec)]\n",
    "df_asec = df_asec[~df_asec['OCC10LY'].isin(to_remove_asec)]"
   ]
  },
  {
   "cell_type": "code",
   "execution_count": 35,
   "id": "1463b4e5",
   "metadata": {},
   "outputs": [
    {
     "data": {
      "text/plain": [
       "{1980, 9800, 9810, 9820, 9920}"
      ]
     },
     "execution_count": 35,
     "metadata": {},
     "output_type": "execute_result"
    }
   ],
   "source": [
    "to_remove_list"
   ]
  },
  {
   "cell_type": "code",
   "execution_count": 36,
   "id": "7b6e8d05",
   "metadata": {},
   "outputs": [
    {
     "data": {
      "text/plain": [
       "set()"
      ]
     },
     "execution_count": 36,
     "metadata": {},
     "output_type": "execute_result"
    }
   ],
   "source": [
    "to_remove_asec"
   ]
  },
  {
   "cell_type": "code",
   "execution_count": 16,
   "id": "2d625a2e",
   "metadata": {},
   "outputs": [
    {
     "data": {
      "text/plain": [
       "Index(['YEAR', 'SERIAL', 'MONTH', 'CPSID', 'ASECFLAG', 'HFLAG', 'CPSIDP',\n",
       "       'ASECWT', 'AGE', 'SEX', 'RACE', 'HISPAN', 'EMPSTAT', 'LABFORCE', 'OCC',\n",
       "       'OCC2010', 'IND', 'EMPSAME', 'ASECOVERP', 'OCCLY', 'OCC10LY', 'QOCCLY'],\n",
       "      dtype='object')"
      ]
     },
     "execution_count": 16,
     "metadata": {},
     "output_type": "execute_result"
    }
   ],
   "source": [
    "df_asec.columns"
   ]
  },
  {
   "cell_type": "code",
   "execution_count": 17,
   "id": "368df04f",
   "metadata": {},
   "outputs": [],
   "source": [
    "years = df_asec[\"YEAR\"].unique()\n",
    "n_years = len(years)"
   ]
  },
  {
   "cell_type": "code",
   "execution_count": 18,
   "id": "85f94a29",
   "metadata": {},
   "outputs": [
    {
     "name": "stdout",
     "output_type": "stream",
     "text": [
      "Average employed 2000-2020 using ASECWT (million workers) 153.15937275714285\n"
     ]
    }
   ],
   "source": [
    "print( \"Average employed 2000-2020 using ASECWT (million workers)\", df_asec[\"ASECWT\"].sum()/(1e6*n_years))"
   ]
  },
  {
   "cell_type": "code",
   "execution_count": 19,
   "id": "6043eeae",
   "metadata": {},
   "outputs": [],
   "source": [
    "df_asec_2010_2019 = df_asec[df_asec[\"YEAR\"].isin([i for i in range(2010, 2020)])]"
   ]
  },
  {
   "cell_type": "code",
   "execution_count": 20,
   "id": "b3ec450f",
   "metadata": {},
   "outputs": [
    {
     "name": "stderr",
     "output_type": "stream",
     "text": [
      "<ipython-input-20-0fcd7a9e9faa>:1: SettingWithCopyWarning: \n",
      "A value is trying to be set on a copy of a slice from a DataFrame.\n",
      "Try using .loc[row_indexer,col_indexer] = value instead\n",
      "\n",
      "See the caveats in the documentation: https://pandas.pydata.org/pandas-docs/stable/user_guide/indexing.html#returning-a-view-versus-a-copy\n",
      "  df_asec_2010_2019[\"ChangeOcc\"] = df_asec_2010_2019[\"OCC2010\"] != df_asec_2010_2019[\"OCC10LY\"]\n",
      "<ipython-input-20-0fcd7a9e9faa>:2: SettingWithCopyWarning: \n",
      "A value is trying to be set on a copy of a slice from a DataFrame.\n",
      "Try using .loc[row_indexer,col_indexer] = value instead\n",
      "\n",
      "See the caveats in the documentation: https://pandas.pydata.org/pandas-docs/stable/user_guide/indexing.html#returning-a-view-versus-a-copy\n",
      "  df_asec_2010_2019[\"ChangeOccWT\"] = df_asec_2010_2019[\"ChangeOcc\"] * df_asec_2010_2019[\"ASECWT\"]\n"
     ]
    }
   ],
   "source": [
    "df_asec_2010_2019[\"ChangeOcc\"] = df_asec_2010_2019[\"OCC2010\"] != df_asec_2010_2019[\"OCC10LY\"]\n",
    "df_asec_2010_2019[\"ChangeOccWT\"] = df_asec_2010_2019[\"ChangeOcc\"] * df_asec_2010_2019[\"ASECWT\"]"
   ]
  },
  {
   "cell_type": "code",
   "execution_count": 21,
   "id": "6572ddef",
   "metadata": {},
   "outputs": [
    {
     "name": "stdout",
     "output_type": "stream",
     "text": [
      "Workforce estimation (millions)  1637.91351948\n",
      "People that changed occupaiton (millions)  176.50899297000004\n",
      "Percentage of workforce that switched occupation in a year  0.10776453754776845\n"
     ]
    }
   ],
   "source": [
    "print(\"Workforce estimation (millions) \", df_asec_2010_2019[\"ASECWT\"].sum()/1e6)\n",
    "print(\"People that changed occupaiton (millions) \", df_asec_2010_2019[\"ChangeOccWT\"].sum()/1e6)\n",
    "print(\"Percentage of workforce that switched occupation in a year \", df_asec_2010_2019[\"ChangeOccWT\"].sum()/df_asec_2010_2019[\"ASECWT\"].sum())"
   ]
  },
  {
   "cell_type": "code",
   "execution_count": 22,
   "id": "096a1b5e",
   "metadata": {},
   "outputs": [],
   "source": [
    "def occ_mob_asec(df, dict_code_index, norm):\n",
    "    \"\"\"Makes occupational mobiltiy network from ASEC\n",
    "    \"\"\"\n",
    "    # make empty matrix\n",
    "    n = len(dict_code_index)\n",
    "    A = np.zeros([n, n])\n",
    "    # fill whenver there is a transition\n",
    "    for index, row in df.iterrows():\n",
    "        if row[\"OCC2010\"] != row[\"OCC10LY\"]:\n",
    "            i, j = dict_code_index[(row[\"OCC10LY\"])], dict_code_index[row[\"OCC2010\"]]\n",
    "            A[i, j] += row[\"ASECWT\"]/norm # consider ASEC weights\n",
    "    \n",
    "    return A"
   ]
  },
  {
   "cell_type": "code",
   "execution_count": 23,
   "id": "88196652",
   "metadata": {},
   "outputs": [],
   "source": [
    "T_asec = occ_mob_asec(df_asec, dict_code_index, norm=len([i for i in range(2000, 2021)]))"
   ]
  },
  {
   "cell_type": "code",
   "execution_count": 24,
   "id": "dc99ac44",
   "metadata": {},
   "outputs": [
    {
     "name": "stdout",
     "output_type": "stream",
     "text": [
      "Mean share of population transitioning 2010-2019  0.010776453754776847\n"
     ]
    }
   ],
   "source": [
    "T_asec_2010_2019 = occ_mob_asec(df_asec_2010_2019, dict_code_index, norm=len([i for i in range(2010, 2020)]))\n",
    "print(\"Mean share of population transitioning 2010-2019 \", T_asec_2010_2019.sum()/df_asec_2010_2019[\"ASECWT\"].sum())"
   ]
  },
  {
   "cell_type": "code",
   "execution_count": 25,
   "id": "74f54947",
   "metadata": {},
   "outputs": [
    {
     "name": "stdout",
     "output_type": "stream",
     "text": [
      "Mean share of population transitioning 2010-2019  0.010776453754776847\n"
     ]
    }
   ],
   "source": [
    "print(\"Mean share of population transitioning 2010-2019 \", T_asec_2010_2019.sum()/df_asec_2010_2019[\"ASECWT\"].sum())"
   ]
  },
  {
   "cell_type": "code",
   "execution_count": 26,
   "id": "f5b0e41e",
   "metadata": {},
   "outputs": [
    {
     "name": "stdout",
     "output_type": "stream",
     "text": [
      "12074171.959999999 143884187.69\n",
      "Mean share of population transitioning  2010 0.08391590593689092\n",
      "12910832.840000004 142915509.42999998\n",
      "Mean share of population transitioning  2011 0.09033892046771684\n",
      "13071923.609999998 144156608.02999997\n",
      "Mean share of population transitioning  2012 0.09067862922579062\n",
      "13855691.859999998 145637195.69\n",
      "Mean share of population transitioning  2013 0.09513841429282191\n",
      "32572014.770000003 294653613.66999996\n",
      "Mean share of population transitioning  2014 0.11054340845953219\n",
      "16668051.44 148903539.27\n",
      "Mean share of population transitioning  2015 0.11193858468183607\n",
      "18095611.6 152218548.07999998\n",
      "Mean share of population transitioning  2016 0.11887914993440662\n",
      "17221669.389999997 153486996.5\n",
      "Mean share of population transitioning  2017 0.11220279100321047\n",
      "20062647.090000007 155450422.95000002\n",
      "Mean share of population transitioning  2018 0.12906138632027445\n",
      "19976378.409999993 156606898.17\n",
      "Mean share of population transitioning  2019 0.12755746166631324\n"
     ]
    }
   ],
   "source": [
    "for y in range(2010,2020):\n",
    "    df_asec_year = df_asec[df_asec[\"YEAR\"] == y]\n",
    "    T = occ_mob_asec(df_asec_year, dict_code_index, norm=1)\n",
    "    print(T.sum(), df_asec_year[\"ASECWT\"].sum())\n",
    "    print(\"Mean share of population transitioning \", y, T.sum()/df_asec_year[\"ASECWT\"].sum())"
   ]
  },
  {
   "cell_type": "code",
   "execution_count": 29,
   "id": "cd864b8b",
   "metadata": {},
   "outputs": [
    {
     "name": "stdout",
     "output_type": "stream",
     "text": [
      "458\n",
      "(458, 458)\n"
     ]
    }
   ],
   "source": [
    "print(len(dict_code_index))\n",
    "print(T_asec_2010_2019.shape)"
   ]
  },
  {
   "cell_type": "code",
   "execution_count": null,
   "id": "96fa0541",
   "metadata": {},
   "outputs": [],
   "source": [
    "np.savetxt(path_data + \"asec_00_20_avg_occ2010.csv\", T_asec, delimiter=\",\")\n",
    "np.savetxt(path_data + \"asec_10_19_avg_occ2010.csv\", T_asec_2010_2019, delimiter=\",\")"
   ]
  },
  {
   "cell_type": "code",
   "execution_count": 151,
   "id": "f21313b8",
   "metadata": {},
   "outputs": [
    {
     "data": {
      "text/plain": [
       "(array([ 91, 327, 433, 453, 454, 455, 457]),)"
      ]
     },
     "execution_count": 151,
     "metadata": {},
     "output_type": "execute_result"
    }
   ],
   "source": [
    "np.where(T_asec_2010_2019.sum(axis=1) == 0)"
   ]
  },
  {
   "cell_type": "code",
   "execution_count": 34,
   "id": "bc002193",
   "metadata": {},
   "outputs": [
    {
     "data": {
      "text/plain": [
       "453"
      ]
     },
     "execution_count": 34,
     "metadata": {},
     "output_type": "execute_result"
    }
   ],
   "source": [
    "len(df_categories)"
   ]
  },
  {
   "cell_type": "code",
   "execution_count": 172,
   "id": "b84b0dae",
   "metadata": {},
   "outputs": [
    {
     "data": {
      "text/html": [
       "<div>\n",
       "<style scoped>\n",
       "    .dataframe tbody tr th:only-of-type {\n",
       "        vertical-align: middle;\n",
       "    }\n",
       "\n",
       "    .dataframe tbody tr th {\n",
       "        vertical-align: top;\n",
       "    }\n",
       "\n",
       "    .dataframe thead th {\n",
       "        text-align: right;\n",
       "    }\n",
       "</style>\n",
       "<table border=\"1\" class=\"dataframe\">\n",
       "  <thead>\n",
       "    <tr style=\"text-align: right;\">\n",
       "      <th></th>\n",
       "      <th>Code</th>\n",
       "      <th>BroadClassification</th>\n",
       "      <th>Label</th>\n",
       "    </tr>\n",
       "  </thead>\n",
       "  <tbody>\n",
       "    <tr>\n",
       "      <th>449</th>\n",
       "      <td>9640</td>\n",
       "      <td>TRANSPORTATION AND MATERIAL MOVING</td>\n",
       "      <td>Packers and Packagers, Hand</td>\n",
       "    </tr>\n",
       "    <tr>\n",
       "      <th>450</th>\n",
       "      <td>9650</td>\n",
       "      <td>TRANSPORTATION AND MATERIAL MOVING</td>\n",
       "      <td>Pumping Station Operators</td>\n",
       "    </tr>\n",
       "    <tr>\n",
       "      <th>451</th>\n",
       "      <td>9720</td>\n",
       "      <td>TRANSPORTATION AND MATERIAL MOVING</td>\n",
       "      <td>Refuse and Recyclable Material Collectors</td>\n",
       "    </tr>\n",
       "    <tr>\n",
       "      <th>452</th>\n",
       "      <td>9750</td>\n",
       "      <td>TRANSPORTATION AND MATERIAL MOVING</td>\n",
       "      <td>Material moving workers, nec</td>\n",
       "    </tr>\n",
       "    <tr>\n",
       "      <th>456</th>\n",
       "      <td>9830</td>\n",
       "      <td>TRANSPORTATION AND MATERIAL MOVING</td>\n",
       "      <td>Military, Rank Not Specified</td>\n",
       "    </tr>\n",
       "  </tbody>\n",
       "</table>\n",
       "</div>"
      ],
      "text/plain": [
       "     Code                 BroadClassification  \\\n",
       "449  9640  TRANSPORTATION AND MATERIAL MOVING   \n",
       "450  9650  TRANSPORTATION AND MATERIAL MOVING   \n",
       "451  9720  TRANSPORTATION AND MATERIAL MOVING   \n",
       "452  9750  TRANSPORTATION AND MATERIAL MOVING   \n",
       "456  9830  TRANSPORTATION AND MATERIAL MOVING   \n",
       "\n",
       "                                         Label  \n",
       "449                Packers and Packagers, Hand  \n",
       "450                  Pumping Station Operators  \n",
       "451  Refuse and Recyclable Material Collectors  \n",
       "452               Material moving workers, nec  \n",
       "456               Military, Rank Not Specified  "
      ]
     },
     "execution_count": 172,
     "metadata": {},
     "output_type": "execute_result"
    }
   ],
   "source": [
    "df_categories.tail()"
   ]
  },
  {
   "cell_type": "code",
   "execution_count": 74,
   "id": "8eca03e9",
   "metadata": {},
   "outputs": [],
   "source": [
    "df_categories.to_csv(path_data + \"occ_names_class_asec_occ2010.csv\", index=False)"
   ]
  },
  {
   "cell_type": "markdown",
   "id": "5ab8870a",
   "metadata": {},
   "source": [
    "## Add employment"
   ]
  },
  {
   "cell_type": "code",
   "execution_count": 30,
   "id": "836b4176",
   "metadata": {},
   "outputs": [
    {
     "data": {
      "image/png": "[encoded data removed]",
      "text/plain": [
       "<Figure size 432x288 with 1 Axes>"
      ]
     },
     "metadata": {
      "needs_background": "light"
     },
     "output_type": "display_data"
    }
   ],
   "source": [
    "df_asec_2019 = df_asec_2010_2019[df_asec_2010_2019[\"YEAR\"] == 2019]\n",
    "dict_occ_emp_2019 = {}\n",
    "dict_occ_emp_2010_2019 = {}\n",
    "for index, row in df_categories.iterrows():\n",
    "    #dict_occ_emp[row[\"Code\"]] = 0\n",
    "    dict_occ_emp_2019[row[\"Code\"]] = 0\n",
    "    dict_occ_emp_2010_2019[row[\"Code\"]] = 0\n",
    "    \n",
    "for index, row in df_asec_2019.iterrows():\n",
    "    dict_occ_emp_2019[row[\"OCC2010\"]] += row[\"ASECWT\"]\n",
    "    \n",
    "for index, row in df_asec_2010_2019.iterrows():\n",
    "    dict_occ_emp_2010_2019[row[\"OCC2010\"]] += row[\"ASECWT\"]/10\n",
    "    \n",
    "df_categories[\"EMP_2019\"] = df_categories[\"Code\"].map(dict_occ_emp_2019)\n",
    "df_categories[\"EMP_2010_2019_avg\"] = df_categories[\"Code\"].map(dict_occ_emp_2010_2019)\n",
    "\n",
    "df_categories.to_csv(path_data + \"occ_names_employment_asec_occ2010.csv\", index=False)\n",
    "\n",
    "plt.scatter(df_categories[\"EMP_2019\"], df_categories[\"EMP_2010_2019_avg\"])\n",
    "plt.show()"
   ]
  },
  {
   "cell_type": "code",
   "execution_count": 33,
   "id": "bfacba78",
   "metadata": {},
   "outputs": [
    {
     "data": {
      "text/plain": [
       "453"
      ]
     },
     "execution_count": 33,
     "metadata": {},
     "output_type": "execute_result"
    }
   ],
   "source": [
    "len(dict_occ_emp_2019)"
   ]
  },
  {
   "cell_type": "code",
   "execution_count": 32,
   "id": "6c799434",
   "metadata": {},
   "outputs": [
    {
     "data": {
      "text/plain": [
       "453"
      ]
     },
     "execution_count": 32,
     "metadata": {},
     "output_type": "execute_result"
    }
   ],
   "source": [
    "len(dict_occ_emp_2010_2019)"
   ]
  },
  {
   "cell_type": "markdown",
   "id": "85322b39",
   "metadata": {},
   "source": [
    "### same but now use occ2010 instead of occ"
   ]
  },
  {
   "cell_type": "code",
   "execution_count": 175,
   "id": "c63ba88c",
   "metadata": {},
   "outputs": [],
   "source": [
    "def occ_mob_asec_occ(df, dict_code_index, norm):\n",
    "    \"\"\"Makes occupational mobiltiy network from ASEC\n",
    "    \"\"\"\n",
    "    # make empty matrix\n",
    "    n = len(dict_code_index)\n",
    "    A = np.zeros([n, n])\n",
    "    # fill whenver there is a transition\n",
    "    for index, row in df.iterrows():\n",
    "        if row[\"OCC\"] != row[\"OCCLY\"]:\n",
    "            i, j = dict_code_index[(row[\"OCCLY\"])], dict_code_index[row[\"OCC\"]]\n",
    "            A[i, j] += row[\"ASECWT\"]/norm # consider ASEC weights\n",
    "    \n",
    "    return A"
   ]
  },
  {
   "cell_type": "code",
   "execution_count": 176,
   "id": "b61a7c66",
   "metadata": {},
   "outputs": [],
   "source": [
    "file_occ_in_cps2011_2019 = \"occ_names_code_2011-2019.csv\""
   ]
  },
  {
   "cell_type": "code",
   "execution_count": 177,
   "id": "844bd65a",
   "metadata": {},
   "outputs": [],
   "source": [
    "occ_names = list(df_occ[\"Label\"])\n",
    "occ_codes = list(df_occ[\"Code\"])\n",
    "dict_code_index = {}\n",
    "for i in range(len(occ_codes)):\n",
    "    dict_code_index[occ_codes[i]] = i"
   ]
  },
  {
   "cell_type": "code",
   "execution_count": 189,
   "id": "b0ef93d4",
   "metadata": {},
   "outputs": [
    {
     "data": {
      "text/html": [
       "<div>\n",
       "<style scoped>\n",
       "    .dataframe tbody tr th:only-of-type {\n",
       "        vertical-align: middle;\n",
       "    }\n",
       "\n",
       "    .dataframe tbody tr th {\n",
       "        vertical-align: top;\n",
       "    }\n",
       "\n",
       "    .dataframe thead th {\n",
       "        text-align: right;\n",
       "    }\n",
       "</style>\n",
       "<table border=\"1\" class=\"dataframe\">\n",
       "  <thead>\n",
       "    <tr style=\"text-align: right;\">\n",
       "      <th></th>\n",
       "      <th>Code</th>\n",
       "      <th>Label</th>\n",
       "    </tr>\n",
       "  </thead>\n",
       "  <tbody>\n",
       "    <tr>\n",
       "      <th>0</th>\n",
       "      <td>10</td>\n",
       "      <td>Chief executives</td>\n",
       "    </tr>\n",
       "    <tr>\n",
       "      <th>1</th>\n",
       "      <td>20</td>\n",
       "      <td>General and operations managers</td>\n",
       "    </tr>\n",
       "    <tr>\n",
       "      <th>2</th>\n",
       "      <td>30</td>\n",
       "      <td>Legislators</td>\n",
       "    </tr>\n",
       "    <tr>\n",
       "      <th>3</th>\n",
       "      <td>40</td>\n",
       "      <td>Advertising and promotions managers</td>\n",
       "    </tr>\n",
       "    <tr>\n",
       "      <th>4</th>\n",
       "      <td>50</td>\n",
       "      <td>Marketing and sales managers</td>\n",
       "    </tr>\n",
       "  </tbody>\n",
       "</table>\n",
       "</div>"
      ],
      "text/plain": [
       "   Code                                Label\n",
       "0    10                     Chief executives\n",
       "1    20      General and operations managers\n",
       "2    30                          Legislators\n",
       "3    40  Advertising and promotions managers\n",
       "4    50         Marketing and sales managers"
      ]
     },
     "execution_count": 189,
     "metadata": {},
     "output_type": "execute_result"
    }
   ],
   "source": [
    "df_occ = pd.read_csv(path_data + file_occ_in_cps2011_2019  )\n",
    "df_occ.head()"
   ]
  },
  {
   "cell_type": "code",
   "execution_count": 190,
   "id": "9d54e17a",
   "metadata": {},
   "outputs": [],
   "source": [
    "df_asec = pd.read_pickle(path_data + file_asec_pkl)\n",
    "df_asec = df_asec[df_asec[\"ASECWT\"].notna()]\n",
    "# remove CPSIDP unless they are part of the asec over sample\n",
    "df_asec = df_asec[(df_asec[\"CPSIDP\"] != 0) | (df_asec[\"ASECOVERP\"] == 1)] \n",
    "# Drop 2021\n",
    "df_asec = df_asec[df_asec[\"YEAR\"] != 2021]"
   ]
  },
  {
   "cell_type": "code",
   "execution_count": 191,
   "id": "cd67ad85",
   "metadata": {},
   "outputs": [],
   "source": [
    "df_asec = df_asec[(df_asec[\"ASECWT\"].notna()) & (df_asec[\"OCC\"] != 9999) & (df_asec[\"OCCLY\"] != 9999)\\\n",
    "                 & (df_asec[\"OCC\"] != 9920) & (df_asec[\"OCCLY\"] != 9920)] "
   ]
  },
  {
   "cell_type": "code",
   "execution_count": 192,
   "id": "7c2940a0",
   "metadata": {},
   "outputs": [],
   "source": [
    "df_asec_2011_2019 = df_asec[df_asec[\"YEAR\"].isin([i for i in range(2011, 2020)])]"
   ]
  },
  {
   "cell_type": "code",
   "execution_count": 193,
   "id": "8aede903",
   "metadata": {},
   "outputs": [],
   "source": [
    "occ_asec = set(df_asec_2011_2019[\"OCC\"].unique())\n",
    "occ_cps_form = set(df_occ[\"Code\"])"
   ]
  },
  {
   "cell_type": "code",
   "execution_count": 194,
   "id": "002901a9",
   "metadata": {},
   "outputs": [
    {
     "name": "stdout",
     "output_type": "stream",
     "text": [
      "in ASEC but not in external list {0}\n",
      "in external list but not ASEC {6410, 7820, 6030, 400, 4630, 920, 6810, 30, 9250, 550, 2730, 4910, 8110, 6450, 1850, 2110, 7230, 1730, 6340, 4550, 8520, 3020, 7250, 4310, 1750, 610, 3810, 7910, 1000, 9320, 4330, 7530, 2030, 8050, 8820, 4730}\n"
     ]
    }
   ],
   "source": [
    "print(\"in ASEC but not in external list\", occ_asec.difference(occ_cps_form))\n",
    "print(\"in external list but not ASEC\", occ_cps_form.difference(occ_asec))\n",
    "#NOTE this is other way around than in CPS, should probably check list again\n",
    "to_remove_list = occ_cps_form.difference(occ_asec)\n",
    "to_remove_asec = occ_asec.difference(occ_cps_form)\n",
    "df_occ = df_occ[~df_occ['Code'].isin(to_remove_list)]\n",
    "df_asec = df_asec[~df_asec['OCC'].isin(to_remove_asec)]\n",
    "df_asec = df_asec[~df_asec['OCCLY'].isin(to_remove_asec)]"
   ]
  },
  {
   "cell_type": "code",
   "execution_count": 195,
   "id": "eeb2fed3",
   "metadata": {},
   "outputs": [],
   "source": [
    "df_asec_2011_2019[\"ChangeOcc\"] = df_asec_2011_2019[\"OCC\"] != df_asec_2011_2019[\"OCCLY\"]\n",
    "df_asec_2011_2019[\"ChangeOccWT\"] = df_asec_2011_2019[\"ChangeOcc\"] * df_asec_2011_2019[\"ASECWT\"]"
   ]
  },
  {
   "cell_type": "code",
   "execution_count": 196,
   "id": "156d1ffd",
   "metadata": {},
   "outputs": [
    {
     "name": "stdout",
     "output_type": "stream",
     "text": [
      "Mean share of population transitioning 2011-2019  0.016899090276004176\n"
     ]
    }
   ],
   "source": [
    "T_asec_2011_2019 = occ_mob_asec_occ(df_asec_2011_2019, dict_code_index, norm=len([i for i in range(2011, 2020)]))\n",
    "print(\"Mean share of population transitioning 2011-2019 \", T_asec_2011_2019.sum()/df_asec_2011_2019[\"ASECWT\"].sum())"
   ]
  },
  {
   "cell_type": "code",
   "execution_count": 197,
   "id": "4c79c623",
   "metadata": {},
   "outputs": [
    {
     "data": {
      "text/plain": [
       "(array([ 69,  98, 105, 107, 114, 115, 158, 174, 214, 322, 336, 347, 375,\n",
       "        377, 409, 413, 441, 444, 445, 458, 462, 463, 486, 506, 511, 512,\n",
       "        518, 529]),)"
      ]
     },
     "execution_count": 197,
     "metadata": {},
     "output_type": "execute_result"
    }
   ],
   "source": [
    "np.where(T_asec_2011_2019.sum(axis=1) == 0)"
   ]
  },
  {
   "cell_type": "code",
   "execution_count": 198,
   "id": "f1b61817",
   "metadata": {},
   "outputs": [
    {
     "data": {
      "text/plain": [
       "(533, 533)"
      ]
     },
     "execution_count": 198,
     "metadata": {},
     "output_type": "execute_result"
    }
   ],
   "source": [
    "T_asec_2011_2019.shape"
   ]
  },
  {
   "cell_type": "code",
   "execution_count": null,
   "id": "adb70dee",
   "metadata": {},
   "outputs": [],
   "source": [
    "np.savetxt(path_data + \"asec_11_19_avg_occ.csv\", T_asec_2011_2019, delimiter=\",\")"
   ]
  },
  {
   "cell_type": "code",
   "execution_count": 186,
   "id": "8d304bea",
   "metadata": {},
   "outputs": [
    {
     "data": {
      "text/plain": [
       "False"
      ]
     },
     "execution_count": 186,
     "metadata": {},
     "output_type": "execute_result"
    }
   ],
   "source": [
    "0 in to_remove_list"
   ]
  },
  {
   "cell_type": "code",
   "execution_count": 184,
   "id": "28f77870",
   "metadata": {},
   "outputs": [
    {
     "data": {
      "text/html": [
       "<div>\n",
       "<style scoped>\n",
       "    .dataframe tbody tr th:only-of-type {\n",
       "        vertical-align: middle;\n",
       "    }\n",
       "\n",
       "    .dataframe tbody tr th {\n",
       "        vertical-align: top;\n",
       "    }\n",
       "\n",
       "    .dataframe thead th {\n",
       "        text-align: right;\n",
       "    }\n",
       "</style>\n",
       "<table border=\"1\" class=\"dataframe\">\n",
       "  <thead>\n",
       "    <tr style=\"text-align: right;\">\n",
       "      <th></th>\n",
       "      <th>Code</th>\n",
       "      <th>Label</th>\n",
       "    </tr>\n",
       "  </thead>\n",
       "  <tbody>\n",
       "    <tr>\n",
       "      <th>0</th>\n",
       "      <td>0</td>\n",
       "      <td>Not in universe</td>\n",
       "    </tr>\n",
       "    <tr>\n",
       "      <th>1</th>\n",
       "      <td>10</td>\n",
       "      <td>Chief executives</td>\n",
       "    </tr>\n",
       "    <tr>\n",
       "      <th>2</th>\n",
       "      <td>20</td>\n",
       "      <td>General and operations managers</td>\n",
       "    </tr>\n",
       "    <tr>\n",
       "      <th>4</th>\n",
       "      <td>40</td>\n",
       "      <td>Advertising and promotions managers</td>\n",
       "    </tr>\n",
       "    <tr>\n",
       "      <th>5</th>\n",
       "      <td>50</td>\n",
       "      <td>Marketing and sales managers</td>\n",
       "    </tr>\n",
       "    <tr>\n",
       "      <th>...</th>\n",
       "      <td>...</td>\n",
       "      <td>...</td>\n",
       "    </tr>\n",
       "    <tr>\n",
       "      <th>564</th>\n",
       "      <td>9720</td>\n",
       "      <td>Refuse and recyclable material collectors</td>\n",
       "    </tr>\n",
       "    <tr>\n",
       "      <th>565</th>\n",
       "      <td>9730</td>\n",
       "      <td>Shuttle car operators</td>\n",
       "    </tr>\n",
       "    <tr>\n",
       "      <th>566</th>\n",
       "      <td>9740</td>\n",
       "      <td>Tank car truck and ship loaders</td>\n",
       "    </tr>\n",
       "    <tr>\n",
       "      <th>567</th>\n",
       "      <td>9750</td>\n",
       "      <td>Material moving workers all other</td>\n",
       "    </tr>\n",
       "    <tr>\n",
       "      <th>568</th>\n",
       "      <td>9840</td>\n",
       "      <td>Armed forces</td>\n",
       "    </tr>\n",
       "  </tbody>\n",
       "</table>\n",
       "<p>533 rows × 2 columns</p>\n",
       "</div>"
      ],
      "text/plain": [
       "     Code                                      Label\n",
       "0       0                            Not in universe\n",
       "1      10                           Chief executives\n",
       "2      20            General and operations managers\n",
       "4      40        Advertising and promotions managers\n",
       "5      50               Marketing and sales managers\n",
       "..    ...                                        ...\n",
       "564  9720  Refuse and recyclable material collectors\n",
       "565  9730                      Shuttle car operators\n",
       "566  9740            Tank car truck and ship loaders\n",
       "567  9750          Material moving workers all other\n",
       "568  9840                              Armed forces \n",
       "\n",
       "[533 rows x 2 columns]"
      ]
     },
     "execution_count": 184,
     "metadata": {},
     "output_type": "execute_result"
    }
   ],
   "source": [
    "df_occ"
   ]
  },
  {
   "cell_type": "code",
   "execution_count": null,
   "id": "2ea03119",
   "metadata": {},
   "outputs": [],
   "source": []
  },
  {
   "cell_type": "code",
   "execution_count": null,
   "id": "13f341bf",
   "metadata": {},
   "outputs": [],
   "source": []
  },
  {
   "cell_type": "markdown",
   "id": "74920792",
   "metadata": {},
   "source": [
    "## Get employment"
   ]
  },
  {
   "cell_type": "code",
   "execution_count": 39,
   "id": "9a5d6fea",
   "metadata": {},
   "outputs": [],
   "source": []
  },
  {
   "cell_type": "code",
   "execution_count": 41,
   "id": "398ce348",
   "metadata": {},
   "outputs": [],
   "source": []
  },
  {
   "cell_type": "code",
   "execution_count": 42,
   "id": "da439c70",
   "metadata": {},
   "outputs": [],
   "source": []
  },
  {
   "cell_type": "code",
   "execution_count": 43,
   "id": "673a99bb",
   "metadata": {},
   "outputs": [
    {
     "data": {
      "image/png": "[encoded data removed]",
      "text/plain": [
       "<Figure size 432x288 with 1 Axes>"
      ]
     },
     "metadata": {
      "needs_background": "light"
     },
     "output_type": "display_data"
    }
   ],
   "source": []
  },
  {
   "cell_type": "code",
   "execution_count": 44,
   "id": "5f928404",
   "metadata": {},
   "outputs": [],
   "source": []
  },
  {
   "cell_type": "code",
   "execution_count": null,
   "id": "7066111a",
   "metadata": {},
   "outputs": [],
   "source": []
  }
 ],
 "metadata": {
  "kernelspec": {
   "display_name": "Python 3",
   "language": "python",
   "name": "python3"
  },
  "language_info": {
   "codemirror_mode": {
    "name": "ipython",
    "version": 3
   },
   "file_extension": ".py",
   "mimetype": "text/x-python",
   "name": "python",
   "nbconvert_exporter": "python",
   "pygments_lexer": "ipython3",
   "version": "3.8.8"
  }
 },
 "nbformat": 4,
 "nbformat_minor": 5
}
