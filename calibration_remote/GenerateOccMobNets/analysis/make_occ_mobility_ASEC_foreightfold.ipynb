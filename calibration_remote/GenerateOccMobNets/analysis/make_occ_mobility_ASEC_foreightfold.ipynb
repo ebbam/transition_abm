{
 "cells": [
  {
   "cell_type": "markdown",
   "id": "33646eb4",
   "metadata": {},
   "source": [
    "Eightfold data spans from 01-01-2001 to 01-01-2020. We build an occupational mobility network from the same year spam"
   ]
  },
  {
   "cell_type": "code",
   "execution_count": 1,
   "id": "c75195d3",
   "metadata": {},
   "outputs": [],
   "source": [
    "import pandas as pd\n",
    "import random\n",
    "import numpy as np\n",
    "from matplotlib import pylab as plt\n",
    "import scipy.stats\n",
    "import copy\n",
    "from scipy.sparse import linalg as LA\n",
    "#import powerlaw\n",
    "# %matplotlib inline\n",
    "\n",
    "path_data = \"../data/\"\n",
    "path_fig = \"../results/fig/\"\n",
    "# cps file name\n",
    "file_asec = \"cpsasec_00001.csv\"\n",
    "# file_occ_soc_map = \"2010-occ-codes-soc-categories_clean.csv\"\n",
    "# used for CPS is \"occ2010_in_cps2019.csv\"\n",
    "file_occ_in_cps2010 = \"occ2010_cps_broad_class.csv\"\n",
    "# pkl file for asec\n",
    "file_asec_pkl = \"CPS_asec_df_occmob_summary.pkl\""
   ]
  },
  {
   "cell_type": "code",
   "execution_count": 2,
   "id": "a7b2291a",
   "metadata": {},
   "outputs": [
    {
     "data": {
      "text/html": [
       "<div>\n",
       "<style scoped>\n",
       "    .dataframe tbody tr th:only-of-type {\n",
       "        vertical-align: middle;\n",
       "    }\n",
       "\n",
       "    .dataframe tbody tr th {\n",
       "        vertical-align: top;\n",
       "    }\n",
       "\n",
       "    .dataframe thead th {\n",
       "        text-align: right;\n",
       "    }\n",
       "</style>\n",
       "<table border=\"1\" class=\"dataframe\">\n",
       "  <thead>\n",
       "    <tr style=\"text-align: right;\">\n",
       "      <th></th>\n",
       "      <th>Code</th>\n",
       "      <th>BroadClassification</th>\n",
       "      <th>Label</th>\n",
       "    </tr>\n",
       "  </thead>\n",
       "  <tbody>\n",
       "    <tr>\n",
       "      <th>0</th>\n",
       "      <td>10</td>\n",
       "      <td>MANAGEMENT, BUSINESS, SCIENCE, AND ARTS</td>\n",
       "      <td>Chief executives and legislators/public admini...</td>\n",
       "    </tr>\n",
       "    <tr>\n",
       "      <th>1</th>\n",
       "      <td>20</td>\n",
       "      <td>MANAGEMENT, BUSINESS, SCIENCE, AND ARTS</td>\n",
       "      <td>General and Operations Managers</td>\n",
       "    </tr>\n",
       "    <tr>\n",
       "      <th>2</th>\n",
       "      <td>30</td>\n",
       "      <td>MANAGEMENT, BUSINESS, SCIENCE, AND ARTS</td>\n",
       "      <td>Managers in Marketing, Advertising, and Public...</td>\n",
       "    </tr>\n",
       "    <tr>\n",
       "      <th>3</th>\n",
       "      <td>100</td>\n",
       "      <td>MANAGEMENT, BUSINESS, SCIENCE, AND ARTS</td>\n",
       "      <td>Administrative Services Managers</td>\n",
       "    </tr>\n",
       "    <tr>\n",
       "      <th>4</th>\n",
       "      <td>110</td>\n",
       "      <td>MANAGEMENT, BUSINESS, SCIENCE, AND ARTS</td>\n",
       "      <td>Computer and Information Systems Managers</td>\n",
       "    </tr>\n",
       "  </tbody>\n",
       "</table>\n",
       "</div>"
      ],
      "text/plain": [
       "   Code                      BroadClassification  \\\n",
       "0    10  MANAGEMENT, BUSINESS, SCIENCE, AND ARTS   \n",
       "1    20  MANAGEMENT, BUSINESS, SCIENCE, AND ARTS   \n",
       "2    30  MANAGEMENT, BUSINESS, SCIENCE, AND ARTS   \n",
       "3   100  MANAGEMENT, BUSINESS, SCIENCE, AND ARTS   \n",
       "4   110  MANAGEMENT, BUSINESS, SCIENCE, AND ARTS   \n",
       "\n",
       "                                               Label  \n",
       "0  Chief executives and legislators/public admini...  \n",
       "1                    General and Operations Managers  \n",
       "2  Managers in Marketing, Advertising, and Public...  \n",
       "3                   Administrative Services Managers  \n",
       "4          Computer and Information Systems Managers  "
      ]
     },
     "execution_count": 2,
     "metadata": {},
     "output_type": "execute_result"
    }
   ],
   "source": [
    "df_categories = pd.read_csv(path_data + file_occ_in_cps2010 )\n",
    "df_categories.head()"
   ]
  },
  {
   "cell_type": "code",
   "execution_count": 3,
   "id": "33396bcb",
   "metadata": {},
   "outputs": [],
   "source": [
    "# df_categories = pd.read_csv(path_data + file_occ_soc_map)\n",
    "# df_categories.head()\n",
    "occ_names = list(df_categories[\"Label\"])\n",
    "occ_codes = list(df_categories[\"Code\"])\n",
    "dict_code_index = {}\n",
    "for i in range(len(occ_codes)):\n",
    "    dict_code_index[occ_codes[i]] = i"
   ]
  },
  {
   "cell_type": "code",
   "execution_count": 4,
   "id": "5bc2b4a4",
   "metadata": {},
   "outputs": [],
   "source": [
    "df_asec = pd.read_pickle(path_data + file_asec_pkl)\n",
    "# df_asec_2019 = pd.read_pickle(path_data + \"CPS_asec_df_occmob_summary_2019.pkl\")"
   ]
  },
  {
   "cell_type": "markdown",
   "id": "0c0c32eb",
   "metadata": {},
   "source": [
    "### quick check asec and asec 2019"
   ]
  },
  {
   "cell_type": "code",
   "execution_count": 5,
   "id": "1c9719df",
   "metadata": {},
   "outputs": [
    {
     "ename": "NameError",
     "evalue": "name 'df_asec_2019' is not defined",
     "output_type": "error",
     "traceback": [
      "\u001b[0;31m---------------------------------------------------------------------------\u001b[0m",
      "\u001b[0;31mNameError\u001b[0m                                 Traceback (most recent call last)",
      "\u001b[0;32m<ipython-input-5-42aad484aba9>\u001b[0m in \u001b[0;36m<module>\u001b[0;34m\u001b[0m\n\u001b[1;32m      5\u001b[0m \u001b[0mdf_asec\u001b[0m \u001b[0;34m=\u001b[0m \u001b[0mdf_asec\u001b[0m\u001b[0;34m[\u001b[0m\u001b[0mdf_asec\u001b[0m\u001b[0;34m[\u001b[0m\u001b[0;34m\"YEAR\"\u001b[0m\u001b[0;34m]\u001b[0m \u001b[0;34m!=\u001b[0m \u001b[0;36m2021\u001b[0m\u001b[0;34m]\u001b[0m\u001b[0;34m\u001b[0m\u001b[0;34m\u001b[0m\u001b[0m\n\u001b[1;32m      6\u001b[0m \u001b[0;31m# same for 2019\u001b[0m\u001b[0;34m\u001b[0m\u001b[0;34m\u001b[0m\u001b[0;34m\u001b[0m\u001b[0m\n\u001b[0;32m----> 7\u001b[0;31m \u001b[0mdf_asec_2019\u001b[0m \u001b[0;34m=\u001b[0m \u001b[0mdf_asec_2019\u001b[0m\u001b[0;34m[\u001b[0m\u001b[0mdf_asec_2019\u001b[0m\u001b[0;34m[\u001b[0m\u001b[0;34m\"ASECWT\"\u001b[0m\u001b[0;34m]\u001b[0m\u001b[0;34m.\u001b[0m\u001b[0mnotna\u001b[0m\u001b[0;34m(\u001b[0m\u001b[0;34m)\u001b[0m\u001b[0;34m]\u001b[0m\u001b[0;34m\u001b[0m\u001b[0;34m\u001b[0m\u001b[0m\n\u001b[0m\u001b[1;32m      8\u001b[0m \u001b[0;31m# remove CPSIDP unless they are part of the asec over sample\u001b[0m\u001b[0;34m\u001b[0m\u001b[0;34m\u001b[0m\u001b[0;34m\u001b[0m\u001b[0m\n\u001b[1;32m      9\u001b[0m \u001b[0mdf_asec_2019\u001b[0m \u001b[0;34m=\u001b[0m \u001b[0mdf_asec_2019\u001b[0m\u001b[0;34m[\u001b[0m\u001b[0;34m(\u001b[0m\u001b[0mdf_asec_2019\u001b[0m\u001b[0;34m[\u001b[0m\u001b[0;34m\"CPSIDP\"\u001b[0m\u001b[0;34m]\u001b[0m \u001b[0;34m!=\u001b[0m \u001b[0;36m0\u001b[0m\u001b[0;34m)\u001b[0m \u001b[0;34m|\u001b[0m \u001b[0;34m(\u001b[0m\u001b[0mdf_asec_2019\u001b[0m\u001b[0;34m[\u001b[0m\u001b[0;34m\"ASECOVERP\"\u001b[0m\u001b[0;34m]\u001b[0m \u001b[0;34m==\u001b[0m \u001b[0;36m1\u001b[0m\u001b[0;34m)\u001b[0m\u001b[0;34m]\u001b[0m\u001b[0;34m\u001b[0m\u001b[0;34m\u001b[0m\u001b[0m\n",
      "\u001b[0;31mNameError\u001b[0m: name 'df_asec_2019' is not defined"
     ]
    }
   ],
   "source": [
    "df_asec = df_asec[df_asec[\"ASECWT\"].notna()]\n",
    "# remove CPSIDP unless they are part of the asec over sample\n",
    "df_asec = df_asec[(df_asec[\"CPSIDP\"] != 0) | (df_asec[\"ASECOVERP\"] == 1)] \n",
    "# Drop 2021\n",
    "df_asec = df_asec[df_asec[\"YEAR\"] != 2021]\n",
    "# same for 2019\n",
    "df_asec_2019 = df_asec_2019[df_asec_2019[\"ASECWT\"].notna()]\n",
    "# remove CPSIDP unless they are part of the asec over sample\n",
    "df_asec_2019 = df_asec_2019[(df_asec_2019[\"CPSIDP\"] != 0) | (df_asec_2019[\"ASECOVERP\"] == 1)] "
   ]
  },
  {
   "cell_type": "code",
   "execution_count": 6,
   "id": "e4df686e",
   "metadata": {},
   "outputs": [],
   "source": [
    "df_asec_2019_v2 = df_asec[df_asec[\"YEAR\"] == 2019]"
   ]
  },
  {
   "cell_type": "code",
   "execution_count": 7,
   "id": "2d687298",
   "metadata": {},
   "outputs": [
    {
     "ename": "NameError",
     "evalue": "name 'df_asec_2019' is not defined",
     "output_type": "error",
     "traceback": [
      "\u001b[0;31m---------------------------------------------------------------------------\u001b[0m",
      "\u001b[0;31mNameError\u001b[0m                                 Traceback (most recent call last)",
      "\u001b[0;32m<ipython-input-7-fd30b4912d4d>\u001b[0m in \u001b[0;36m<module>\u001b[0;34m\u001b[0m\n\u001b[0;32m----> 1\u001b[0;31m \u001b[0mdf_asec_2019\u001b[0m\u001b[0;34m[\u001b[0m\u001b[0;34m\"ChangeOcc\"\u001b[0m\u001b[0;34m]\u001b[0m \u001b[0;34m=\u001b[0m \u001b[0mdf_asec_2019\u001b[0m\u001b[0;34m[\u001b[0m\u001b[0;34m\"OCC2010\"\u001b[0m\u001b[0;34m]\u001b[0m \u001b[0;34m!=\u001b[0m \u001b[0mdf_asec_2019\u001b[0m\u001b[0;34m[\u001b[0m\u001b[0;34m\"OCC10LY\"\u001b[0m\u001b[0;34m]\u001b[0m\u001b[0;34m\u001b[0m\u001b[0;34m\u001b[0m\u001b[0m\n\u001b[0m\u001b[1;32m      2\u001b[0m \u001b[0mdf_asec_2019\u001b[0m\u001b[0;34m[\u001b[0m\u001b[0;34m\"ChangeOccWT\"\u001b[0m\u001b[0;34m]\u001b[0m \u001b[0;34m=\u001b[0m \u001b[0mdf_asec_2019\u001b[0m\u001b[0;34m[\u001b[0m\u001b[0;34m\"ChangeOcc\"\u001b[0m\u001b[0;34m]\u001b[0m \u001b[0;34m*\u001b[0m \u001b[0mdf_asec_2019\u001b[0m\u001b[0;34m[\u001b[0m\u001b[0;34m\"ASECWT\"\u001b[0m\u001b[0;34m]\u001b[0m\u001b[0;34m\u001b[0m\u001b[0;34m\u001b[0m\u001b[0m\n",
      "\u001b[0;31mNameError\u001b[0m: name 'df_asec_2019' is not defined"
     ]
    }
   ],
   "source": [
    "df_asec_2019[\"ChangeOcc\"] = df_asec_2019[\"OCC2010\"] != df_asec_2019[\"OCC10LY\"]\n",
    "df_asec_2019[\"ChangeOccWT\"] = df_asec_2019[\"ChangeOcc\"] * df_asec_2019[\"ASECWT\"]"
   ]
  },
  {
   "cell_type": "code",
   "execution_count": 36,
   "id": "9a524d89",
   "metadata": {},
   "outputs": [
    {
     "name": "stdout",
     "output_type": "stream",
     "text": [
      "Workforce estimation (millions)  163.00103038999998\n",
      "People that changed occupaiton (millions)  25.82486389\n",
      "Percentage of workforce that switched occupation in a year  0.15843374626657783\n"
     ]
    }
   ],
   "source": [
    "print(\"Workforce estimation (millions) \", df_asec_2019[\"ASECWT\"].sum()/1e6)\n",
    "print(\"People that changed occupaiton (millions) \", df_asec_2019[\"ChangeOccWT\"].sum()/1e6)\n",
    "print(\"Percentage of workforce that switched occupation in a year \", df_asec_2019[\"ChangeOccWT\"].sum()/df_asec_2019[\"ASECWT\"].sum())"
   ]
  },
  {
   "cell_type": "code",
   "execution_count": 37,
   "id": "1b37a4c4",
   "metadata": {},
   "outputs": [
    {
     "name": "stderr",
     "output_type": "stream",
     "text": [
      "<ipython-input-37-d34464c58ae6>:1: SettingWithCopyWarning: \n",
      "A value is trying to be set on a copy of a slice from a DataFrame.\n",
      "Try using .loc[row_indexer,col_indexer] = value instead\n",
      "\n",
      "See the caveats in the documentation: https://pandas.pydata.org/pandas-docs/stable/user_guide/indexing.html#returning-a-view-versus-a-copy\n",
      "  df_asec_2019_v2[\"ChangeOcc\"] = df_asec_2019_v2[\"OCC2010\"] != df_asec_2019_v2[\"OCC10LY\"]\n",
      "<ipython-input-37-d34464c58ae6>:2: SettingWithCopyWarning: \n",
      "A value is trying to be set on a copy of a slice from a DataFrame.\n",
      "Try using .loc[row_indexer,col_indexer] = value instead\n",
      "\n",
      "See the caveats in the documentation: https://pandas.pydata.org/pandas-docs/stable/user_guide/indexing.html#returning-a-view-versus-a-copy\n",
      "  df_asec_2019_v2[\"ChangeOccWT\"] = df_asec_2019_v2[\"ChangeOcc\"] * df_asec_2019_v2[\"ASECWT\"]\n"
     ]
    }
   ],
   "source": [
    "df_asec_2019_v2[\"ChangeOcc\"] = df_asec_2019_v2[\"OCC2010\"] != df_asec_2019_v2[\"OCC10LY\"]\n",
    "df_asec_2019_v2[\"ChangeOccWT\"] = df_asec_2019_v2[\"ChangeOcc\"] * df_asec_2019_v2[\"ASECWT\"]"
   ]
  },
  {
   "cell_type": "markdown",
   "id": "1650848a",
   "metadata": {},
   "source": [
    "**note the lines before count transitions from unemployed, military, etc.**"
   ]
  },
  {
   "cell_type": "code",
   "execution_count": 38,
   "id": "39208397",
   "metadata": {},
   "outputs": [
    {
     "name": "stdout",
     "output_type": "stream",
     "text": [
      "Workforce estimation (millions)  163.00103038999998\n",
      "People that changed occupaiton (millions)  25.82486389\n",
      "Percentage of workforce that switched occupation in a year  0.15843374626657783\n"
     ]
    }
   ],
   "source": [
    "print(\"Workforce estimation (millions) \", df_asec_2019_v2[\"ASECWT\"].sum()/1e6)\n",
    "print(\"People that changed occupaiton (millions) \", df_asec_2019_v2[\"ChangeOccWT\"].sum()/1e6)\n",
    "print(\"Percentage of workforce that switched occupation in a year \", df_asec_2019_v2[\"ChangeOccWT\"].sum()/df_asec_2019_v2[\"ASECWT\"].sum())"
   ]
  },
  {
   "cell_type": "markdown",
   "id": "799f33a7",
   "metadata": {},
   "source": [
    "### close check"
   ]
  },
  {
   "cell_type": "code",
   "execution_count": 9,
   "id": "9cef319e",
   "metadata": {},
   "outputs": [],
   "source": [
    "df_asec = df_asec[df_asec[\"ASECWT\"].notna()]\n",
    "# remove CPSIDP unless they are part of the asec over sample\n",
    "df_asec = df_asec[(df_asec[\"CPSIDP\"] != 0) | (df_asec[\"ASECOVERP\"] == 1)] \n",
    "# Drop 2021\n",
    "df_asec = df_asec[df_asec[\"YEAR\"] != 2021]"
   ]
  },
  {
   "cell_type": "code",
   "execution_count": 10,
   "id": "dbb8342b",
   "metadata": {},
   "outputs": [],
   "source": [
    "df_asec = df_asec[(df_asec[\"ASECWT\"].notna()) & (df_asec[\"OCC2010\"] != 9999) & (df_asec[\"OCC10LY\"] != 9999)\\\n",
    "                 & (df_asec[\"OCC2010\"] != 9920) & (df_asec[\"OCC10LY\"] != 9920)] "
   ]
  },
  {
   "cell_type": "code",
   "execution_count": 11,
   "id": "32cdc62b",
   "metadata": {},
   "outputs": [],
   "source": [
    "occ_asec = set(df_asec[\"OCC2010\"].unique())\n",
    "occ_cps_form = set(df_categories[\"Code\"])"
   ]
  },
  {
   "cell_type": "code",
   "execution_count": 12,
   "id": "694db825",
   "metadata": {},
   "outputs": [
    {
     "name": "stdout",
     "output_type": "stream",
     "text": [
      "in ASEC but not in the other list set()\n",
      "in list but not ASEC {9920, 9800, 1980, 9810, 9820}\n"
     ]
    }
   ],
   "source": [
    "print(\"in ASEC but not in the other list\", occ_asec.difference(occ_cps_form))\n",
    "print(\"in list but not ASEC\", occ_cps_form.difference(occ_asec))\n",
    "#NOTE this is other way around than in CPS, should probably check list again\n",
    "to_remove_list = occ_cps_form.difference(occ_asec)\n",
    "to_remove_asec = occ_asec.difference(occ_cps_form)\n",
    "df_categories = df_categories[~df_categories['Code'].isin(to_remove_list)]\n",
    "df_asec = df_asec[~df_asec['OCC2010'].isin(to_remove_asec)]\n",
    "df_asec = df_asec[~df_asec['OCC10LY'].isin(to_remove_asec)]"
   ]
  },
  {
   "cell_type": "code",
   "execution_count": 13,
   "id": "277f1985",
   "metadata": {},
   "outputs": [
    {
     "data": {
      "text/plain": [
       "Index(['YEAR', 'SERIAL', 'MONTH', 'CPSID', 'ASECFLAG', 'HFLAG', 'CPSIDP',\n",
       "       'ASECWT', 'AGE', 'SEX', 'RACE', 'HISPAN', 'EMPSTAT', 'LABFORCE', 'OCC',\n",
       "       'OCC2010', 'IND', 'EMPSAME', 'ASECOVERP', 'OCCLY', 'OCC10LY', 'QOCCLY'],\n",
       "      dtype='object')"
      ]
     },
     "execution_count": 13,
     "metadata": {},
     "output_type": "execute_result"
    }
   ],
   "source": [
    "df_asec.columns"
   ]
  },
  {
   "cell_type": "code",
   "execution_count": 14,
   "id": "c8b36125",
   "metadata": {},
   "outputs": [],
   "source": [
    "years = df_asec[\"YEAR\"].unique()\n",
    "n_years = len(years)"
   ]
  },
  {
   "cell_type": "code",
   "execution_count": 15,
   "id": "a58993d1",
   "metadata": {},
   "outputs": [
    {
     "name": "stdout",
     "output_type": "stream",
     "text": [
      "Average labor force 2000-2020 using ASECWT (million workers) 153.15937275714285\n"
     ]
    }
   ],
   "source": [
    "print( \"Average labor force 2000-2020 using ASECWT (million workers)\", df_asec[\"ASECWT\"].sum()/(1e6*n_years))"
   ]
  },
  {
   "cell_type": "code",
   "execution_count": 17,
   "id": "a991d9ff",
   "metadata": {},
   "outputs": [],
   "source": [
    "df_asec_2001_2019 = df_asec[df_asec[\"YEAR\"].isin([i for i in range(2001, 2020)])]"
   ]
  },
  {
   "cell_type": "code",
   "execution_count": 18,
   "id": "fcb2493d",
   "metadata": {},
   "outputs": [
    {
     "name": "stderr",
     "output_type": "stream",
     "text": [
      "<ipython-input-18-818f0a69a987>:1: SettingWithCopyWarning: \n",
      "A value is trying to be set on a copy of a slice from a DataFrame.\n",
      "Try using .loc[row_indexer,col_indexer] = value instead\n",
      "\n",
      "See the caveats in the documentation: https://pandas.pydata.org/pandas-docs/stable/user_guide/indexing.html#returning-a-view-versus-a-copy\n",
      "  df_asec_2001_2019[\"ChangeOcc\"] = df_asec_2001_2019[\"OCC2010\"] != df_asec_2001_2019[\"OCC10LY\"]\n",
      "<ipython-input-18-818f0a69a987>:2: SettingWithCopyWarning: \n",
      "A value is trying to be set on a copy of a slice from a DataFrame.\n",
      "Try using .loc[row_indexer,col_indexer] = value instead\n",
      "\n",
      "See the caveats in the documentation: https://pandas.pydata.org/pandas-docs/stable/user_guide/indexing.html#returning-a-view-versus-a-copy\n",
      "  df_asec_2001_2019[\"ChangeOccWT\"] = df_asec_2001_2019[\"ChangeOcc\"] * df_asec_2001_2019[\"ASECWT\"]\n"
     ]
    }
   ],
   "source": [
    "df_asec_2001_2019[\"ChangeOcc\"] = df_asec_2001_2019[\"OCC2010\"] != df_asec_2001_2019[\"OCC10LY\"]\n",
    "df_asec_2001_2019[\"ChangeOccWT\"] = df_asec_2001_2019[\"ChangeOcc\"] * df_asec_2001_2019[\"ASECWT\"]"
   ]
  },
  {
   "cell_type": "code",
   "execution_count": 19,
   "id": "fbac24a8",
   "metadata": {},
   "outputs": [
    {
     "name": "stdout",
     "output_type": "stream",
     "text": [
      "Workforce estimation (millions)  2923.514889960002\n",
      "People that changed occupaiton (millions)  323.31041977999996\n",
      "Percentage of workforce that switched occupation in a year  0.11058962651099183\n"
     ]
    }
   ],
   "source": [
    "print(\"Workforce estimation (millions) \", df_asec_2001_2019[\"ASECWT\"].sum()/1e6)\n",
    "print(\"People that changed occupaiton (millions) \", df_asec_2001_2019[\"ChangeOccWT\"].sum()/1e6)\n",
    "print(\"Percentage of workforce that switched occupation in a year \", df_asec_2001_2019[\"ChangeOccWT\"].sum()/df_asec_2001_2019[\"ASECWT\"].sum())"
   ]
  },
  {
   "cell_type": "code",
   "execution_count": 21,
   "id": "2468d6e2",
   "metadata": {},
   "outputs": [],
   "source": [
    "def occ_mob_asec(df, dict_code_index, norm):\n",
    "    \"\"\"Makes occupational mobiltiy network from ASEC\n",
    "    \"\"\"\n",
    "    # make empty matrix\n",
    "    n = len(dict_code_index)\n",
    "    A = np.zeros([n, n])\n",
    "    # fill whenver there is a transition\n",
    "    for index, row in df.iterrows():\n",
    "        if row[\"OCC2010\"] != row[\"OCC10LY\"]:\n",
    "            i, j = dict_code_index[(row[\"OCC10LY\"])], dict_code_index[row[\"OCC2010\"]]\n",
    "            A[i, j] += row[\"ASECWT\"]/norm # consider ASEC weights\n",
    "    \n",
    "    return A"
   ]
  },
  {
   "cell_type": "code",
   "execution_count": 25,
   "id": "dec45388",
   "metadata": {},
   "outputs": [],
   "source": [
    "# T_asec = occ_mob_asec(df_asec, dict_code_index, norm=len([i for i in range(2000, 2021)]))"
   ]
  },
  {
   "cell_type": "code",
   "execution_count": 26,
   "id": "921304c7",
   "metadata": {},
   "outputs": [],
   "source": [
    "# T_asec_2010_2019 = occ_mob_asec(df_asec_2010_2019, dict_code_index, norm=len([i for i in range(2010, 2020)]))"
   ]
  },
  {
   "cell_type": "code",
   "execution_count": 22,
   "id": "8ef7c7ed",
   "metadata": {},
   "outputs": [],
   "source": [
    "#T_asec_2001_2019_norm = occ_mob_asec(df_asec_2001_2019, dict_code_index, norm=len([i for i in range(2001, 2020)]))\n",
    "T_asec_2001_2019_raw = occ_mob_asec(df_asec_2001_2019, dict_code_index, norm=1)"
   ]
  },
  {
   "cell_type": "code",
   "execution_count": 25,
   "id": "efaee796",
   "metadata": {},
   "outputs": [
    {
     "name": "stdout",
     "output_type": "stream",
     "text": [
      "Mean share of population transitioning 2010-2019  0.11058962651099184\n"
     ]
    }
   ],
   "source": [
    "print(\"Mean share of population transitioning 2010-2019 \", T_asec_2001_2019_raw.sum()/df_asec_2001_2019[\"ASECWT\"].sum())"
   ]
  },
  {
   "cell_type": "code",
   "execution_count": 27,
   "id": "fe93d626",
   "metadata": {},
   "outputs": [],
   "source": [
    "np.savetxt(path_data + \"asec_01_19_alltransitions.csv\", T_asec_2001_2019_raw, delimiter=\",\")"
   ]
  },
  {
   "cell_type": "code",
   "execution_count": 28,
   "id": "d9da59da",
   "metadata": {},
   "outputs": [
    {
     "name": "stdout",
     "output_type": "stream",
     "text": [
      "Workforce estimation (millions)  2923.514889960002\n"
     ]
    }
   ],
   "source": [
    "print(\"Workforce estimation (millions) \", df_asec_2001_2019[\"ASECWT\"].sum()/1e6)"
   ]
  },
  {
   "cell_type": "code",
   "execution_count": 28,
   "id": "b30d96c4",
   "metadata": {},
   "outputs": [
    {
     "name": "stdout",
     "output_type": "stream",
     "text": [
      "12074171.959999999 143884187.69\n",
      "Mean share of population transitioning  2010 0.08391590593689092\n",
      "12910832.840000004 142915509.42999998\n",
      "Mean share of population transitioning  2011 0.09033892046771684\n",
      "13071923.609999998 144156608.02999997\n",
      "Mean share of population transitioning  2012 0.09067862922579062\n",
      "13855691.859999998 145637195.69\n",
      "Mean share of population transitioning  2013 0.09513841429282191\n",
      "32572014.770000003 294653613.66999996\n",
      "Mean share of population transitioning  2014 0.11054340845953219\n",
      "16668051.44 148903539.27\n",
      "Mean share of population transitioning  2015 0.11193858468183607\n",
      "18095611.6 152218548.07999998\n",
      "Mean share of population transitioning  2016 0.11887914993440662\n",
      "17221669.389999997 153486996.5\n",
      "Mean share of population transitioning  2017 0.11220279100321047\n",
      "20062647.090000007 155450422.95000002\n",
      "Mean share of population transitioning  2018 0.12906138632027445\n",
      "19976378.409999993 156606898.17\n",
      "Mean share of population transitioning  2019 0.12755746166631324\n"
     ]
    }
   ],
   "source": [
    "for y in range(2010,2020):\n",
    "    df_asec_year = df_asec[df_asec[\"YEAR\"] == y]\n",
    "    T = occ_mob_asec(df_asec_year, dict_code_index, norm=1)\n",
    "    print(T.sum(), df_asec_year[\"ASECWT\"].sum())\n",
    "    print(\"Mean share of population transitioning \", y, T.sum()/df_asec_year[\"ASECWT\"].sum())"
   ]
  },
  {
   "cell_type": "code",
   "execution_count": 136,
   "id": "8b38aa2a",
   "metadata": {},
   "outputs": [],
   "source": [
    "# np.savetxt(path_data + \"asec_00_20_avg.csv\", T_asec, delimiter=\",\")\n",
    "np.savetxt(path_data + \"asec_01_19_avg.csv\", T_asec_2001_2019, delimiter=\",\")"
   ]
  },
  {
   "cell_type": "code",
   "execution_count": 126,
   "id": "9e5e4338",
   "metadata": {},
   "outputs": [],
   "source": [
    "df_categories.to_csv(path_data + \"occ_names_class_asec.csv\", index=False)"
   ]
  },
  {
   "cell_type": "markdown",
   "id": "f939fc0d",
   "metadata": {},
   "source": [
    "## Get employment"
   ]
  },
  {
   "cell_type": "code",
   "execution_count": 39,
   "id": "08e0b040",
   "metadata": {},
   "outputs": [],
   "source": [
    "df_asec_2019 = df_asec_2010_2019[df_asec_2010_2019[\"YEAR\"] == 2019]"
   ]
  },
  {
   "cell_type": "code",
   "execution_count": 41,
   "id": "cad93351",
   "metadata": {},
   "outputs": [],
   "source": [
    "dict_occ_emp_2019 = {}\n",
    "dict_occ_emp_2010_2019 = {}\n",
    "for index, row in df_categories.iterrows():\n",
    "    #dict_occ_emp[row[\"Code\"]] = 0\n",
    "    dict_occ_emp_2019[row[\"Code\"]] = 0\n",
    "    dict_occ_emp_2010_2019[row[\"Code\"]] = 0\n",
    "    \n",
    "for index, row in df_asec_2019.iterrows():\n",
    "    dict_occ_emp_2019[row[\"OCC2010\"]] += row[\"ASECWT\"]\n",
    "    \n",
    "for index, row in df_asec_2010_2019.iterrows():\n",
    "    dict_occ_emp_2010_2019[row[\"OCC2010\"]] += row[\"ASECWT\"]/10"
   ]
  },
  {
   "cell_type": "code",
   "execution_count": 42,
   "id": "6ddd0407",
   "metadata": {},
   "outputs": [],
   "source": [
    "df_categories[\"EMP_2019\"] = df_categories[\"Code\"].map(dict_occ_emp_2019)\n",
    "df_categories[\"EMP_2010_2019_avg\"] = df_categories[\"Code\"].map(dict_occ_emp_2010_2019)"
   ]
  },
  {
   "cell_type": "code",
   "execution_count": 43,
   "id": "55af633c",
   "metadata": {},
   "outputs": [
    {
     "data": {
      "image/png": "[encoded data removed]",
      "text/plain": [
       "<Figure size 432x288 with 1 Axes>"
      ]
     },
     "metadata": {
      "needs_background": "light"
     },
     "output_type": "display_data"
    }
   ],
   "source": [
    "plt.scatter(df_categories[\"EMP_2019\"], df_categories[\"EMP_2010_2019_avg\"])\n",
    "plt.show()"
   ]
  },
  {
   "cell_type": "code",
   "execution_count": 44,
   "id": "0006e5aa",
   "metadata": {},
   "outputs": [],
   "source": [
    "df_categories.to_csv(path_data + \"occ_names_employment_asec.csv\", index=False)"
   ]
  },
  {
   "cell_type": "code",
   "execution_count": null,
   "id": "890889e2",
   "metadata": {},
   "outputs": [],
   "source": []
  }
 ],
 "metadata": {
  "kernelspec": {
   "display_name": "Python 3",
   "language": "python",
   "name": "python3"
  },
  "language_info": {
   "codemirror_mode": {
    "name": "ipython",
    "version": 3
   },
   "file_extension": ".py",
   "mimetype": "text/x-python",
   "name": "python",
   "nbconvert_exporter": "python",
   "pygments_lexer": "ipython3",
   "version": "3.8.8"
  }
 },
 "nbformat": 4,
 "nbformat_minor": 5
}
