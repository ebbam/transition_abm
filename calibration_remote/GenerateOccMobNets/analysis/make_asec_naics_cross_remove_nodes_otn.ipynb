{
 "cells": [
  {
   "cell_type": "markdown",
   "id": "1fe29009",
   "metadata": {},
   "source": [
    "In this code we take the occupation codes in the ASEC 2010-2019 transitions networks and find their SOC match using the crosslwalk available here for OCC2010 codes\n",
    "https://www.census.gov/topics/employment/industry-occupation/guidance/code-lists.html\n",
    "\n",
    "There are occupaitons that do now have a match with the NAICS codes. We remove this nodes from the network. "
   ]
  },
  {
   "cell_type": "code",
   "execution_count": 101,
   "id": "d1a06bc0",
   "metadata": {},
   "outputs": [],
   "source": [
    "import pandas as pd\n",
    "import random\n",
    "import numpy as np\n",
    "from matplotlib import pylab as plt\n",
    "import scipy.stats\n",
    "import copy\n",
    "from scipy.sparse import linalg as LA\n",
    "import networkx as nx"
   ]
  },
  {
   "cell_type": "code",
   "execution_count": 102,
   "id": "b70aae13",
   "metadata": {},
   "outputs": [],
   "source": [
    "A = np.genfromtxt(path_data + \"asec_10_19_avg.csv\", delimiter=',')\n",
    "G = nx.from_numpy_array(A, create_using=nx.DiGraph())"
   ]
  },
  {
   "cell_type": "code",
   "execution_count": 105,
   "id": "158097e4",
   "metadata": {},
   "outputs": [
    {
     "data": {
      "text/plain": [
       "True"
      ]
     },
     "execution_count": 105,
     "metadata": {},
     "output_type": "execute_result"
    }
   ],
   "source": [
    "nx.is_strongly_connected(G)"
   ]
  },
  {
   "cell_type": "code",
   "execution_count": 106,
   "id": "2f1693ed",
   "metadata": {},
   "outputs": [
    {
     "data": {
      "text/plain": [
       "442"
      ]
     },
     "execution_count": 106,
     "metadata": {},
     "output_type": "execute_result"
    }
   ],
   "source": [
    "len(A)"
   ]
  },
  {
   "cell_type": "code",
   "execution_count": 107,
   "id": "36fc4b29",
   "metadata": {},
   "outputs": [],
   "source": [
    "path_data = \"../data/\"\n",
    "file_occ_soc_map  = \"2010-occ-codes-soc-categories_clean.csv\"\n",
    "file_occ_in_asec = \"occ_names_class_asec.csv\"\n",
    "file_occ_in_asec_emp = \"occ_names_employment_asec.csv\""
   ]
  },
  {
   "cell_type": "code",
   "execution_count": 108,
   "id": "3ba54eab",
   "metadata": {},
   "outputs": [],
   "source": [
    "# categories 2010\n",
    "df_asec = pd.read_csv(path_data + file_occ_in_asec)\n",
    "df_crosswalk = pd.read_csv(path_data + file_occ_soc_map)\n",
    "df_crosswalk[\"2010 SOC Code\"] = df_crosswalk[\"2010 SOC Code\"].str.strip()\n",
    "dict_aseccode_name = dict(zip(df_asec[\"Code\"], df_asec[\"Label\"]))\n",
    "dict_occ_soc = dict(zip(df_crosswalk[\"2010 Census Code\"], df_crosswalk[\"2010 SOC Code\"]))"
   ]
  },
  {
   "cell_type": "code",
   "execution_count": 109,
   "id": "5b516619",
   "metadata": {},
   "outputs": [],
   "source": [
    "dict_occ_soc;"
   ]
  },
  {
   "cell_type": "code",
   "execution_count": 111,
   "id": "bef6eeed",
   "metadata": {},
   "outputs": [
    {
     "data": {
      "text/plain": [
       "True"
      ]
     },
     "execution_count": 111,
     "metadata": {},
     "output_type": "execute_result"
    }
   ],
   "source": [
    "560 in codes_asec"
   ]
  },
  {
   "cell_type": "code",
   "execution_count": 112,
   "id": "a65e5325",
   "metadata": {},
   "outputs": [
    {
     "data": {
      "text/plain": [
       "{130,\n",
       " 560,\n",
       " 620,\n",
       " 720,\n",
       " 730,\n",
       " 1000,\n",
       " 1100,\n",
       " 1960,\n",
       " 2020,\n",
       " 2140,\n",
       " 2150,\n",
       " 3130,\n",
       " 3240,\n",
       " 3410,\n",
       " 3530,\n",
       " 3650,\n",
       " 3950,\n",
       " 8230,\n",
       " 9100,\n",
       " 9830}"
      ]
     },
     "execution_count": 112,
     "metadata": {},
     "output_type": "execute_result"
    }
   ],
   "source": [
    "codes_asec.difference(codes_crosswalk)"
   ]
  },
  {
   "cell_type": "code",
   "execution_count": 113,
   "id": "edfcdcfd",
   "metadata": {},
   "outputs": [],
   "source": [
    "# make mappings for those occupations that have correspondance to more levels\n",
    "one_to_many_asec_cros = {}\n",
    "one_to_many_asec_naics_many = {}\n",
    "for c_asec in codes_asec.difference(codes_crosswalk):\n",
    "    one_to_many_asec_cros[c_asec] = []\n",
    "    one_to_many_asec_naics_many[c_asec] = []\n",
    "    for c_cros in codes_crosswalk.difference(codes_asec):\n",
    "        if len(str(c_asec)) == len(str(c_cros)):\n",
    "            if str(c_asec)[:-1] == str(c_cros)[:-1]:\n",
    "                one_to_many_asec_cros[c_asec].append(c_cros)\n",
    "                one_to_many_asec_naics_many[c_asec] = one_to_many_asec_naics_many[c_asec] + [dict_occ_soc[c_cros]]"
   ]
  },
  {
   "cell_type": "code",
   "execution_count": 114,
   "id": "1df6626a",
   "metadata": {},
   "outputs": [
    {
     "data": {
      "text/plain": [
       "{130: [135, 136, 137],\n",
       " 9100: [],\n",
       " 8230: [],\n",
       " 1960: [1965],\n",
       " 3240: [3245],\n",
       " 560: [565],\n",
       " 3130: [],\n",
       " 3650: [3655],\n",
       " 3530: [3535],\n",
       " 1100: [1105, 1106, 1107],\n",
       " 720: [725, 726],\n",
       " 3410: [],\n",
       " 730: [735],\n",
       " 2140: [2145],\n",
       " 2020: [2025],\n",
       " 2150: [],\n",
       " 9830: [],\n",
       " 1000: [1005, 1006, 1007],\n",
       " 620: [],\n",
       " 3950: [3955]}"
      ]
     },
     "execution_count": 114,
     "metadata": {},
     "output_type": "execute_result"
    }
   ],
   "source": [
    "one_to_many_asec_cros"
   ]
  },
  {
   "cell_type": "code",
   "execution_count": 115,
   "id": "8a4a4db2",
   "metadata": {},
   "outputs": [],
   "source": [
    "# For those that map into only one naics code, add the map\n",
    "additional_maps = {}\n",
    "for code, mapping in one_to_many_asec_naics_many.items():\n",
    "    if len(mapping) == 1:\n",
    "        additional_maps[code] = mapping[0]"
   ]
  },
  {
   "cell_type": "code",
   "execution_count": 117,
   "id": "da94a49e",
   "metadata": {},
   "outputs": [
    {
     "name": "stdout",
     "output_type": "stream",
     "text": [
      "130 ['11-3111', '11-3121', '11-3131']\n",
      "1100 ['15-1142', '15-1143', '15-1199']\n",
      "720 ['13-1121', '13-1131']\n",
      "1000 ['15-1111', '15-1121', '15-1122']\n"
     ]
    }
   ],
   "source": [
    "# For those that have more than one map, let's do it manually\n",
    "for code, mapping in one_to_many_asec_naics_many.items():\n",
    "    if len(mapping) > 1:\n",
    "        print(code, one_to_many_asec_naics_many[code])"
   ]
  },
  {
   "cell_type": "code",
   "execution_count": 118,
   "id": "def5ba47",
   "metadata": {},
   "outputs": [],
   "source": [
    "manual_maps = {130:'11-31XX', 720:'13-1121', 1000:'15-112X',1100:'15-114X' }"
   ]
  },
  {
   "cell_type": "code",
   "execution_count": 119,
   "id": "b1a07fde",
   "metadata": {},
   "outputs": [
    {
     "name": "stdout",
     "output_type": "stream",
     "text": [
      "9100 Bus and Ambulance Drivers and Attendants\n",
      "8230 Bookbinders, Printing Machine Operators, and Job Printers\n",
      "3130 Registered Nurses\n",
      "3410 Health Diagnosing and Treating Practitioner Support Technicians\n",
      "2150 Legal Support Workers, nec\n",
      "9830 Military, Rank Not Specified\n",
      "620 Human Resources, Training, and Labor Relations Specialists\n"
     ]
    }
   ],
   "source": [
    "# occupations without a match\n",
    "no_match = []\n",
    "for key, val in one_to_many_asec_cros.items():\n",
    "    if val == []:\n",
    "        print(key, dict_aseccode_name[key])\n",
    "        no_match.append(key)"
   ]
  },
  {
   "cell_type": "code",
   "execution_count": 120,
   "id": "ecfbcdd3",
   "metadata": {},
   "outputs": [],
   "source": [
    "additional_maps = {**additional_maps, **manual_maps}"
   ]
  },
  {
   "cell_type": "code",
   "execution_count": 122,
   "id": "17b5672b",
   "metadata": {},
   "outputs": [],
   "source": [
    "dict_occ_soc = {**dict_occ_soc, **additional_maps}"
   ]
  },
  {
   "cell_type": "code",
   "execution_count": 123,
   "id": "f7cc621d",
   "metadata": {},
   "outputs": [],
   "source": [
    "df_asec[\"soc_code\"] = df_asec[\"Code\"].map(dict_occ_soc)"
   ]
  },
  {
   "cell_type": "code",
   "execution_count": 124,
   "id": "4c03cf5f",
   "metadata": {},
   "outputs": [
    {
     "data": {
      "text/html": [
       "<div>\n",
       "<style scoped>\n",
       "    .dataframe tbody tr th:only-of-type {\n",
       "        vertical-align: middle;\n",
       "    }\n",
       "\n",
       "    .dataframe tbody tr th {\n",
       "        vertical-align: top;\n",
       "    }\n",
       "\n",
       "    .dataframe thead th {\n",
       "        text-align: right;\n",
       "    }\n",
       "</style>\n",
       "<table border=\"1\" class=\"dataframe\">\n",
       "  <thead>\n",
       "    <tr style=\"text-align: right;\">\n",
       "      <th></th>\n",
       "      <th>Code</th>\n",
       "      <th>BroadClassification</th>\n",
       "      <th>Label</th>\n",
       "      <th>soc_code</th>\n",
       "    </tr>\n",
       "  </thead>\n",
       "  <tbody>\n",
       "    <tr>\n",
       "      <th>28</th>\n",
       "      <td>620</td>\n",
       "      <td>BUSINESS OPERATIONS SPECIALISTS</td>\n",
       "      <td>Human Resources, Training, and Labor Relations...</td>\n",
       "      <td>NaN</td>\n",
       "    </tr>\n",
       "    <tr>\n",
       "      <th>97</th>\n",
       "      <td>2150</td>\n",
       "      <td>LEGAL</td>\n",
       "      <td>Legal Support Workers, nec</td>\n",
       "      <td>NaN</td>\n",
       "    </tr>\n",
       "    <tr>\n",
       "      <th>132</th>\n",
       "      <td>3130</td>\n",
       "      <td>HEALTHCARE PRACTITIONERS AND TECHNICAL</td>\n",
       "      <td>Registered Nurses</td>\n",
       "      <td>NaN</td>\n",
       "    </tr>\n",
       "    <tr>\n",
       "      <th>147</th>\n",
       "      <td>3410</td>\n",
       "      <td>HEALTHCARE PRACTITIONERS AND TECHNICAL</td>\n",
       "      <td>Health Diagnosing and Treating Practitioner Su...</td>\n",
       "      <td>NaN</td>\n",
       "    </tr>\n",
       "    <tr>\n",
       "      <th>373</th>\n",
       "      <td>8230</td>\n",
       "      <td>PRODUCTION</td>\n",
       "      <td>Bookbinders, Printing Machine Operators, and J...</td>\n",
       "      <td>NaN</td>\n",
       "    </tr>\n",
       "    <tr>\n",
       "      <th>417</th>\n",
       "      <td>9100</td>\n",
       "      <td>TRANSPORTATION AND MATERIAL MOVING</td>\n",
       "      <td>Bus and Ambulance Drivers and Attendants</td>\n",
       "      <td>NaN</td>\n",
       "    </tr>\n",
       "    <tr>\n",
       "      <th>441</th>\n",
       "      <td>9830</td>\n",
       "      <td>TRANSPORTATION AND MATERIAL MOVING</td>\n",
       "      <td>Military, Rank Not Specified</td>\n",
       "      <td>NaN</td>\n",
       "    </tr>\n",
       "  </tbody>\n",
       "</table>\n",
       "</div>"
      ],
      "text/plain": [
       "     Code                     BroadClassification  \\\n",
       "28    620         BUSINESS OPERATIONS SPECIALISTS   \n",
       "97   2150                                   LEGAL   \n",
       "132  3130  HEALTHCARE PRACTITIONERS AND TECHNICAL   \n",
       "147  3410  HEALTHCARE PRACTITIONERS AND TECHNICAL   \n",
       "373  8230                              PRODUCTION   \n",
       "417  9100      TRANSPORTATION AND MATERIAL MOVING   \n",
       "441  9830      TRANSPORTATION AND MATERIAL MOVING   \n",
       "\n",
       "                                                 Label soc_code  \n",
       "28   Human Resources, Training, and Labor Relations...      NaN  \n",
       "97                          Legal Support Workers, nec      NaN  \n",
       "132                                  Registered Nurses      NaN  \n",
       "147  Health Diagnosing and Treating Practitioner Su...      NaN  \n",
       "373  Bookbinders, Printing Machine Operators, and J...      NaN  \n",
       "417           Bus and Ambulance Drivers and Attendants      NaN  \n",
       "441                       Military, Rank Not Specified      NaN  "
      ]
     },
     "execution_count": 124,
     "metadata": {},
     "output_type": "execute_result"
    }
   ],
   "source": [
    "df_asec[df_asec[\"soc_code\"].isna()]"
   ]
  },
  {
   "cell_type": "code",
   "execution_count": 126,
   "id": "588dc6a5",
   "metadata": {},
   "outputs": [
    {
     "data": {
      "text/plain": [
       "442"
      ]
     },
     "execution_count": 126,
     "metadata": {},
     "output_type": "execute_result"
    }
   ],
   "source": [
    "len(df_asec)"
   ]
  },
  {
   "cell_type": "code",
   "execution_count": 125,
   "id": "cc28af83",
   "metadata": {},
   "outputs": [
    {
     "data": {
      "text/plain": [
       "7"
      ]
     },
     "execution_count": 125,
     "metadata": {},
     "output_type": "execute_result"
    }
   ],
   "source": [
    "df_asec[\"soc_code\"].isna().sum()"
   ]
  },
  {
   "cell_type": "code",
   "execution_count": 127,
   "id": "17c6c5e7",
   "metadata": {},
   "outputs": [],
   "source": [
    "df_asec.to_csv(path_data + \"occ_names_class_asec_soc_map.csv\")"
   ]
  },
  {
   "cell_type": "markdown",
   "id": "039e6efe",
   "metadata": {},
   "source": [
    "## Following code might be useful if we decide to remove nodes with no match"
   ]
  },
  {
   "cell_type": "code",
   "execution_count": 77,
   "id": "9375996f",
   "metadata": {},
   "outputs": [
    {
     "data": {
      "text/plain": [
       "[9100, 8230, 3130, 3410, 2150, 9830, 620]"
      ]
     },
     "execution_count": 77,
     "metadata": {},
     "output_type": "execute_result"
    }
   ],
   "source": [
    "no_match"
   ]
  }
 ],
 "metadata": {
  "kernelspec": {
   "display_name": "Python 3",
   "language": "python",
   "name": "python3"
  },
  "language_info": {
   "codemirror_mode": {
    "name": "ipython",
    "version": 3
   },
   "file_extension": ".py",
   "mimetype": "text/x-python",
   "name": "python",
   "nbconvert_exporter": "python",
   "pygments_lexer": "ipython3",
   "version": "3.8.8"
  }
 },
 "nbformat": 4,
 "nbformat_minor": 5
}
