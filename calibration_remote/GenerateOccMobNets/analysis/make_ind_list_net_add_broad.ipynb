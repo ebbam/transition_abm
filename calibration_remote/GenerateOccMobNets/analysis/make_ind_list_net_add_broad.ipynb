{
 "cells": [
  {
   "cell_type": "code",
   "execution_count": 1,
   "id": "3fc3509f",
   "metadata": {},
   "outputs": [],
   "source": [
    "import pandas as pd\n",
    "import random\n",
    "import numpy as np\n",
    "from matplotlib import pylab as plt\n",
    "import scipy.stats\n",
    "import copy\n",
    "from scipy.sparse import linalg as LA"
   ]
  },
  {
   "cell_type": "code",
   "execution_count": 2,
   "id": "72c4e2ef",
   "metadata": {},
   "outputs": [],
   "source": [
    "path_data = \"../data/\"\n",
    "file_ind2007 = \"2007-acs-ind-codes.csv\"\n",
    "file_ind2010 = \"2012-acs-ind-codes.csv\"\n",
    "df = pd.read_csv(path_data + \"cps_00011_ind_geo.csv\")\n",
    "df_ind07 = pd.read_csv(path_data + file_ind2007)\n",
    "df_ind10 = pd.read_csv(path_data + file_ind2010)"
   ]
  },
  {
   "cell_type": "code",
   "execution_count": 3,
   "id": "598692b0",
   "metadata": {},
   "outputs": [],
   "source": [
    "dict_code_ind07 = dict(zip(df_ind07[\"2007 Census Code\"], df_ind07[\"Industry 2007 Description\"]))\n",
    "dict_code_ind10 = dict(zip(df_ind10[\"2012 Census Code\"], df_ind10[\"Industry 2012 Description\"]))\n",
    "dict_code_ind_both = copy.copy(dict_code_ind10)\n",
    "\n",
    "for key07 in dict_code_ind07.keys():\n",
    "    if key07 not in dict_code_ind_both.keys():\n",
    "        dict_code_ind_both[key07] = dict_code_ind07[key07]\n",
    "            "
   ]
  },
  {
   "cell_type": "code",
   "execution_count": 4,
   "id": "ba662e6a",
   "metadata": {},
   "outputs": [],
   "source": [
    "df = df[df[\"YEAR\"].isin([i for i in range(2010, 2020)])]"
   ]
  },
  {
   "cell_type": "code",
   "execution_count": 5,
   "id": "393a9388",
   "metadata": {},
   "outputs": [
    {
     "data": {
      "text/plain": [
       "array([2010, 2011, 2012, 2013, 2014, 2015, 2016, 2017, 2018, 2019])"
      ]
     },
     "execution_count": 5,
     "metadata": {},
     "output_type": "execute_result"
    }
   ],
   "source": [
    "df.YEAR.unique()"
   ]
  },
  {
   "cell_type": "code",
   "execution_count": 7,
   "id": "de0f2f5f",
   "metadata": {},
   "outputs": [
    {
     "data": {
      "text/html": [
       "<div>\n",
       "<style scoped>\n",
       "    .dataframe tbody tr th:only-of-type {\n",
       "        vertical-align: middle;\n",
       "    }\n",
       "\n",
       "    .dataframe tbody tr th {\n",
       "        vertical-align: top;\n",
       "    }\n",
       "\n",
       "    .dataframe thead th {\n",
       "        text-align: right;\n",
       "    }\n",
       "</style>\n",
       "<table border=\"1\" class=\"dataframe\">\n",
       "  <thead>\n",
       "    <tr style=\"text-align: right;\">\n",
       "      <th></th>\n",
       "      <th>broad</th>\n",
       "      <th>Industry 2007 Description</th>\n",
       "      <th>Unnamed: 2</th>\n",
       "      <th>2007 Census Code</th>\n",
       "      <th>2007 NAICS Code</th>\n",
       "      <th>Unnamed: 5</th>\n",
       "      <th>Unnamed: 6</th>\n",
       "      <th>Unnamed: 7</th>\n",
       "      <th>Unnamed: 8</th>\n",
       "    </tr>\n",
       "  </thead>\n",
       "  <tbody>\n",
       "    <tr>\n",
       "      <th>0</th>\n",
       "      <td>NaN</td>\n",
       "      <td>NaN</td>\n",
       "      <td>NaN</td>\n",
       "      <td>NaN</td>\n",
       "      <td>NaN</td>\n",
       "      <td>NaN</td>\n",
       "      <td>NaN</td>\n",
       "      <td>NaN</td>\n",
       "      <td>NaN</td>\n",
       "    </tr>\n",
       "    <tr>\n",
       "      <th>1</th>\n",
       "      <td>NaN</td>\n",
       "      <td>NaN</td>\n",
       "      <td>NaN</td>\n",
       "      <td>NaN</td>\n",
       "      <td>NaN</td>\n",
       "      <td>NaN</td>\n",
       "      <td>NaN</td>\n",
       "      <td>NaN</td>\n",
       "      <td>NaN</td>\n",
       "    </tr>\n",
       "    <tr>\n",
       "      <th>2</th>\n",
       "      <td>Agriculture, Forestry, Fishing, and Hunting, a...</td>\n",
       "      <td>NaN</td>\n",
       "      <td>NaN</td>\n",
       "      <td>0170-0490</td>\n",
       "      <td>111-213</td>\n",
       "      <td>NaN</td>\n",
       "      <td>NaN</td>\n",
       "      <td>NaN</td>\n",
       "      <td>NaN</td>\n",
       "    </tr>\n",
       "    <tr>\n",
       "      <th>3</th>\n",
       "      <td>NaN</td>\n",
       "      <td>NaN</td>\n",
       "      <td>NaN</td>\n",
       "      <td>NaN</td>\n",
       "      <td>NaN</td>\n",
       "      <td>NaN</td>\n",
       "      <td>NaN</td>\n",
       "      <td>NaN</td>\n",
       "      <td>NaN</td>\n",
       "    </tr>\n",
       "    <tr>\n",
       "      <th>4</th>\n",
       "      <td>NaN</td>\n",
       "      <td>Agriculture, Forestry, Fishing, and Hunting</td>\n",
       "      <td>NaN</td>\n",
       "      <td>0170-0290</td>\n",
       "      <td>111-115</td>\n",
       "      <td>NaN</td>\n",
       "      <td>NaN</td>\n",
       "      <td>NaN</td>\n",
       "      <td>NaN</td>\n",
       "    </tr>\n",
       "    <tr>\n",
       "      <th>...</th>\n",
       "      <td>...</td>\n",
       "      <td>...</td>\n",
       "      <td>...</td>\n",
       "      <td>...</td>\n",
       "      <td>...</td>\n",
       "      <td>...</td>\n",
       "      <td>...</td>\n",
       "      <td>...</td>\n",
       "      <td>...</td>\n",
       "    </tr>\n",
       "    <tr>\n",
       "      <th>343</th>\n",
       "      <td>NaN</td>\n",
       "      <td>U. S. Coast Guard</td>\n",
       "      <td>NaN</td>\n",
       "      <td>9780</td>\n",
       "      <td>928110</td>\n",
       "      <td>NaN</td>\n",
       "      <td>NaN</td>\n",
       "      <td>NaN</td>\n",
       "      <td>NaN</td>\n",
       "    </tr>\n",
       "    <tr>\n",
       "      <th>344</th>\n",
       "      <td>NaN</td>\n",
       "      <td>U. S. Armed Forces, Branch not specified</td>\n",
       "      <td>NaN</td>\n",
       "      <td>9790</td>\n",
       "      <td>928110</td>\n",
       "      <td>NaN</td>\n",
       "      <td>NaN</td>\n",
       "      <td>NaN</td>\n",
       "      <td>NaN</td>\n",
       "    </tr>\n",
       "    <tr>\n",
       "      <th>345</th>\n",
       "      <td>NaN</td>\n",
       "      <td>Military Reserves or National Guard</td>\n",
       "      <td>NaN</td>\n",
       "      <td>9870</td>\n",
       "      <td>928110</td>\n",
       "      <td>NaN</td>\n",
       "      <td>NaN</td>\n",
       "      <td>NaN</td>\n",
       "      <td>NaN</td>\n",
       "    </tr>\n",
       "    <tr>\n",
       "      <th>346</th>\n",
       "      <td>NaN</td>\n",
       "      <td>NaN</td>\n",
       "      <td>NaN</td>\n",
       "      <td>NaN</td>\n",
       "      <td>NaN</td>\n",
       "      <td>NaN</td>\n",
       "      <td>NaN</td>\n",
       "      <td>NaN</td>\n",
       "      <td>NaN</td>\n",
       "    </tr>\n",
       "    <tr>\n",
       "      <th>347</th>\n",
       "      <td>NaN</td>\n",
       "      <td>Unemployed, last worked five years ago or earl...</td>\n",
       "      <td>NaN</td>\n",
       "      <td>9920</td>\n",
       "      <td>none</td>\n",
       "      <td>NaN</td>\n",
       "      <td>NaN</td>\n",
       "      <td>NaN</td>\n",
       "      <td>NaN</td>\n",
       "    </tr>\n",
       "  </tbody>\n",
       "</table>\n",
       "<p>348 rows × 9 columns</p>\n",
       "</div>"
      ],
      "text/plain": [
       "                                                 broad  \\\n",
       "0                                                  NaN   \n",
       "1                                                  NaN   \n",
       "2    Agriculture, Forestry, Fishing, and Hunting, a...   \n",
       "3                                                  NaN   \n",
       "4                                                  NaN   \n",
       "..                                                 ...   \n",
       "343                                                NaN   \n",
       "344                                                NaN   \n",
       "345                                                NaN   \n",
       "346                                                NaN   \n",
       "347                                                NaN   \n",
       "\n",
       "                             Industry 2007 Description  Unnamed: 2  \\\n",
       "0                                                  NaN         NaN   \n",
       "1                                                  NaN         NaN   \n",
       "2                                                  NaN         NaN   \n",
       "3                                                  NaN         NaN   \n",
       "4          Agriculture, Forestry, Fishing, and Hunting         NaN   \n",
       "..                                                 ...         ...   \n",
       "343                                  U. S. Coast Guard         NaN   \n",
       "344           U. S. Armed Forces, Branch not specified         NaN   \n",
       "345                Military Reserves or National Guard         NaN   \n",
       "346                                                NaN         NaN   \n",
       "347  Unemployed, last worked five years ago or earl...         NaN   \n",
       "\n",
       "    2007 Census Code 2007 NAICS Code  Unnamed: 5 Unnamed: 6  Unnamed: 7  \\\n",
       "0                NaN             NaN         NaN        NaN         NaN   \n",
       "1                NaN             NaN         NaN        NaN         NaN   \n",
       "2          0170-0490         111-213         NaN        NaN         NaN   \n",
       "3                NaN             NaN         NaN        NaN         NaN   \n",
       "4          0170-0290         111-115         NaN        NaN         NaN   \n",
       "..               ...             ...         ...        ...         ...   \n",
       "343             9780          928110         NaN        NaN         NaN   \n",
       "344             9790          928110         NaN        NaN         NaN   \n",
       "345             9870          928110         NaN        NaN         NaN   \n",
       "346              NaN             NaN         NaN        NaN         NaN   \n",
       "347             9920            none         NaN        NaN         NaN   \n",
       "\n",
       "    Unnamed: 8  \n",
       "0          NaN  \n",
       "1          NaN  \n",
       "2          NaN  \n",
       "3          NaN  \n",
       "4          NaN  \n",
       "..         ...  \n",
       "343        NaN  \n",
       "344        NaN  \n",
       "345        NaN  \n",
       "346        NaN  \n",
       "347        NaN  \n",
       "\n",
       "[348 rows x 9 columns]"
      ]
     },
     "execution_count": 7,
     "metadata": {},
     "output_type": "execute_result"
    }
   ],
   "source": [
    "df_ind07"
   ]
  },
  {
   "cell_type": "code",
   "execution_count": 63,
   "id": "bf682756",
   "metadata": {},
   "outputs": [
    {
     "data": {
      "text/html": [
       "<div>\n",
       "<style scoped>\n",
       "    .dataframe tbody tr th:only-of-type {\n",
       "        vertical-align: middle;\n",
       "    }\n",
       "\n",
       "    .dataframe tbody tr th {\n",
       "        vertical-align: top;\n",
       "    }\n",
       "\n",
       "    .dataframe thead th {\n",
       "        text-align: right;\n",
       "    }\n",
       "</style>\n",
       "<table border=\"1\" class=\"dataframe\">\n",
       "  <thead>\n",
       "    <tr style=\"text-align: right;\">\n",
       "      <th></th>\n",
       "      <th>YEAR</th>\n",
       "      <th>SERIAL</th>\n",
       "      <th>MONTH</th>\n",
       "      <th>CPSID</th>\n",
       "      <th>ASECFLAG</th>\n",
       "      <th>HFLAG</th>\n",
       "      <th>ASECWTH</th>\n",
       "      <th>MISH</th>\n",
       "      <th>STATEFIP</th>\n",
       "      <th>ASECOVERH</th>\n",
       "      <th>...</th>\n",
       "      <th>OCC2010</th>\n",
       "      <th>IND1990</th>\n",
       "      <th>IND</th>\n",
       "      <th>ASECOVERP</th>\n",
       "      <th>OCCLY</th>\n",
       "      <th>INDLY</th>\n",
       "      <th>IND90LY</th>\n",
       "      <th>OCC10LY</th>\n",
       "      <th>QOCCLY</th>\n",
       "      <th>MIGSTA1</th>\n",
       "    </tr>\n",
       "  </thead>\n",
       "  <tbody>\n",
       "    <tr>\n",
       "      <th>2039037</th>\n",
       "      <td>2010</td>\n",
       "      <td>1</td>\n",
       "      <td>3</td>\n",
       "      <td>20091200101400</td>\n",
       "      <td>1</td>\n",
       "      <td>NaN</td>\n",
       "      <td>485.99</td>\n",
       "      <td>4</td>\n",
       "      <td>23</td>\n",
       "      <td>0</td>\n",
       "      <td>...</td>\n",
       "      <td>9999</td>\n",
       "      <td>0</td>\n",
       "      <td>0</td>\n",
       "      <td>0</td>\n",
       "      <td>0</td>\n",
       "      <td>0</td>\n",
       "      <td>0</td>\n",
       "      <td>9999</td>\n",
       "      <td>0</td>\n",
       "      <td>99</td>\n",
       "    </tr>\n",
       "    <tr>\n",
       "      <th>2039038</th>\n",
       "      <td>2010</td>\n",
       "      <td>2</td>\n",
       "      <td>3</td>\n",
       "      <td>20091201328700</td>\n",
       "      <td>1</td>\n",
       "      <td>NaN</td>\n",
       "      <td>531.71</td>\n",
       "      <td>4</td>\n",
       "      <td>23</td>\n",
       "      <td>0</td>\n",
       "      <td>...</td>\n",
       "      <td>9999</td>\n",
       "      <td>0</td>\n",
       "      <td>0</td>\n",
       "      <td>0</td>\n",
       "      <td>6050</td>\n",
       "      <td>170</td>\n",
       "      <td>10</td>\n",
       "      <td>6050</td>\n",
       "      <td>0</td>\n",
       "      <td>99</td>\n",
       "    </tr>\n",
       "    <tr>\n",
       "      <th>2039039</th>\n",
       "      <td>2010</td>\n",
       "      <td>3</td>\n",
       "      <td>3</td>\n",
       "      <td>20091202862200</td>\n",
       "      <td>1</td>\n",
       "      <td>NaN</td>\n",
       "      <td>474.40</td>\n",
       "      <td>4</td>\n",
       "      <td>23</td>\n",
       "      <td>0</td>\n",
       "      <td>...</td>\n",
       "      <td>9999</td>\n",
       "      <td>0</td>\n",
       "      <td>0</td>\n",
       "      <td>0</td>\n",
       "      <td>0</td>\n",
       "      <td>0</td>\n",
       "      <td>0</td>\n",
       "      <td>9999</td>\n",
       "      <td>0</td>\n",
       "      <td>99</td>\n",
       "    </tr>\n",
       "    <tr>\n",
       "      <th>2039040</th>\n",
       "      <td>2010</td>\n",
       "      <td>3</td>\n",
       "      <td>3</td>\n",
       "      <td>20091202862200</td>\n",
       "      <td>1</td>\n",
       "      <td>NaN</td>\n",
       "      <td>474.40</td>\n",
       "      <td>4</td>\n",
       "      <td>23</td>\n",
       "      <td>0</td>\n",
       "      <td>...</td>\n",
       "      <td>9999</td>\n",
       "      <td>0</td>\n",
       "      <td>0</td>\n",
       "      <td>0</td>\n",
       "      <td>0</td>\n",
       "      <td>0</td>\n",
       "      <td>0</td>\n",
       "      <td>9999</td>\n",
       "      <td>0</td>\n",
       "      <td>99</td>\n",
       "    </tr>\n",
       "    <tr>\n",
       "      <th>2039041</th>\n",
       "      <td>2010</td>\n",
       "      <td>4</td>\n",
       "      <td>3</td>\n",
       "      <td>20091201328800</td>\n",
       "      <td>1</td>\n",
       "      <td>NaN</td>\n",
       "      <td>486.65</td>\n",
       "      <td>4</td>\n",
       "      <td>23</td>\n",
       "      <td>0</td>\n",
       "      <td>...</td>\n",
       "      <td>4250</td>\n",
       "      <td>20</td>\n",
       "      <td>7770</td>\n",
       "      <td>0</td>\n",
       "      <td>4250</td>\n",
       "      <td>7770</td>\n",
       "      <td>20</td>\n",
       "      <td>4250</td>\n",
       "      <td>0</td>\n",
       "      <td>99</td>\n",
       "    </tr>\n",
       "  </tbody>\n",
       "</table>\n",
       "<p>5 rows × 30 columns</p>\n",
       "</div>"
      ],
      "text/plain": [
       "         YEAR  SERIAL  MONTH           CPSID  ASECFLAG  HFLAG  ASECWTH  MISH  \\\n",
       "2039037  2010       1      3  20091200101400         1    NaN   485.99     4   \n",
       "2039038  2010       2      3  20091201328700         1    NaN   531.71     4   \n",
       "2039039  2010       3      3  20091202862200         1    NaN   474.40     4   \n",
       "2039040  2010       3      3  20091202862200         1    NaN   474.40     4   \n",
       "2039041  2010       4      3  20091201328800         1    NaN   486.65     4   \n",
       "\n",
       "         STATEFIP  ASECOVERH  ...  OCC2010  IND1990   IND  ASECOVERP  OCCLY  \\\n",
       "2039037        23          0  ...     9999        0     0          0      0   \n",
       "2039038        23          0  ...     9999        0     0          0   6050   \n",
       "2039039        23          0  ...     9999        0     0          0      0   \n",
       "2039040        23          0  ...     9999        0     0          0      0   \n",
       "2039041        23          0  ...     4250       20  7770          0   4250   \n",
       "\n",
       "         INDLY  IND90LY  OCC10LY  QOCCLY  MIGSTA1  \n",
       "2039037      0        0     9999       0       99  \n",
       "2039038    170       10     6050       0       99  \n",
       "2039039      0        0     9999       0       99  \n",
       "2039040      0        0     9999       0       99  \n",
       "2039041   7770       20     4250       0       99  \n",
       "\n",
       "[5 rows x 30 columns]"
      ]
     },
     "execution_count": 63,
     "metadata": {},
     "output_type": "execute_result"
    }
   ],
   "source": [
    "df.head()"
   ]
  },
  {
   "cell_type": "code",
   "execution_count": 64,
   "id": "6f5ed856",
   "metadata": {},
   "outputs": [],
   "source": [
    "df = df[df[\"ASECWT\"].notna()]\n",
    "# remove CPSIDP unless they are part of the asec over sample\n",
    "df = df[(df[\"CPSIDP\"] != 0) | (df[\"ASECOVERP\"] == 1)] \n",
    "# People in labor force\n",
    "df = df[df.LABFORCE == 2]"
   ]
  },
  {
   "cell_type": "code",
   "execution_count": 65,
   "id": "4c20e39b",
   "metadata": {},
   "outputs": [
    {
     "name": "stdout",
     "output_type": "stream",
     "text": [
      "Workforce estimation (millions)  163.00103038999998\n"
     ]
    }
   ],
   "source": [
    "print(\"Workforce estimation (millions) \", df[\"ASECWT\"].loc[df[\"YEAR\"] == 2019].sum()/1e6)"
   ]
  },
  {
   "cell_type": "code",
   "execution_count": 66,
   "id": "3660049c",
   "metadata": {},
   "outputs": [],
   "source": [
    "# get list of all codes \n",
    "list_industries = [str(i) for i in (df[\"IND\"].unique())]\n",
    "# make them strings and add 0 at begining where needed\n",
    "for i in range(len(list_industries)):\n",
    "    if len(list_industries[i]) == 3:\n",
    "        list_industries[i] = \"0\" + list_industries[i]\n",
    "# remove 0 and sort\n",
    "list_industries.remove(\"0\")\n",
    "list_industries.sort()"
   ]
  },
  {
   "cell_type": "code",
   "execution_count": 67,
   "id": "22e09cb6",
   "metadata": {},
   "outputs": [],
   "source": [
    "list_industries;"
   ]
  },
  {
   "cell_type": "code",
   "execution_count": 68,
   "id": "4f7544ce",
   "metadata": {},
   "outputs": [],
   "source": [
    "dict_ind_avemp = {}\n",
    "for ind in list_industries:\n",
    "    emp = df[\"ASECWT\"].loc[(df[\"IND\"] == int(ind)) & (df[\"EMPSTAT\"].isin([10, 12]))].sum()\n",
    "    # average is divided by 10\n",
    "    emp_average = emp/10\n",
    "    dict_ind_avemp[ind] = emp_average"
   ]
  },
  {
   "cell_type": "code",
   "execution_count": 69,
   "id": "d63a9ca9",
   "metadata": {},
   "outputs": [],
   "source": [
    "df_industries = pd.DataFrame()\n",
    "df_industries[\"Code\"] = list_industries\n",
    "df_industries[\"Label\"] = df_industries[\"Code\"].map(dict_code_ind_both)\n",
    "df_industries[\"EMP_10_19_MEAN\"] = df_industries[\"Code\"].map(dict_ind_avemp)"
   ]
  },
  {
   "cell_type": "code",
   "execution_count": 12,
   "id": "c044b0d7",
   "metadata": {},
   "outputs": [],
   "source": [
    "df_industries.to_csv(path_data + \"industries_acs_10_19_emp.csv\")"
   ]
  },
  {
   "cell_type": "code",
   "execution_count": null,
   "id": "655118c5",
   "metadata": {},
   "outputs": [],
   "source": [
    "df_industries.to_csv(path_data + \"industries_acs_10_19_emp_broad.csv\")"
   ]
  },
  {
   "cell_type": "code",
   "execution_count": 70,
   "id": "82996d75",
   "metadata": {},
   "outputs": [],
   "source": [
    "dict_indcode_index = {}\n",
    "for i, ind in enumerate(list_industries):\n",
    "    dict_indcode_index[ind] = i"
   ]
  },
  {
   "cell_type": "code",
   "execution_count": 71,
   "id": "3730a511",
   "metadata": {},
   "outputs": [
    {
     "data": {
      "text/plain": [
       "161.364091751"
      ]
     },
     "execution_count": 71,
     "metadata": {},
     "output_type": "execute_result"
    }
   ],
   "source": [
    "np.sum(list(dict_ind_avemp.values()))/1e6"
   ]
  },
  {
   "cell_type": "code",
   "execution_count": 72,
   "id": "2bf9578e",
   "metadata": {},
   "outputs": [
    {
     "data": {
      "text/plain": [
       "False"
      ]
     },
     "execution_count": 72,
     "metadata": {},
     "output_type": "execute_result"
    }
   ],
   "source": [
    "9890 in df[\"IND\"].loc[(df[\"EMPSTAT\"].isin([10, 12]))].unique()"
   ]
  },
  {
   "cell_type": "code",
   "execution_count": 85,
   "id": "29c1e810",
   "metadata": {},
   "outputs": [
    {
     "ename": "NameError",
     "evalue": "name 'A_omn' is not defined",
     "output_type": "error",
     "traceback": [
      "\u001b[0;31m---------------------------------------------------------------------------\u001b[0m",
      "\u001b[0;31mNameError\u001b[0m                                 Traceback (most recent call last)",
      "\u001b[0;32m<ipython-input-85-6eb63820e84a>\u001b[0m in \u001b[0;36m<module>\u001b[0;34m\u001b[0m\n\u001b[0;32m----> 1\u001b[0;31m \u001b[0mA_omn\u001b[0m\u001b[0;34m.\u001b[0m\u001b[0msum\u001b[0m\u001b[0;34m(\u001b[0m\u001b[0;34m)\u001b[0m\u001b[0;34m\u001b[0m\u001b[0;34m\u001b[0m\u001b[0m\n\u001b[0m",
      "\u001b[0;31mNameError\u001b[0m: name 'A_omn' is not defined"
     ]
    }
   ],
   "source": [
    "A_omn.sum()"
   ]
  },
  {
   "cell_type": "markdown",
   "id": "965fb150",
   "metadata": {},
   "source": [
    "### Make industry mobility network"
   ]
  },
  {
   "cell_type": "code",
   "execution_count": 73,
   "id": "e7fa8512",
   "metadata": {},
   "outputs": [],
   "source": [
    "df_nonan = df[(df[\"ASECWT\"].notna()) & (df[\"IND\"] != 9999) & (df[\"INDLY\"] != 9999)] "
   ]
  },
  {
   "cell_type": "code",
   "execution_count": 74,
   "id": "02a142b3",
   "metadata": {},
   "outputs": [],
   "source": [
    "df_nonan[\"ChangeInd\"] = df_nonan[\"IND\"] != df_nonan[\"INDLY\"]\n",
    "df_nonan[\"ChangeIndWT\"] = df_nonan[\"ChangeInd\"] * df_nonan[\"ASECWT\"]"
   ]
  },
  {
   "cell_type": "code",
   "execution_count": 75,
   "id": "8e6be43f",
   "metadata": {},
   "outputs": [],
   "source": [
    "dict_indcode_index;"
   ]
  },
  {
   "cell_type": "code",
   "execution_count": 76,
   "id": "c87222cd",
   "metadata": {},
   "outputs": [],
   "source": [
    "def ind_mob_asec(df, dict_code_index):\n",
    "    \"\"\"Makes occupational mobiltiy network from ASEC\n",
    "    \"\"\"\n",
    "    # keep track of occupations not included\n",
    "    ind_notinlist = set([0])\n",
    "    # make empty matrix\n",
    "    n = len(dict_code_index)\n",
    "    A = np.zeros([n, n])\n",
    "    # fill whenver there is a transition\n",
    "    for index, row in df.iterrows():\n",
    "        ind_i = str(row[\"INDLY\"]) \n",
    "        ind_j = str(row[\"IND\"])\n",
    "        if ind_i != ind_j:\n",
    "            if len(ind_i) == 3:\n",
    "                ind_i = \"0\" + ind_i\n",
    "            if len(ind_j) == 3:\n",
    "                ind_j = \"0\" + ind_j\n",
    "            if ind_i in list_industries and ind_j in list_industries:\n",
    "                i, j = dict_code_index[ind_i], dict_code_index[ind_j]\n",
    "                A[i, j] += row[\"ASECWT\"] # consider ASEC weights\n",
    "            elif ind_i not in list_industries:\n",
    "                if ind_i not in ind_notinlist:\n",
    "                    ind_notinlist.add(ind_i)\n",
    "            elif ind_j not in list_industries:\n",
    "                if ind_j not in ind_notinlist:\n",
    "                    ind_notinlist.add(ind_j)\n",
    "    return A, ind_notinlist"
   ]
  },
  {
   "cell_type": "code",
   "execution_count": 77,
   "id": "c644669c",
   "metadata": {},
   "outputs": [],
   "source": [
    "T_ind, ind_notinc = ind_mob_asec(df_nonan , dict_indcode_index)"
   ]
  },
  {
   "cell_type": "code",
   "execution_count": 78,
   "id": "662b03e0",
   "metadata": {},
   "outputs": [],
   "source": [
    "T_ind = T_ind/10 # normalize for the 10 years"
   ]
  },
  {
   "cell_type": "code",
   "execution_count": 79,
   "id": "7ab25d92",
   "metadata": {},
   "outputs": [],
   "source": [
    "np.savetxt(path_data + \"asec_ind_10_19_mean.csv\", T_ind, delimiter=\",\")"
   ]
  },
  {
   "cell_type": "markdown",
   "id": "c2e80cd5",
   "metadata": {},
   "source": [
    "## Make industry geography matrix"
   ]
  },
  {
   "cell_type": "code",
   "execution_count": 82,
   "id": "457ef9fe",
   "metadata": {},
   "outputs": [
    {
     "data": {
      "text/plain": [
       "Index(['YEAR', 'SERIAL', 'MONTH', 'CPSID', 'ASECFLAG', 'HFLAG', 'ASECWTH',\n",
       "       'MISH', 'STATEFIP', 'ASECOVERH', 'PERNUM', 'CPSIDP', 'ASECWT', 'AGE',\n",
       "       'SEX', 'RACE', 'HISPAN', 'EMPSTAT', 'LABFORCE', 'OCC', 'OCC2010',\n",
       "       'IND1990', 'IND', 'ASECOVERP', 'OCCLY', 'INDLY', 'IND90LY', 'OCC10LY',\n",
       "       'QOCCLY', 'MIGSTA1'],\n",
       "      dtype='object')"
      ]
     },
     "execution_count": 82,
     "metadata": {},
     "output_type": "execute_result"
    }
   ],
   "source": [
    "df.columns"
   ]
  },
  {
   "cell_type": "code",
   "execution_count": 83,
   "id": "7693d6a7",
   "metadata": {},
   "outputs": [],
   "source": [
    "states = list(df[\"STATEFIP\"].unique())\n",
    "states.sort()"
   ]
  },
  {
   "cell_type": "code",
   "execution_count": 84,
   "id": "aa9b74f3",
   "metadata": {},
   "outputs": [],
   "source": [
    "n_industries = len(list_industries)\n",
    "n_states = len(states)"
   ]
  },
  {
   "cell_type": "code",
   "execution_count": 44,
   "id": "b6791110",
   "metadata": {},
   "outputs": [],
   "source": [
    "A_ind_st = np.zeros([n_industries, n_states])\n",
    "for i, ind in enumerate(list_industries):\n",
    "    for j, st in enumerate(states):\n",
    "        A_ind_st[i, j] += df[\"ASECWT\"].loc[(df[\"IND\"] == int(ind)) & \\\n",
    "                                    (df[\"EMPSTAT\"].isin([10, 12])) & \\\n",
    "                                   (df[\"STATEFIP\"] == int(st))].sum()\n",
    "# normalize for the 10 years\n",
    "A_ind_st = A_ind_st/10"
   ]
  },
  {
   "cell_type": "code",
   "execution_count": 45,
   "id": "5f7a1bf2",
   "metadata": {},
   "outputs": [],
   "source": [
    "np.savetxt(path_data + \"asec_ind_state_10_19_mean.csv\", A_ind_st, delimiter=\",\")"
   ]
  },
  {
   "cell_type": "code",
   "execution_count": null,
   "id": "9a0fc9cb",
   "metadata": {},
   "outputs": [],
   "source": [
    "df_states = pd.DataFrame()\n",
    "df_states[\"state_code\"] = states\n"
   ]
  },
  {
   "cell_type": "code",
   "execution_count": 41,
   "id": "7c1c4d59",
   "metadata": {},
   "outputs": [
    {
     "data": {
      "text/plain": [
       "51"
      ]
     },
     "execution_count": 41,
     "metadata": {},
     "output_type": "execute_result"
    }
   ],
   "source": [
    "len(states)"
   ]
  },
  {
   "cell_type": "code",
   "execution_count": 40,
   "id": "55a1a78b",
   "metadata": {},
   "outputs": [
    {
     "data": {
      "text/plain": [
       "[1,\n",
       " 2,\n",
       " 4,\n",
       " 5,\n",
       " 6,\n",
       " 8,\n",
       " 9,\n",
       " 10,\n",
       " 11,\n",
       " 12,\n",
       " 13,\n",
       " 15,\n",
       " 16,\n",
       " 17,\n",
       " 18,\n",
       " 19,\n",
       " 20,\n",
       " 21,\n",
       " 22,\n",
       " 23,\n",
       " 24,\n",
       " 25,\n",
       " 26,\n",
       " 27,\n",
       " 28,\n",
       " 29,\n",
       " 30,\n",
       " 31,\n",
       " 32,\n",
       " 33,\n",
       " 34,\n",
       " 35,\n",
       " 36,\n",
       " 37,\n",
       " 38,\n",
       " 39,\n",
       " 40,\n",
       " 41,\n",
       " 42,\n",
       " 44,\n",
       " 45,\n",
       " 46,\n",
       " 47,\n",
       " 48,\n",
       " 49,\n",
       " 50,\n",
       " 51,\n",
       " 53,\n",
       " 54,\n",
       " 55,\n",
       " 56]"
      ]
     },
     "execution_count": 40,
     "metadata": {},
     "output_type": "execute_result"
    }
   ],
   "source": [
    "states"
   ]
  },
  {
   "cell_type": "code",
   "execution_count": 28,
   "id": "0511cb19",
   "metadata": {},
   "outputs": [
    {
     "data": {
      "image/png": "[encoded data removed]",
      "text/plain": [
       "<Figure size 432x288 with 1 Axes>"
      ]
     },
     "metadata": {
      "needs_background": "light"
     },
     "output_type": "display_data"
    }
   ],
   "source": [
    "plt.imshow(A_ind_stsqrt(A_ind_st))\n",
    "plt.show()"
   ]
  },
  {
   "cell_type": "code",
   "execution_count": 37,
   "id": "9b6d21d6",
   "metadata": {},
   "outputs": [
    {
     "data": {
      "text/plain": [
       "array([[4.29285400e+03, 1.12361500e+03, 3.11616400e+03, ...,\n",
       "        2.36035553e+05, 6.52500000e+02, 6.09399600e+03],\n",
       "       [4.00434700e+03, 2.10462100e+03, 4.83796600e+03, ...,\n",
       "        5.39117650e+04, 5.41696000e+02, 1.23538400e+03],\n",
       "       [4.81180000e+02, 2.00039000e+02, 1.45130000e+02, ...,\n",
       "        9.22292600e+03, 7.96768000e+02, 1.10994000e+02],\n",
       "       ...,\n",
       "       [2.81935500e+03, 2.05670000e+03, 1.87785500e+03, ...,\n",
       "        5.69070910e+04, 4.23696300e+03, 4.17569700e+03],\n",
       "       [2.90318400e+03, 2.88744500e+03, 2.89800900e+03, ...,\n",
       "        8.43811550e+04, 5.46999700e+03, 1.83791930e+04],\n",
       "       [0.00000000e+00, 0.00000000e+00, 0.00000000e+00, ...,\n",
       "        0.00000000e+00, 0.00000000e+00, 0.00000000e+00]])"
      ]
     },
     "execution_count": 37,
     "metadata": {},
     "output_type": "execute_result"
    }
   ],
   "source": [
    "A_ind_st"
   ]
  },
  {
   "cell_type": "code",
   "execution_count": null,
   "id": "0d665726",
   "metadata": {},
   "outputs": [],
   "source": [
    "dict_ind_avemp = {}\n",
    "for ind in list_industries:\n",
    "    emp = df[\"ASECWT\"].loc[(df[\"IND\"] == int(ind)) & (df[\"EMPSTAT\"].isin([10, 12]))].sum()\n",
    "    # average is divided by 10\n",
    "    emp_average = emp/10\n",
    "    dict_ind_avemp[ind] = emp_average"
   ]
  },
  {
   "cell_type": "code",
   "execution_count": 57,
   "id": "5b105583",
   "metadata": {},
   "outputs": [],
   "source": [
    "ind_notinc;"
   ]
  },
  {
   "cell_type": "code",
   "execution_count": null,
   "id": "fb870e4a",
   "metadata": {},
   "outputs": [],
   "source": []
  },
  {
   "cell_type": "code",
   "execution_count": null,
   "id": "4fe186cd",
   "metadata": {},
   "outputs": [],
   "source": []
  },
  {
   "cell_type": "code",
   "execution_count": null,
   "id": "27743376",
   "metadata": {},
   "outputs": [],
   "source": []
  },
  {
   "cell_type": "code",
   "execution_count": null,
   "id": "30ebfc98",
   "metadata": {},
   "outputs": [],
   "source": []
  },
  {
   "cell_type": "code",
   "execution_count": 14,
   "id": "46a06ea4",
   "metadata": {},
   "outputs": [
    {
     "name": "stdout",
     "output_type": "stream",
     "text": [
      "Workforce estimation (millions)  213.27099866999998\n"
     ]
    },
    {
     "ename": "KeyError",
     "evalue": "'ChangeOccWT'",
     "output_type": "error",
     "traceback": [
      "\u001b[0;31m---------------------------------------------------------------------------\u001b[0m",
      "\u001b[0;31mKeyError\u001b[0m                                  Traceback (most recent call last)",
      "\u001b[0;32m~/anaconda3/lib/python3.8/site-packages/pandas/core/indexes/base.py\u001b[0m in \u001b[0;36mget_loc\u001b[0;34m(self, key, method, tolerance)\u001b[0m\n\u001b[1;32m   3360\u001b[0m             \u001b[0;32mtry\u001b[0m\u001b[0;34m:\u001b[0m\u001b[0;34m\u001b[0m\u001b[0;34m\u001b[0m\u001b[0m\n\u001b[0;32m-> 3361\u001b[0;31m                 \u001b[0;32mreturn\u001b[0m \u001b[0mself\u001b[0m\u001b[0;34m.\u001b[0m\u001b[0m_engine\u001b[0m\u001b[0;34m.\u001b[0m\u001b[0mget_loc\u001b[0m\u001b[0;34m(\u001b[0m\u001b[0mcasted_key\u001b[0m\u001b[0;34m)\u001b[0m\u001b[0;34m\u001b[0m\u001b[0;34m\u001b[0m\u001b[0m\n\u001b[0m\u001b[1;32m   3362\u001b[0m             \u001b[0;32mexcept\u001b[0m \u001b[0mKeyError\u001b[0m \u001b[0;32mas\u001b[0m \u001b[0merr\u001b[0m\u001b[0;34m:\u001b[0m\u001b[0;34m\u001b[0m\u001b[0;34m\u001b[0m\u001b[0m\n",
      "\u001b[0;32m~/anaconda3/lib/python3.8/site-packages/pandas/_libs/index.pyx\u001b[0m in \u001b[0;36mpandas._libs.index.IndexEngine.get_loc\u001b[0;34m()\u001b[0m\n",
      "\u001b[0;32m~/anaconda3/lib/python3.8/site-packages/pandas/_libs/index.pyx\u001b[0m in \u001b[0;36mpandas._libs.index.IndexEngine.get_loc\u001b[0;34m()\u001b[0m\n",
      "\u001b[0;32mpandas/_libs/hashtable_class_helper.pxi\u001b[0m in \u001b[0;36mpandas._libs.hashtable.PyObjectHashTable.get_item\u001b[0;34m()\u001b[0m\n",
      "\u001b[0;32mpandas/_libs/hashtable_class_helper.pxi\u001b[0m in \u001b[0;36mpandas._libs.hashtable.PyObjectHashTable.get_item\u001b[0;34m()\u001b[0m\n",
      "\u001b[0;31mKeyError\u001b[0m: 'ChangeOccWT'",
      "\nThe above exception was the direct cause of the following exception:\n",
      "\u001b[0;31mKeyError\u001b[0m                                  Traceback (most recent call last)",
      "\u001b[0;32m<ipython-input-14-1a4bab8e85f2>\u001b[0m in \u001b[0;36m<module>\u001b[0;34m\u001b[0m\n\u001b[1;32m      1\u001b[0m \u001b[0mprint\u001b[0m\u001b[0;34m(\u001b[0m\u001b[0;34m\"Workforce estimation (millions) \"\u001b[0m\u001b[0;34m,\u001b[0m \u001b[0mdf\u001b[0m\u001b[0;34m[\u001b[0m\u001b[0;34m\"ASECWT\"\u001b[0m\u001b[0;34m]\u001b[0m\u001b[0;34m.\u001b[0m\u001b[0mloc\u001b[0m\u001b[0;34m[\u001b[0m\u001b[0mdf\u001b[0m\u001b[0;34m[\u001b[0m\u001b[0;34m\"YEAR\"\u001b[0m\u001b[0;34m]\u001b[0m \u001b[0;34m==\u001b[0m \u001b[0;36m2010\u001b[0m\u001b[0;34m]\u001b[0m\u001b[0;34m.\u001b[0m\u001b[0msum\u001b[0m\u001b[0;34m(\u001b[0m\u001b[0;34m)\u001b[0m\u001b[0;34m/\u001b[0m\u001b[0;36m1e6\u001b[0m\u001b[0;34m)\u001b[0m\u001b[0;34m\u001b[0m\u001b[0;34m\u001b[0m\u001b[0m\n\u001b[0;32m----> 2\u001b[0;31m \u001b[0mprint\u001b[0m\u001b[0;34m(\u001b[0m\u001b[0;34m\"People that changed occupaiton (millions) \"\u001b[0m\u001b[0;34m,\u001b[0m \u001b[0mdf\u001b[0m\u001b[0;34m[\u001b[0m\u001b[0;34m\"ChangeOccWT\"\u001b[0m\u001b[0;34m]\u001b[0m\u001b[0;34m.\u001b[0m\u001b[0msum\u001b[0m\u001b[0;34m(\u001b[0m\u001b[0;34m)\u001b[0m\u001b[0;34m/\u001b[0m\u001b[0;36m1e6\u001b[0m\u001b[0;34m)\u001b[0m\u001b[0;34m\u001b[0m\u001b[0;34m\u001b[0m\u001b[0m\n\u001b[0m\u001b[1;32m      3\u001b[0m \u001b[0mprint\u001b[0m\u001b[0;34m(\u001b[0m\u001b[0;34m\"Percentage of workforce that switched occupation in a year \"\u001b[0m\u001b[0;34m,\u001b[0m \u001b[0mdf\u001b[0m\u001b[0;34m[\u001b[0m\u001b[0;34m\"ChangeOccWT\"\u001b[0m\u001b[0;34m]\u001b[0m\u001b[0;34m.\u001b[0m\u001b[0msum\u001b[0m\u001b[0;34m(\u001b[0m\u001b[0;34m)\u001b[0m\u001b[0;34m/\u001b[0m\u001b[0mdf\u001b[0m\u001b[0;34m[\u001b[0m\u001b[0;34m\"ASECWT\"\u001b[0m\u001b[0;34m]\u001b[0m\u001b[0;34m.\u001b[0m\u001b[0msum\u001b[0m\u001b[0;34m(\u001b[0m\u001b[0;34m)\u001b[0m\u001b[0;34m)\u001b[0m\u001b[0;34m\u001b[0m\u001b[0;34m\u001b[0m\u001b[0m\n",
      "\u001b[0;32m~/anaconda3/lib/python3.8/site-packages/pandas/core/frame.py\u001b[0m in \u001b[0;36m__getitem__\u001b[0;34m(self, key)\u001b[0m\n\u001b[1;32m   3456\u001b[0m             \u001b[0;32mif\u001b[0m \u001b[0mself\u001b[0m\u001b[0;34m.\u001b[0m\u001b[0mcolumns\u001b[0m\u001b[0;34m.\u001b[0m\u001b[0mnlevels\u001b[0m \u001b[0;34m>\u001b[0m \u001b[0;36m1\u001b[0m\u001b[0;34m:\u001b[0m\u001b[0;34m\u001b[0m\u001b[0;34m\u001b[0m\u001b[0m\n\u001b[1;32m   3457\u001b[0m                 \u001b[0;32mreturn\u001b[0m \u001b[0mself\u001b[0m\u001b[0;34m.\u001b[0m\u001b[0m_getitem_multilevel\u001b[0m\u001b[0;34m(\u001b[0m\u001b[0mkey\u001b[0m\u001b[0;34m)\u001b[0m\u001b[0;34m\u001b[0m\u001b[0;34m\u001b[0m\u001b[0m\n\u001b[0;32m-> 3458\u001b[0;31m             \u001b[0mindexer\u001b[0m \u001b[0;34m=\u001b[0m \u001b[0mself\u001b[0m\u001b[0;34m.\u001b[0m\u001b[0mcolumns\u001b[0m\u001b[0;34m.\u001b[0m\u001b[0mget_loc\u001b[0m\u001b[0;34m(\u001b[0m\u001b[0mkey\u001b[0m\u001b[0;34m)\u001b[0m\u001b[0;34m\u001b[0m\u001b[0;34m\u001b[0m\u001b[0m\n\u001b[0m\u001b[1;32m   3459\u001b[0m             \u001b[0;32mif\u001b[0m \u001b[0mis_integer\u001b[0m\u001b[0;34m(\u001b[0m\u001b[0mindexer\u001b[0m\u001b[0;34m)\u001b[0m\u001b[0;34m:\u001b[0m\u001b[0;34m\u001b[0m\u001b[0;34m\u001b[0m\u001b[0m\n\u001b[1;32m   3460\u001b[0m                 \u001b[0mindexer\u001b[0m \u001b[0;34m=\u001b[0m \u001b[0;34m[\u001b[0m\u001b[0mindexer\u001b[0m\u001b[0;34m]\u001b[0m\u001b[0;34m\u001b[0m\u001b[0;34m\u001b[0m\u001b[0m\n",
      "\u001b[0;32m~/anaconda3/lib/python3.8/site-packages/pandas/core/indexes/base.py\u001b[0m in \u001b[0;36mget_loc\u001b[0;34m(self, key, method, tolerance)\u001b[0m\n\u001b[1;32m   3361\u001b[0m                 \u001b[0;32mreturn\u001b[0m \u001b[0mself\u001b[0m\u001b[0;34m.\u001b[0m\u001b[0m_engine\u001b[0m\u001b[0;34m.\u001b[0m\u001b[0mget_loc\u001b[0m\u001b[0;34m(\u001b[0m\u001b[0mcasted_key\u001b[0m\u001b[0;34m)\u001b[0m\u001b[0;34m\u001b[0m\u001b[0;34m\u001b[0m\u001b[0m\n\u001b[1;32m   3362\u001b[0m             \u001b[0;32mexcept\u001b[0m \u001b[0mKeyError\u001b[0m \u001b[0;32mas\u001b[0m \u001b[0merr\u001b[0m\u001b[0;34m:\u001b[0m\u001b[0;34m\u001b[0m\u001b[0;34m\u001b[0m\u001b[0m\n\u001b[0;32m-> 3363\u001b[0;31m                 \u001b[0;32mraise\u001b[0m \u001b[0mKeyError\u001b[0m\u001b[0;34m(\u001b[0m\u001b[0mkey\u001b[0m\u001b[0;34m)\u001b[0m \u001b[0;32mfrom\u001b[0m \u001b[0merr\u001b[0m\u001b[0;34m\u001b[0m\u001b[0;34m\u001b[0m\u001b[0m\n\u001b[0m\u001b[1;32m   3364\u001b[0m \u001b[0;34m\u001b[0m\u001b[0m\n\u001b[1;32m   3365\u001b[0m         \u001b[0;32mif\u001b[0m \u001b[0mis_scalar\u001b[0m\u001b[0;34m(\u001b[0m\u001b[0mkey\u001b[0m\u001b[0;34m)\u001b[0m \u001b[0;32mand\u001b[0m \u001b[0misna\u001b[0m\u001b[0;34m(\u001b[0m\u001b[0mkey\u001b[0m\u001b[0;34m)\u001b[0m \u001b[0;32mand\u001b[0m \u001b[0;32mnot\u001b[0m \u001b[0mself\u001b[0m\u001b[0;34m.\u001b[0m\u001b[0mhasnans\u001b[0m\u001b[0;34m:\u001b[0m\u001b[0;34m\u001b[0m\u001b[0;34m\u001b[0m\u001b[0m\n",
      "\u001b[0;31mKeyError\u001b[0m: 'ChangeOccWT'"
     ]
    }
   ],
   "source": [
    "\n",
    "print(\"People that changed occupaiton (millions) \", df[\"ChangeOccWT\"].sum()/1e6)\n",
    "print(\"Percentage of workforce that switched occupation in a year \", df[\"ChangeOccWT\"].sum()/df[\"ASECWT\"].sum())"
   ]
  },
  {
   "cell_type": "code",
   "execution_count": 8,
   "id": "9f23f7e9",
   "metadata": {},
   "outputs": [],
   "source": [
    "(df_asec_2019[\"CPSIDP\"] != 0) | (df_asec_2019[\"ASECOVERP\"] == 1)"
   ]
  },
  {
   "cell_type": "code",
   "execution_count": 9,
   "id": "fa44faf5",
   "metadata": {},
   "outputs": [
    {
     "data": {
      "text/plain": [
       "array([ 850,  581,    0,  612,  651,  732,  641,  842,  640,  880,  831,\n",
       "        710,   60,  550,  410,  832,  820,  552,  711,  351,  910,  541,\n",
       "        812,  921,  890,  591,  601,  521,  663,  700,  633,  722,  761,\n",
       "        882,  840,  862,  412,  901,  762,  741,  152,  450,  623,  540,\n",
       "        360,  580,  672,  661,  841,  772,  620,  421,  282,  622,  791,\n",
       "        731,  621,  221,  821,  402,  171,  440,  642,  331,  701,  320,\n",
       "        611,  630,  500,  871,  632,  800,  180,  781,  631,  600,  242,\n",
       "        671,  161,  342,  851,  172,  863,  562,  740,  151,  810,  712,\n",
       "        892,  140,  530,  682,  652,  160,  870,  650,  893,  702,  932,\n",
       "        142,  150,  660,   32,  872,  231,  931,   11,  441,  230,  891,\n",
       "         12,  502,  241,  930,  532,  751,  801,   10,  162,  590,  512,\n",
       "        471,  582,  211,  212,   20,  900,  881,  400,  922,  192,  341,\n",
       "        531,  860,  352,  760,  770,  102,  510,  111,  610,  830,  470,\n",
       "        371,  280,   30,  411,  592,  121,  771,  542,  322,  271,  372,\n",
       "        380,  362,  120,  321,  391,  742,  250,  670,  132,  401,  681,\n",
       "        251,  432,  852,  182,  300,  560,  721,  390,  101,   31,  561,\n",
       "        420,   50,  232,  691,  262,  222,  311,  181,  291,  261,  873,\n",
       "        281,  511,  861,  752,  332,  750,  802,  272,  112,  100,  452,\n",
       "        340,  662,  141,  822,  451,  312,  381,  501,  780,  270,  292,\n",
       "        392,  790,  130,  782,  290,  571,  350,  210,  252,  361,  190,\n",
       "        201,   42,  310,  370,  110,  200,  602,  191,  551,   41,  991,\n",
       "        472,  422,   40,  220,  442,  301,  122, 8980, 5190, 7690, 3680,\n",
       "       8770, 4970, 8680, 7070, 8190, 1990, 9590, 7860, 6970, 2870, 5592,\n",
       "       5270, 7870, 7780, 7490, 8560, 9470, 6670, 6990, 8170, 8270, 7280,\n",
       "       6480, 7270, 8090, 7380, 7390, 8080, 9070,  680, 6470, 6870, 5170,\n",
       "       9380, 4290, 6370, 8470, 7970, 4270, 8660, 2880, 3390, 3870, 1190,\n",
       "       2290, 3570, 4470, 7290, 2390, 5570, 5490, 7580, 5070, 4580, 4090,\n",
       "       5380, 7470, 8590, 5390, 1180, 6080, 9090, 8370, 4670, 3890, 4170,\n",
       "       5480, 1890, 8180, 8570, 4370, 2370, 9370, 1270, 6170, 6570, 3360,\n",
       "       7880, 4770, 1280, 3770, 6680, 4690, 5690, 5090, 1880, 4870, 3490,\n",
       "        570, 3190, 3970, 7890, 8290, 6890, 7980, 4980, 9290, 1370, 7770,\n",
       "       5470, 4890, 4390, 9080, 7460, 3370, 1870, 9160, 8690, 6070, 6880,\n",
       "       4880, 8670, 1790, 5580,  170, 6090, 4790, 2470, 7990, 9480, 2070,\n",
       "       3980, 4490, 4680, 3580, 1770,  490, 8870, 6180, 1480, 9390, 3790,\n",
       "       7790, 8780, 1680, 8990, 2190, 1090, 7370, 9170, 5680, 8390, 7670,\n",
       "       8380, 7590, 6290, 2570, 5370, 9570, 9190, 6380, 3170, 4080, 3780,\n",
       "       7480, 7180, 9490, 1590, 7680, 6780, 3590, 2280, 3960, 4260, 5080,\n",
       "       6692, 4380, 5180, 3380, 7190, 4560, 4990, 8970, 1080, 2670, 5790,\n",
       "       2790, 3090, 3470, 4190, 3180, 2980, 2170, 2770, 4070, 7170, 6695,\n",
       "       2270, 2590, 6770, 7570, 4180, 5590, 5670, 2780, 2970, 8070, 4585,\n",
       "       2690, 2890, 8880, 1170, 8790, 1670, 4570,  480, 3670, 2490, 2090,\n",
       "       6280, 4590, 5290, 6690, 3990, 1490, 6490, 2180, 1070, 4280, 2990,\n",
       "       6190, 3080, 9890, 9180, 8580, 1570, 1470, 7080, 2380, 6390, 6675,\n",
       "       4780, 2680, 5280, 6590, 1690, 3290,  690, 3690, 4480, 2480, 3070,\n",
       "       6270, 1290, 8890, 1390, 5591, 6672, 4795, 5295, 3875, 3895, 5275,\n",
       "       3095, 3365, 4265, 4195, 8191, 6991, 7071, 8564, 4971, 5381, 7072,\n",
       "       8891, 8192, 5593, 8561, 4972, 3291, 6992, 5391, 1691, 8563, 8562,\n",
       "       7181])"
      ]
     },
     "execution_count": 9,
     "metadata": {},
     "output_type": "execute_result"
    }
   ],
   "source": [
    "df[\"IND\"].unique()"
   ]
  },
  {
   "cell_type": "code",
   "execution_count": null,
   "id": "5ff78ec5",
   "metadata": {},
   "outputs": [],
   "source": []
  }
 ],
 "metadata": {
  "kernelspec": {
   "display_name": "Python 3",
   "language": "python",
   "name": "python3"
  },
  "language_info": {
   "codemirror_mode": {
    "name": "ipython",
    "version": 3
   },
   "file_extension": ".py",
   "mimetype": "text/x-python",
   "name": "python",
   "nbconvert_exporter": "python",
   "pygments_lexer": "ipython3",
   "version": "3.8.8"
  }
 },
 "nbformat": 4,
 "nbformat_minor": 5
}
