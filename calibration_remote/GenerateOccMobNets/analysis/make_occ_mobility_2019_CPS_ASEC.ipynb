{
 "cells": [
  {
   "cell_type": "code",
   "execution_count": 1,
   "id": "0c48521d",
   "metadata": {},
   "outputs": [],
   "source": [
    "import pandas as pd\n",
    "import random\n",
    "import numpy as np\n",
    "from matplotlib import pylab as plt\n",
    "import scipy.stats\n",
    "import copy\n",
    "from scipy.sparse import linalg as LA\n",
    "#import powerlaw\n",
    "# %matplotlib inline\n",
    "\n",
    "path_data = \"../data/\"\n",
    "path_fig = \"../results/fig/\""
   ]
  },
  {
   "cell_type": "code",
   "execution_count": 2,
   "id": "8e196699",
   "metadata": {},
   "outputs": [],
   "source": [
    "#The following have been removed\n",
    "# df_2019[(df_2019['OCC2010']!= 9999) & (df_2019[\"LABFORCE\"] == 2) & (df_2019['CPSIDP']!= 0)]\n",
    "#PAN not na\n",
    "df_2019 = pd.read_pickle(path_data + \"CPS_df_occmobpanel_2019_asec.pkl\")\n",
    "df_asec = pd.read_pickle(path_data + \"CPS_asec_df_occmob_summary_2019.pkl\")"
   ]
  },
  {
   "cell_type": "markdown",
   "id": "4d76d4c0",
   "metadata": {},
   "source": [
    "### Make ordered list of occupations with broad category\n",
    "List and broad category taken from here https://usa.ipums.org/usa-action/variables/OCC2010#codes_section\n",
    "(Extraction merged with contruction and technicians with Arch & Eng, Military removed)"
   ]
  },
  {
   "cell_type": "code",
   "execution_count": 3,
   "id": "c686ca79",
   "metadata": {},
   "outputs": [],
   "source": [
    "df_categories = pd.read_csv(path_data + \"occ2010_cps_broad_class.csv\")\n",
    "occ_cps = set(df_2019[\"OCC2010\"].unique())\n",
    "occ_cps_form = set(df_categories[\"Code\"])"
   ]
  },
  {
   "cell_type": "code",
   "execution_count": 4,
   "id": "737af21c",
   "metadata": {},
   "outputs": [
    {
     "name": "stdout",
     "output_type": "stream",
     "text": [
      "Check that all OCC2010 codes in cps 2019 are in the list set()\n",
      "Remove from list those codes that are not in cps 2019 {320, 9920, 9800, 8060, 1980, 9230, 1230, 3120, 9810, 8340, 7125, 8150, 7960, 7930, 9820, 6430}\n"
     ]
    }
   ],
   "source": [
    "print(\"Check that all OCC2010 codes in cps 2019 are in the list\", occ_cps.difference(occ_cps_form))\n",
    "print(\"Remove from list those codes that are not in cps 2019\", occ_cps_form.difference(occ_cps))\n",
    "to_remove = occ_cps_form.difference(occ_cps)\n",
    "df_categories = df_categories[~df_categories['Code'].isin(to_remove)]"
   ]
  },
  {
   "cell_type": "code",
   "execution_count": 5,
   "id": "cd3d12df",
   "metadata": {},
   "outputs": [],
   "source": [
    "df_categories.to_csv(path_data + \"occ2010_in_cps2019.csv\", index=False)\n",
    "df_categories = pd.read_csv(path_data + \"occ2010_in_cps2019.csv\")\n",
    "df_categories.head()\n",
    "occ_names = list(df_categories[\"Label\"])\n",
    "occ_codes = list(df_categories[\"Code\"])\n",
    "dict_code_index = {}\n",
    "for i in range(len(occ_codes)):\n",
    "    dict_code_index[occ_codes[i]] = i"
   ]
  },
  {
   "cell_type": "code",
   "execution_count": 6,
   "id": "82e8f00f",
   "metadata": {},
   "outputs": [
    {
     "data": {
      "text/html": [
       "<div>\n",
       "<style scoped>\n",
       "    .dataframe tbody tr th:only-of-type {\n",
       "        vertical-align: middle;\n",
       "    }\n",
       "\n",
       "    .dataframe tbody tr th {\n",
       "        vertical-align: top;\n",
       "    }\n",
       "\n",
       "    .dataframe thead th {\n",
       "        text-align: right;\n",
       "    }\n",
       "</style>\n",
       "<table border=\"1\" class=\"dataframe\">\n",
       "  <thead>\n",
       "    <tr style=\"text-align: right;\">\n",
       "      <th></th>\n",
       "      <th>Code</th>\n",
       "      <th>BroadClassification</th>\n",
       "      <th>Label</th>\n",
       "    </tr>\n",
       "  </thead>\n",
       "  <tbody>\n",
       "    <tr>\n",
       "      <th>0</th>\n",
       "      <td>10</td>\n",
       "      <td>MANAGEMENT, BUSINESS, SCIENCE, AND ARTS</td>\n",
       "      <td>Chief executives and legislators/public admini...</td>\n",
       "    </tr>\n",
       "    <tr>\n",
       "      <th>1</th>\n",
       "      <td>20</td>\n",
       "      <td>MANAGEMENT, BUSINESS, SCIENCE, AND ARTS</td>\n",
       "      <td>General and Operations Managers</td>\n",
       "    </tr>\n",
       "    <tr>\n",
       "      <th>2</th>\n",
       "      <td>30</td>\n",
       "      <td>MANAGEMENT, BUSINESS, SCIENCE, AND ARTS</td>\n",
       "      <td>Managers in Marketing, Advertising, and Public...</td>\n",
       "    </tr>\n",
       "    <tr>\n",
       "      <th>3</th>\n",
       "      <td>100</td>\n",
       "      <td>MANAGEMENT, BUSINESS, SCIENCE, AND ARTS</td>\n",
       "      <td>Administrative Services Managers</td>\n",
       "    </tr>\n",
       "    <tr>\n",
       "      <th>4</th>\n",
       "      <td>110</td>\n",
       "      <td>MANAGEMENT, BUSINESS, SCIENCE, AND ARTS</td>\n",
       "      <td>Computer and Information Systems Managers</td>\n",
       "    </tr>\n",
       "  </tbody>\n",
       "</table>\n",
       "</div>"
      ],
      "text/plain": [
       "   Code                      BroadClassification  \\\n",
       "0    10  MANAGEMENT, BUSINESS, SCIENCE, AND ARTS   \n",
       "1    20  MANAGEMENT, BUSINESS, SCIENCE, AND ARTS   \n",
       "2    30  MANAGEMENT, BUSINESS, SCIENCE, AND ARTS   \n",
       "3   100  MANAGEMENT, BUSINESS, SCIENCE, AND ARTS   \n",
       "4   110  MANAGEMENT, BUSINESS, SCIENCE, AND ARTS   \n",
       "\n",
       "                                               Label  \n",
       "0  Chief executives and legislators/public admini...  \n",
       "1                    General and Operations Managers  \n",
       "2  Managers in Marketing, Advertising, and Public...  \n",
       "3                   Administrative Services Managers  \n",
       "4          Computer and Information Systems Managers  "
      ]
     },
     "execution_count": 6,
     "metadata": {},
     "output_type": "execute_result"
    }
   ],
   "source": [
    "df_categories.head()"
   ]
  },
  {
   "cell_type": "code",
   "execution_count": 7,
   "id": "0761fd8e",
   "metadata": {},
   "outputs": [
    {
     "data": {
      "text/plain": [
       "442"
      ]
     },
     "execution_count": 7,
     "metadata": {},
     "output_type": "execute_result"
    }
   ],
   "source": [
    "len(df_categories)"
   ]
  },
  {
   "cell_type": "markdown",
   "id": "154a047e",
   "metadata": {},
   "source": [
    "### Calculate labor force 2019 CPS"
   ]
  },
  {
   "cell_type": "code",
   "execution_count": 7,
   "id": "b93cd1dd",
   "metadata": {},
   "outputs": [
    {
     "data": {
      "text/html": [
       "<div>\n",
       "<style scoped>\n",
       "    .dataframe tbody tr th:only-of-type {\n",
       "        vertical-align: middle;\n",
       "    }\n",
       "\n",
       "    .dataframe tbody tr th {\n",
       "        vertical-align: top;\n",
       "    }\n",
       "\n",
       "    .dataframe thead th {\n",
       "        text-align: right;\n",
       "    }\n",
       "</style>\n",
       "<table border=\"1\" class=\"dataframe\">\n",
       "  <thead>\n",
       "    <tr style=\"text-align: right;\">\n",
       "      <th></th>\n",
       "      <th>YEAR</th>\n",
       "      <th>SERIAL</th>\n",
       "      <th>MONTH</th>\n",
       "      <th>HWTFINL</th>\n",
       "      <th>CPSID</th>\n",
       "      <th>ASECFLAG</th>\n",
       "      <th>HFLAG</th>\n",
       "      <th>ASECWTH</th>\n",
       "      <th>MISH</th>\n",
       "      <th>ASECOVERH</th>\n",
       "      <th>...</th>\n",
       "      <th>EMPSAME</th>\n",
       "      <th>ASECOVERP</th>\n",
       "      <th>LNKFW1MWT</th>\n",
       "      <th>LNKFWMIS45WT</th>\n",
       "      <th>LNKFWMIS14WT</th>\n",
       "      <th>LNKFWMIS58WT</th>\n",
       "      <th>PANLWT</th>\n",
       "      <th>OCCLY</th>\n",
       "      <th>OCC10LY</th>\n",
       "      <th>QOCCLY</th>\n",
       "    </tr>\n",
       "  </thead>\n",
       "  <tbody>\n",
       "    <tr>\n",
       "      <th>34206660</th>\n",
       "      <td>2019</td>\n",
       "      <td>1</td>\n",
       "      <td>1</td>\n",
       "      <td>1821.1212</td>\n",
       "      <td>20181200000100</td>\n",
       "      <td>NaN</td>\n",
       "      <td>NaN</td>\n",
       "      <td>NaN</td>\n",
       "      <td>2</td>\n",
       "      <td>NaN</td>\n",
       "      <td>...</td>\n",
       "      <td>2.0</td>\n",
       "      <td>NaN</td>\n",
       "      <td>1988.3906</td>\n",
       "      <td>0.0000</td>\n",
       "      <td>0.0</td>\n",
       "      <td>0.0000</td>\n",
       "      <td>2638.8811</td>\n",
       "      <td>NaN</td>\n",
       "      <td>NaN</td>\n",
       "      <td>NaN</td>\n",
       "    </tr>\n",
       "    <tr>\n",
       "      <th>34206662</th>\n",
       "      <td>2019</td>\n",
       "      <td>3</td>\n",
       "      <td>1</td>\n",
       "      <td>1804.2193</td>\n",
       "      <td>20171200000300</td>\n",
       "      <td>NaN</td>\n",
       "      <td>NaN</td>\n",
       "      <td>NaN</td>\n",
       "      <td>6</td>\n",
       "      <td>NaN</td>\n",
       "      <td>...</td>\n",
       "      <td>2.0</td>\n",
       "      <td>NaN</td>\n",
       "      <td>1969.9362</td>\n",
       "      <td>0.0000</td>\n",
       "      <td>0.0</td>\n",
       "      <td>0.0000</td>\n",
       "      <td>2614.3895</td>\n",
       "      <td>NaN</td>\n",
       "      <td>NaN</td>\n",
       "      <td>NaN</td>\n",
       "    </tr>\n",
       "    <tr>\n",
       "      <th>34206663</th>\n",
       "      <td>2019</td>\n",
       "      <td>5</td>\n",
       "      <td>1</td>\n",
       "      <td>3296.9061</td>\n",
       "      <td>20190100000500</td>\n",
       "      <td>NaN</td>\n",
       "      <td>NaN</td>\n",
       "      <td>NaN</td>\n",
       "      <td>5</td>\n",
       "      <td>NaN</td>\n",
       "      <td>...</td>\n",
       "      <td>99.0</td>\n",
       "      <td>NaN</td>\n",
       "      <td>3673.7676</td>\n",
       "      <td>0.0000</td>\n",
       "      <td>0.0</td>\n",
       "      <td>3746.7128</td>\n",
       "      <td>0.0000</td>\n",
       "      <td>NaN</td>\n",
       "      <td>NaN</td>\n",
       "      <td>NaN</td>\n",
       "    </tr>\n",
       "    <tr>\n",
       "      <th>34206666</th>\n",
       "      <td>2019</td>\n",
       "      <td>5</td>\n",
       "      <td>1</td>\n",
       "      <td>3296.9061</td>\n",
       "      <td>20190100000500</td>\n",
       "      <td>NaN</td>\n",
       "      <td>NaN</td>\n",
       "      <td>NaN</td>\n",
       "      <td>5</td>\n",
       "      <td>NaN</td>\n",
       "      <td>...</td>\n",
       "      <td>99.0</td>\n",
       "      <td>NaN</td>\n",
       "      <td>4275.2050</td>\n",
       "      <td>0.0000</td>\n",
       "      <td>0.0</td>\n",
       "      <td>5051.0948</td>\n",
       "      <td>0.0000</td>\n",
       "      <td>NaN</td>\n",
       "      <td>NaN</td>\n",
       "      <td>NaN</td>\n",
       "    </tr>\n",
       "    <tr>\n",
       "      <th>34206668</th>\n",
       "      <td>2019</td>\n",
       "      <td>7</td>\n",
       "      <td>1</td>\n",
       "      <td>2673.3924</td>\n",
       "      <td>20181000000200</td>\n",
       "      <td>NaN</td>\n",
       "      <td>NaN</td>\n",
       "      <td>NaN</td>\n",
       "      <td>4</td>\n",
       "      <td>NaN</td>\n",
       "      <td>...</td>\n",
       "      <td>2.0</td>\n",
       "      <td>NaN</td>\n",
       "      <td>0.0000</td>\n",
       "      <td>6049.5465</td>\n",
       "      <td>0.0</td>\n",
       "      <td>0.0000</td>\n",
       "      <td>3873.8579</td>\n",
       "      <td>NaN</td>\n",
       "      <td>NaN</td>\n",
       "      <td>NaN</td>\n",
       "    </tr>\n",
       "  </tbody>\n",
       "</table>\n",
       "<p>5 rows × 33 columns</p>\n",
       "</div>"
      ],
      "text/plain": [
       "          YEAR  SERIAL  MONTH    HWTFINL           CPSID  ASECFLAG  HFLAG  \\\n",
       "34206660  2019       1      1  1821.1212  20181200000100       NaN    NaN   \n",
       "34206662  2019       3      1  1804.2193  20171200000300       NaN    NaN   \n",
       "34206663  2019       5      1  3296.9061  20190100000500       NaN    NaN   \n",
       "34206666  2019       5      1  3296.9061  20190100000500       NaN    NaN   \n",
       "34206668  2019       7      1  2673.3924  20181000000200       NaN    NaN   \n",
       "\n",
       "          ASECWTH  MISH  ASECOVERH  ...  EMPSAME  ASECOVERP  LNKFW1MWT  \\\n",
       "34206660      NaN     2        NaN  ...      2.0        NaN  1988.3906   \n",
       "34206662      NaN     6        NaN  ...      2.0        NaN  1969.9362   \n",
       "34206663      NaN     5        NaN  ...     99.0        NaN  3673.7676   \n",
       "34206666      NaN     5        NaN  ...     99.0        NaN  4275.2050   \n",
       "34206668      NaN     4        NaN  ...      2.0        NaN     0.0000   \n",
       "\n",
       "          LNKFWMIS45WT  LNKFWMIS14WT  LNKFWMIS58WT     PANLWT  OCCLY  OCC10LY  \\\n",
       "34206660        0.0000           0.0        0.0000  2638.8811    NaN      NaN   \n",
       "34206662        0.0000           0.0        0.0000  2614.3895    NaN      NaN   \n",
       "34206663        0.0000           0.0     3746.7128     0.0000    NaN      NaN   \n",
       "34206666        0.0000           0.0     5051.0948     0.0000    NaN      NaN   \n",
       "34206668     6049.5465           0.0        0.0000  3873.8579    NaN      NaN   \n",
       "\n",
       "          QOCCLY  \n",
       "34206660     NaN  \n",
       "34206662     NaN  \n",
       "34206663     NaN  \n",
       "34206666     NaN  \n",
       "34206668     NaN  \n",
       "\n",
       "[5 rows x 33 columns]"
      ]
     },
     "execution_count": 7,
     "metadata": {},
     "output_type": "execute_result"
    }
   ],
   "source": [
    "df_2019.head()"
   ]
  },
  {
   "cell_type": "code",
   "execution_count": 8,
   "id": "86bbee27",
   "metadata": {},
   "outputs": [],
   "source": [
    "person_sample_counts = df_2019['CPSIDP'].value_counts()\n",
    "sampled_twice = list(person_sample_counts[person_sample_counts >1].index)\n",
    "# only consider people sampled twice\n",
    "df_2019 = df_2019[df_2019['CPSIDP'].isin(sampled_twice)] \n",
    "\n",
    "df_2019['Idx'] = df_2019.index\n",
    "# NOTE sorting is essential for the algorithm to calculate occupational mobility\n",
    "df_2019 = df_2019.sort_values(by = ['CPSIDP', 'Idx'])"
   ]
  },
  {
   "cell_type": "code",
   "execution_count": 9,
   "id": "e001719c",
   "metadata": {},
   "outputs": [
    {
     "name": "stdout",
     "output_type": "stream",
     "text": [
      "Labor force Feb 2019 using WTFINL (million workers) 155.5769617594\n",
      "Labor force Feb 2019 using PANLWT (million workers) 158.9182299814\n",
      "Labor force Feb 2019 using LNKFW1MWT (million workers) 120.37632375550002\n"
     ]
    }
   ],
   "source": [
    "print( \"Labor force Feb 2019 using WTFINL (million workers)\", df_2019[\"WTFINL\"][df_2019[\"MONTH\"] == 2].sum()/1e6)\n",
    "print( \"Labor force Feb 2019 using PANLWT (million workers)\", df_2019[\"PANLWT\"][df_2019[\"MONTH\"] == 2].sum()/1e6)\n",
    "print( \"Labor force Feb 2019 using LNKFW1MWT (million workers)\", df_2019[\"LNKFW1MWT\"][df_2019[\"MONTH\"] == 2].sum()/1e6)\n",
    "# print( \"Labor force Feb 2019 using PANLWT (million workers)\", df_2019[\"PANLWT\"][df_2019[\"MONTH\"] == 2].sum()/1e6)"
   ]
  },
  {
   "cell_type": "code",
   "execution_count": 10,
   "id": "8678018c",
   "metadata": {},
   "outputs": [
    {
     "name": "stdout",
     "output_type": "stream",
     "text": [
      "Labor force March 2019 using WTFINL (million workers) 156.9201581556\n",
      "Labor force March 2019 using PANLWT (million workers) 159.5386710184\n",
      "Labor force March 2019 using LNKFW1MWT (million workers) 120.2513840439\n"
     ]
    }
   ],
   "source": [
    "print( \"Labor force March 2019 using WTFINL (million workers)\", df_2019[\"WTFINL\"][df_2019[\"MONTH\"] == 3].sum()/1e6)\n",
    "print( \"Labor force March 2019 using PANLWT (million workers)\", df_2019[\"PANLWT\"][df_2019[\"MONTH\"] == 3].sum()/1e6)\n",
    "print( \"Labor force March 2019 using LNKFW1MWT (million workers)\", df_2019[\"LNKFW1MWT\"][df_2019[\"MONTH\"] == 3].sum()/1e6)\n",
    "# print( \"Labor force Feb 2019 using PANLWT (million workers)\", df_2019[\"PANLWT\"][df_2019[\"MONTH\"] == 2].sum()/1e6)"
   ]
  },
  {
   "cell_type": "markdown",
   "id": "db560ce1",
   "metadata": {},
   "source": [
    "### Calculate labor force 2019 ASEC"
   ]
  },
  {
   "cell_type": "code",
   "execution_count": 11,
   "id": "4962a3d8",
   "metadata": {},
   "outputs": [],
   "source": [
    "df_asec = df_asec[df_asec[\"ASECWT\"].notna()]\n",
    "# remove CPSIDP unless they are part of the asec over sample\n",
    "df_asec = df_asec[(df_asec[\"CPSIDP\"] != 0) | (df_asec[\"ASECOVERP\"] == 1)] \n",
    "\n",
    "# # In case sorting is needed for later, but probably not\n",
    "# # add index in case useful\n",
    "# df_asec['Idx'] = df_asec.index\n",
    "# df_asec = df_asec.sort_values(by = ['CPSIDP', 'Idx'])"
   ]
  },
  {
   "cell_type": "code",
   "execution_count": 12,
   "id": "c7e6a4d6",
   "metadata": {},
   "outputs": [
    {
     "name": "stdout",
     "output_type": "stream",
     "text": [
      "Labor force March 2019 using ASECWT (million workers) 163.00103038999998\n"
     ]
    }
   ],
   "source": [
    "print( \"Labor force March 2019 using ASECWT (million workers)\", df_asec[\"ASECWT\"].sum()/1e6)"
   ]
  },
  {
   "cell_type": "markdown",
   "id": "7d5fa579",
   "metadata": {},
   "source": [
    "#### To do: of the people that switched occupationn how many did in their current job and how many in other job. How about ASEC. Use EMPSAME"
   ]
  },
  {
   "cell_type": "markdown",
   "id": "a95a5883",
   "metadata": {},
   "source": [
    "## Occupation transitions"
   ]
  },
  {
   "cell_type": "markdown",
   "id": "9812276d",
   "metadata": {},
   "source": [
    "### ASEC"
   ]
  },
  {
   "cell_type": "code",
   "execution_count": 13,
   "id": "7de8aca7",
   "metadata": {},
   "outputs": [
    {
     "data": {
      "text/html": [
       "<div>\n",
       "<style scoped>\n",
       "    .dataframe tbody tr th:only-of-type {\n",
       "        vertical-align: middle;\n",
       "    }\n",
       "\n",
       "    .dataframe tbody tr th {\n",
       "        vertical-align: top;\n",
       "    }\n",
       "\n",
       "    .dataframe thead th {\n",
       "        text-align: right;\n",
       "    }\n",
       "</style>\n",
       "<table border=\"1\" class=\"dataframe\">\n",
       "  <thead>\n",
       "    <tr style=\"text-align: right;\">\n",
       "      <th></th>\n",
       "      <th>YEAR</th>\n",
       "      <th>SERIAL</th>\n",
       "      <th>MONTH</th>\n",
       "      <th>CPSID</th>\n",
       "      <th>ASECFLAG</th>\n",
       "      <th>HFLAG</th>\n",
       "      <th>CPSIDP</th>\n",
       "      <th>ASECWT</th>\n",
       "      <th>AGE</th>\n",
       "      <th>SEX</th>\n",
       "      <th>...</th>\n",
       "      <th>EMPSTAT</th>\n",
       "      <th>LABFORCE</th>\n",
       "      <th>OCC</th>\n",
       "      <th>OCC2010</th>\n",
       "      <th>IND</th>\n",
       "      <th>EMPSAME</th>\n",
       "      <th>ASECOVERP</th>\n",
       "      <th>OCCLY</th>\n",
       "      <th>OCC10LY</th>\n",
       "      <th>QOCCLY</th>\n",
       "    </tr>\n",
       "  </thead>\n",
       "  <tbody>\n",
       "    <tr>\n",
       "      <th>34564987</th>\n",
       "      <td>2019</td>\n",
       "      <td>4</td>\n",
       "      <td>3</td>\n",
       "      <td>20180302857800</td>\n",
       "      <td>1.0</td>\n",
       "      <td>NaN</td>\n",
       "      <td>20180302857801</td>\n",
       "      <td>2031.67</td>\n",
       "      <td>21</td>\n",
       "      <td>1</td>\n",
       "      <td>...</td>\n",
       "      <td>10</td>\n",
       "      <td>2</td>\n",
       "      <td>4050</td>\n",
       "      <td>4050</td>\n",
       "      <td>8660</td>\n",
       "      <td>NaN</td>\n",
       "      <td>0.0</td>\n",
       "      <td>4050.0</td>\n",
       "      <td>4050.0</td>\n",
       "      <td>0.0</td>\n",
       "    </tr>\n",
       "    <tr>\n",
       "      <th>34564989</th>\n",
       "      <td>2019</td>\n",
       "      <td>7</td>\n",
       "      <td>3</td>\n",
       "      <td>20190302846800</td>\n",
       "      <td>1.0</td>\n",
       "      <td>NaN</td>\n",
       "      <td>20190302846801</td>\n",
       "      <td>1209.17</td>\n",
       "      <td>61</td>\n",
       "      <td>2</td>\n",
       "      <td>...</td>\n",
       "      <td>10</td>\n",
       "      <td>2</td>\n",
       "      <td>4020</td>\n",
       "      <td>4000</td>\n",
       "      <td>8660</td>\n",
       "      <td>NaN</td>\n",
       "      <td>0.0</td>\n",
       "      <td>4020.0</td>\n",
       "      <td>4000.0</td>\n",
       "      <td>0.0</td>\n",
       "    </tr>\n",
       "    <tr>\n",
       "      <th>34564991</th>\n",
       "      <td>2019</td>\n",
       "      <td>8</td>\n",
       "      <td>3</td>\n",
       "      <td>20190302822300</td>\n",
       "      <td>1.0</td>\n",
       "      <td>NaN</td>\n",
       "      <td>20190302822302</td>\n",
       "      <td>1480.79</td>\n",
       "      <td>37</td>\n",
       "      <td>1</td>\n",
       "      <td>...</td>\n",
       "      <td>10</td>\n",
       "      <td>2</td>\n",
       "      <td>4610</td>\n",
       "      <td>4610</td>\n",
       "      <td>8370</td>\n",
       "      <td>NaN</td>\n",
       "      <td>0.0</td>\n",
       "      <td>4610.0</td>\n",
       "      <td>4610.0</td>\n",
       "      <td>0.0</td>\n",
       "    </tr>\n",
       "    <tr>\n",
       "      <th>34564993</th>\n",
       "      <td>2019</td>\n",
       "      <td>15</td>\n",
       "      <td>3</td>\n",
       "      <td>20190202831700</td>\n",
       "      <td>1.0</td>\n",
       "      <td>NaN</td>\n",
       "      <td>20190202831701</td>\n",
       "      <td>1583.31</td>\n",
       "      <td>53</td>\n",
       "      <td>2</td>\n",
       "      <td>...</td>\n",
       "      <td>10</td>\n",
       "      <td>2</td>\n",
       "      <td>4840</td>\n",
       "      <td>4840</td>\n",
       "      <td>6290</td>\n",
       "      <td>NaN</td>\n",
       "      <td>0.0</td>\n",
       "      <td>4840.0</td>\n",
       "      <td>4840.0</td>\n",
       "      <td>0.0</td>\n",
       "    </tr>\n",
       "    <tr>\n",
       "      <th>34564997</th>\n",
       "      <td>2019</td>\n",
       "      <td>21</td>\n",
       "      <td>3</td>\n",
       "      <td>20180102883800</td>\n",
       "      <td>1.0</td>\n",
       "      <td>NaN</td>\n",
       "      <td>20180102883801</td>\n",
       "      <td>1502.27</td>\n",
       "      <td>54</td>\n",
       "      <td>1</td>\n",
       "      <td>...</td>\n",
       "      <td>10</td>\n",
       "      <td>2</td>\n",
       "      <td>6420</td>\n",
       "      <td>6420</td>\n",
       "      <td>770</td>\n",
       "      <td>NaN</td>\n",
       "      <td>0.0</td>\n",
       "      <td>6420.0</td>\n",
       "      <td>6420.0</td>\n",
       "      <td>0.0</td>\n",
       "    </tr>\n",
       "  </tbody>\n",
       "</table>\n",
       "<p>5 rows × 22 columns</p>\n",
       "</div>"
      ],
      "text/plain": [
       "          YEAR  SERIAL  MONTH           CPSID  ASECFLAG  HFLAG  \\\n",
       "34564987  2019       4      3  20180302857800       1.0    NaN   \n",
       "34564989  2019       7      3  20190302846800       1.0    NaN   \n",
       "34564991  2019       8      3  20190302822300       1.0    NaN   \n",
       "34564993  2019      15      3  20190202831700       1.0    NaN   \n",
       "34564997  2019      21      3  20180102883800       1.0    NaN   \n",
       "\n",
       "                  CPSIDP   ASECWT  AGE  SEX  ...  EMPSTAT  LABFORCE   OCC  \\\n",
       "34564987  20180302857801  2031.67   21    1  ...       10         2  4050   \n",
       "34564989  20190302846801  1209.17   61    2  ...       10         2  4020   \n",
       "34564991  20190302822302  1480.79   37    1  ...       10         2  4610   \n",
       "34564993  20190202831701  1583.31   53    2  ...       10         2  4840   \n",
       "34564997  20180102883801  1502.27   54    1  ...       10         2  6420   \n",
       "\n",
       "          OCC2010   IND  EMPSAME  ASECOVERP   OCCLY  OCC10LY  QOCCLY  \n",
       "34564987     4050  8660      NaN        0.0  4050.0   4050.0     0.0  \n",
       "34564989     4000  8660      NaN        0.0  4020.0   4000.0     0.0  \n",
       "34564991     4610  8370      NaN        0.0  4610.0   4610.0     0.0  \n",
       "34564993     4840  6290      NaN        0.0  4840.0   4840.0     0.0  \n",
       "34564997     6420   770      NaN        0.0  6420.0   6420.0     0.0  \n",
       "\n",
       "[5 rows x 22 columns]"
      ]
     },
     "execution_count": 13,
     "metadata": {},
     "output_type": "execute_result"
    }
   ],
   "source": [
    "df_asec.head()"
   ]
  },
  {
   "cell_type": "code",
   "execution_count": 14,
   "id": "ab641529",
   "metadata": {},
   "outputs": [],
   "source": [
    "df_asec[\"ChangeOcc\"] = df_asec[\"OCC2010\"] != df_asec[\"OCC10LY\"]\n",
    "df_asec[\"ChangeOccWT\"] = df_asec[\"ChangeOcc\"] * df_asec[\"ASECWT\"]"
   ]
  },
  {
   "cell_type": "code",
   "execution_count": 15,
   "id": "ffa8832e",
   "metadata": {},
   "outputs": [
    {
     "name": "stdout",
     "output_type": "stream",
     "text": [
      "Workforce estimation (millions)  163.00103038999998\n",
      "People that changed occupaiton (millions)  25.82486389\n",
      "Percentage of workforce that switched occupation in a year  0.15843374626657783\n"
     ]
    }
   ],
   "source": [
    "print(\"Workforce estimation (millions) \", df_asec[\"ASECWT\"].sum()/1e6)\n",
    "print(\"People that changed occupaiton (millions) \", df_asec[\"ChangeOccWT\"].sum()/1e6)\n",
    "print(\"Percentage of workforce that switched occupation in a year \", df_asec[\"ChangeOccWT\"].sum()/df_asec[\"ASECWT\"].sum())"
   ]
  },
  {
   "cell_type": "markdown",
   "id": "1d1b9cbe",
   "metadata": {},
   "source": [
    "### CPS"
   ]
  },
  {
   "cell_type": "code",
   "execution_count": 16,
   "id": "7d6f6d30",
   "metadata": {},
   "outputs": [],
   "source": [
    "def calculate_transitions_cps(df):\n",
    "    \"\"\" Function that calculates occupation\\industry transitions\n",
    "    Args:\n",
    "        df(DaraFrame): dataframe with cps _sorted_ by cpsid\n",
    "    NOTE df must be sorted!\n",
    "    \"\"\"\n",
    "    # setting id's to compare when a transition happens\n",
    "    person_id_old, occ_old, ind_old = 0, 0, 0\n",
    "    # counters for raw (i.e. not using person weights) transitions\n",
    "    raw_transitions_occ, raw_transitions_ind, raw_transitions_both = 0, 0, 0\n",
    "    # coutner for estimated transitions in the use population (using PANLWT)\n",
    "    transitions_occ, transitions_ind, transitions_both = 0, 0, 0\n",
    "    # counter for people remaining in same occ or industry\n",
    "    remained_occ, remained_ind = 0, 0\n",
    "    \n",
    "    # iterate over rows (df is sorted by person id)\n",
    "    for index, row in df.iterrows():\n",
    "        person_id_new = row[\"CPSIDP\"]\n",
    "        # still same person as before\n",
    "        if person_id_new == person_id_old:\n",
    "            # check if person changed occupation\n",
    "            if occ_old != row[\"OCC2010\"]:\n",
    "                # add transitions to counters\n",
    "                raw_transitions_occ +=1 \n",
    "                transitions_occ += 1 * row[\"PANLWT\"]\n",
    "                occ_old = row[\"OCC2010\"]\n",
    "                # check if person also changed industry\n",
    "                if ind_old != row[\"IND\"]:\n",
    "                    raw_transitions_both += 1\n",
    "                    transitions_both += 1 * row[\"PANLWT\"]\n",
    "            # if did not change occ add in remain\n",
    "            else:\n",
    "                remained_occ += 1 * row[\"PANLWT\"]\n",
    "                \n",
    "            # check if person changed industry\n",
    "            if ind_old != row[\"IND\"]: \n",
    "                raw_transitions_ind += 1\n",
    "                transitions_ind += 1 * row[\"PANLWT\"]\n",
    "            else:\n",
    "                remained_ind += 1 * row[\"PANLWT\"]\n",
    "        # if it is not same person a before update id's\n",
    "        else:\n",
    "            person_id_old = person_id_new\n",
    "            occ_old = row[\"OCC2010\"]\n",
    "            ind_old = row[\"IND\"]\n",
    "            \n",
    "    \n",
    "    return transitions_occ, transitions_ind, transitions_both, \\\n",
    "            raw_transitions_occ, raw_transitions_ind, raw_transitions_both, remained_occ, remained_ind\n",
    "    "
   ]
  },
  {
   "cell_type": "code",
   "execution_count": 17,
   "id": "9f9bd48a",
   "metadata": {},
   "outputs": [],
   "source": [
    "df_2019 = df_2019.sort_values(by = ['CPSIDP', 'Idx'])\n",
    "df_2019 = df_2019[[\"YEAR\", 'SERIAL', \"MONTH\", \"CPSIDP\", \"MISH\",'PANLWT', \\\n",
    "                  'OCC', 'OCC2010', 'IND', 'EMPSAME', 'ASECOVERP', 'OCCLY', 'OCC10LY', 'QOCCLY', 'Idx']]"
   ]
  },
  {
   "cell_type": "code",
   "execution_count": 18,
   "id": "83419d4f",
   "metadata": {},
   "outputs": [],
   "source": [
    "transitions_occ, transitions_ind, transitions_both, \\\n",
    "    raw_transitions_occ, raw_transitions_ind, raw_transitions_both, remained_occ, remained_ind \\\n",
    "    = calculate_transitions_cps(df_2019)"
   ]
  },
  {
   "cell_type": "code",
   "execution_count": 19,
   "id": "0c89064f",
   "metadata": {},
   "outputs": [
    {
     "name": "stdout",
     "output_type": "stream",
     "text": [
      "Workforce estimation (millions) March 159.5386710184\n",
      "People that changed occupaiton (millions) Year 142.81815790919916\n",
      "Percentage of workforce that switched occupation in a year 0.8951946070349774\n",
      "Ratio between transitions and remains  0.08196651501138642\n"
     ]
    }
   ],
   "source": [
    "print(\"Workforce estimation (millions) March\", df_2019[\"PANLWT\"][df_2019[\"MONTH\"] == 3].sum()/1e6)\n",
    "print(\"People that changed occupaiton (millions) Year\", transitions_occ/1e6)\n",
    "print(\"Percentage of workforce that switched occupation in a year\", transitions_occ/ df_2019[\"PANLWT\"][df_2019[\"MONTH\"] == 3].sum())\n",
    "print(\"Ratio between transitions and remains \", transitions_occ/(transitions_occ + remained_occ))"
   ]
  },
  {
   "cell_type": "code",
   "execution_count": 20,
   "id": "ad295cf2",
   "metadata": {},
   "outputs": [
    {
     "name": "stdout",
     "output_type": "stream",
     "text": [
      "Workforce estimation (millions) March 159.5386710184\n",
      "People that changed industriesn (millions) Year 182.0927691368978\n",
      "Percentage of workforce that switched oindustries in a year 1.1413707283289114\n",
      "Ratio between transitions and remains  0.10450708728797503\n"
     ]
    }
   ],
   "source": [
    "print(\"Workforce estimation (millions) March\", df_2019[\"PANLWT\"][df_2019[\"MONTH\"] == 3].sum()/1e6)\n",
    "print(\"People that changed industriesn (millions) Year\", transitions_ind/1e6)\n",
    "print(\"Percentage of workforce that switched oindustries in a year\", transitions_ind/ df_2019[\"PANLWT\"][df_2019[\"MONTH\"] == 3].sum())\n",
    "print(\"Ratio between transitions and remains \", transitions_ind/(transitions_ind + remained_ind))"
   ]
  },
  {
   "cell_type": "code",
   "execution_count": 21,
   "id": "71388c6f",
   "metadata": {},
   "outputs": [],
   "source": [
    "df_2019_febmarch = df_2019[(df_2019[\"MONTH\"] == 2) | (df_2019[\"MONTH\"] == 3)]\n",
    "df_2019_febmarch = df_2019_febmarch[[\"YEAR\", 'SERIAL', \"MONTH\", \"CPSIDP\", \"MISH\",'PANLWT', \\\n",
    "                  'OCC', 'OCC2010', 'IND', 'EMPSAME', 'ASECOVERP', 'OCCLY', 'OCC10LY', 'QOCCLY']]\n",
    "person_sample_counts = df_2019_febmarch['CPSIDP'].value_counts()\n",
    "sampled_twice = list(person_sample_counts[person_sample_counts >1].index)\n",
    "# only consider people sampled twice\n",
    "df_2019_febmarch = df_2019_febmarch[df_2019_febmarch['CPSIDP'].isin(sampled_twice)] \n",
    "\n",
    "df_2019_febmarch['Idx'] = df_2019_febmarch.index\n",
    "# NOTE sorting is essential for the algorithm to calculate occupational mobility\n",
    "df_2019_febmarch = df_2019_febmarch.sort_values(by = ['CPSIDP', 'Idx'])"
   ]
  },
  {
   "cell_type": "code",
   "execution_count": 22,
   "id": "a9f8ef2f",
   "metadata": {},
   "outputs": [],
   "source": [
    "transitions_occ, transitions_ind, transitions_both, \\\n",
    "    raw_transitions_occ, raw_transitions_ind, raw_transitions_both, remained_occ, remained_ind \\\n",
    "    = calculate_transitions_cps(df_2019_febmarch)"
   ]
  },
  {
   "cell_type": "code",
   "execution_count": 23,
   "id": "2b5a5f43",
   "metadata": {},
   "outputs": [
    {
     "name": "stdout",
     "output_type": "stream",
     "text": [
      "People that changed occupaiton (millions) Month 11.926793017300012\n",
      "Percentage of workforce that switched occupation in a Month 0.07475800657712928\n",
      "Ratio between transitions and remains Month 0.07648601366376781\n"
     ]
    }
   ],
   "source": [
    "print(\"People that changed occupaiton (millions) Month\", transitions_occ/1e6)\n",
    "print(\"Percentage of workforce that switched occupation in a Month\", transitions_occ/ df_2019[\"PANLWT\"][df_2019[\"MONTH\"] == 3].sum())\n",
    "print(\"Ratio between transitions and remains Month\", transitions_occ/(transitions_occ + remained_occ))"
   ]
  },
  {
   "cell_type": "code",
   "execution_count": 24,
   "id": "f656d0d7",
   "metadata": {},
   "outputs": [
    {
     "data": {
      "text/plain": [
       "11.926793017300012"
      ]
     },
     "execution_count": 24,
     "metadata": {},
     "output_type": "execute_result"
    }
   ],
   "source": [
    "transitions_occ/1e6"
   ]
  },
  {
   "cell_type": "code",
   "execution_count": 25,
   "id": "fb4e142d",
   "metadata": {},
   "outputs": [
    {
     "data": {
      "text/plain": [
       "0.07648601366376781"
      ]
     },
     "execution_count": 25,
     "metadata": {},
     "output_type": "execute_result"
    }
   ],
   "source": [
    "transitions_occ/(transitions_occ + remained_occ)"
   ]
  },
  {
   "cell_type": "markdown",
   "id": "12d030eb",
   "metadata": {},
   "source": [
    "### CPS occ"
   ]
  },
  {
   "cell_type": "code",
   "execution_count": 26,
   "id": "f0741a07",
   "metadata": {},
   "outputs": [
    {
     "data": {
      "text/plain": [
       "Index(['YEAR', 'SERIAL', 'MONTH', 'CPSIDP', 'MISH', 'PANLWT', 'OCC', 'OCC2010',\n",
       "       'IND', 'EMPSAME', 'ASECOVERP', 'OCCLY', 'OCC10LY', 'QOCCLY', 'Idx'],\n",
       "      dtype='object')"
      ]
     },
     "execution_count": 26,
     "metadata": {},
     "output_type": "execute_result"
    }
   ],
   "source": [
    "df_2019.columns"
   ]
  },
  {
   "cell_type": "code",
   "execution_count": 27,
   "id": "5b246b0c",
   "metadata": {},
   "outputs": [],
   "source": [
    "def calculate_transitions_cps_nonharmonized(df):\n",
    "    \"\"\" Function that calculates occupation\\industry transitions\n",
    "    Args:\n",
    "        df(DaraFrame): dataframe with cps _sorted_ by cpsid\n",
    "    \"\"\"\n",
    "    # setting id's to compare when a transition happens\n",
    "    person_id_old, occ_old, ind_old = 0, 0, 0\n",
    "    # counters for raw (i.e. not using person weights) transitions\n",
    "    raw_transitions_occ, raw_transitions_ind, raw_transitions_both = 0, 0, 0\n",
    "    # coutner for estimated transitions in the use population (using PANLWT)\n",
    "    transitions_occ, transitions_ind, transitions_both = 0, 0, 0\n",
    "    # counter for people remaining in same occ or industry\n",
    "    remained_occ, remained_ind = 0, 0\n",
    "    \n",
    "    # iterate over rows (df is sorted by person id)\n",
    "    for index, row in df.iterrows():\n",
    "        person_id_new = row[\"CPSIDP\"]\n",
    "        # still same person as before\n",
    "        if person_id_new == person_id_old:\n",
    "            # check if person changed occupation\n",
    "            if occ_old != row[\"OCC\"]:\n",
    "                # add transitions to counters\n",
    "                raw_transitions_occ +=1 \n",
    "                transitions_occ += 1 * row[\"PANLWT\"]\n",
    "                occ_old = row[\"OCC\"]\n",
    "                # check if person also changed industry\n",
    "                if ind_old != row[\"IND\"]:\n",
    "                    raw_transitions_both += 1\n",
    "                    transitions_both += 1 * row[\"PANLWT\"]\n",
    "            # if did not change occ add in remain\n",
    "            else:\n",
    "                remained_occ += 1 * row[\"PANLWT\"]\n",
    "                \n",
    "            # check if person changed industry\n",
    "            if ind_old != row[\"IND\"]: \n",
    "                raw_transitions_ind += 1\n",
    "                transitions_ind += 1 * row[\"PANLWT\"]\n",
    "            else:\n",
    "                remained_ind += 1 * row[\"PANLWT\"]\n",
    "        # if it is not same person a before update id's\n",
    "        else:\n",
    "            person_id_old = person_id_new\n",
    "            occ_old = row[\"OCC\"]\n",
    "            ind_old = row[\"IND\"]\n",
    "            \n",
    "    \n",
    "    return transitions_occ, transitions_ind, transitions_both, \\\n",
    "            raw_transitions_occ, raw_transitions_ind, raw_transitions_both, remained_occ, remained_ind\n",
    "    "
   ]
  },
  {
   "cell_type": "code",
   "execution_count": 22,
   "id": "ba9ae59a",
   "metadata": {},
   "outputs": [],
   "source": [
    "df_2019 = df_2019.sort_values(by = ['CPSIDP', 'Idx'])\n",
    "df_2019 = df_2019[[\"YEAR\", 'SERIAL', \"MONTH\", \"CPSIDP\", \"MISH\",'PANLWT', \\\n",
    "                  'OCC', 'OCC2010', 'IND', 'EMPSAME', 'ASECOVERP', 'OCCLY', 'OCC10LY', 'QOCCLY', 'Idx']]"
   ]
  },
  {
   "cell_type": "code",
   "execution_count": 23,
   "id": "c1dd425e",
   "metadata": {},
   "outputs": [],
   "source": [
    "transitions_occ, transitions_ind, transitions_both, \\\n",
    "    raw_transitions_occ, raw_transitions_ind, raw_transitions_both, remained_occ, remained_ind \\\n",
    "    = calculate_transitions_cps_nonharmonized(df_2019)"
   ]
  },
  {
   "cell_type": "code",
   "execution_count": 24,
   "id": "52464d19",
   "metadata": {},
   "outputs": [
    {
     "name": "stdout",
     "output_type": "stream",
     "text": [
      "Workforce estimation (millions) March 159.5386710184\n",
      "People that changed occupaiton (millions) Year 143.70079303189902\n",
      "Percentage of workforce that switched occupation in a year 0.9007270282157838\n",
      "Ratio between transitions and remains  0.08247307892520159\n"
     ]
    }
   ],
   "source": [
    "print(\"Workforce estimation (millions) March\", df_2019[\"PANLWT\"][df_2019[\"MONTH\"] == 3].sum()/1e6)\n",
    "print(\"People that changed occupaiton (millions) Year\", transitions_occ/1e6)\n",
    "print(\"Percentage of workforce that switched occupation in a year\", transitions_occ/ df_2019[\"PANLWT\"][df_2019[\"MONTH\"] == 3].sum())\n",
    "print(\"Ratio between transitions and remains \", transitions_occ/(transitions_occ + remained_occ))"
   ]
  },
  {
   "cell_type": "markdown",
   "id": "e443967e",
   "metadata": {},
   "source": [
    "## Making the occupational mobility network"
   ]
  },
  {
   "cell_type": "markdown",
   "id": "5f89c450",
   "metadata": {},
   "source": [
    "### ASEC"
   ]
  },
  {
   "cell_type": "code",
   "execution_count": 24,
   "id": "fa1134ff",
   "metadata": {},
   "outputs": [],
   "source": [
    "df_asec[\"ChangeOcc\"] = df_asec[\"OCC2010\"] != df_asec[\"OCC10LY\"]\n",
    "df_asec[\"ChangeOccWT\"] = df_asec[\"ChangeOcc\"] * df_asec[\"ASECWT\"]"
   ]
  },
  {
   "cell_type": "code",
   "execution_count": 25,
   "id": "bc94c5a4",
   "metadata": {},
   "outputs": [],
   "source": [
    "df_asec_nonan = df_asec[(df_asec[\"ASECWT\"].notna()) & (df_asec[\"OCC2010\"] != 9999) & (df_asec[\"OCC10LY\"] != 9999)] "
   ]
  },
  {
   "cell_type": "code",
   "execution_count": 26,
   "id": "25d2bd49",
   "metadata": {},
   "outputs": [],
   "source": [
    "def occ_mob_asec(df, dict_code_index):\n",
    "    \"\"\"Makes occupational mobiltiy network from ASEC\n",
    "    \"\"\"\n",
    "    # make empty matrix\n",
    "    n = len(dict_code_index)\n",
    "    A = np.zeros([n, n])\n",
    "    # fill whenver there is a transition\n",
    "    for index, row in df.iterrows():\n",
    "        if row[\"OCC2010\"] != row[\"OCC10LY\"]:\n",
    "            i, j = dict_code_index[row[\"OCC10LY\"]], dict_code_index[row[\"OCC2010\"]]\n",
    "            A[i, j] += row[\"ASECWT\"] # consider ASEC weights\n",
    "    \n",
    "    return A"
   ]
  },
  {
   "cell_type": "code",
   "execution_count": 27,
   "id": "b7ea841a",
   "metadata": {},
   "outputs": [],
   "source": [
    "T_asec_2019 = occ_mob_asec(df_asec_nonan , dict_code_index)"
   ]
  },
  {
   "cell_type": "code",
   "execution_count": 28,
   "id": "ff06acbe",
   "metadata": {},
   "outputs": [
    {
     "data": {
      "image/png": "[encoded data removed]",
      "text/plain": [
       "<Figure size 432x288 with 1 Axes>"
      ]
     },
     "metadata": {
      "needs_background": "light"
     },
     "output_type": "display_data"
    }
   ],
   "source": [
    "plt.imshow(np.sqrt(T_asec_2019))\n",
    "plt.show()"
   ]
  },
  {
   "cell_type": "code",
   "execution_count": 29,
   "id": "1e4a2f07",
   "metadata": {},
   "outputs": [
    {
     "name": "stderr",
     "output_type": "stream",
     "text": [
      "<ipython-input-29-05d24c734c78>:1: RuntimeWarning: invalid value encountered in true_divide\n",
      "  F_asec_2019 = T_asec_2019/T_asec_2019.sum(axis=1, keepdims=True)\n"
     ]
    },
    {
     "data": {
      "image/png": "[encoded data removed]",
      "text/plain": [
       "<Figure size 432x288 with 1 Axes>"
      ]
     },
     "metadata": {
      "needs_background": "light"
     },
     "output_type": "display_data"
    }
   ],
   "source": [
    "F_asec_2019 = T_asec_2019/T_asec_2019.sum(axis=1, keepdims=True)\n",
    "plt.imshow(F_asec_2019)\n",
    "plt.show()"
   ]
  },
  {
   "cell_type": "markdown",
   "id": "54f4e630",
   "metadata": {},
   "source": [
    "### CPS"
   ]
  },
  {
   "cell_type": "code",
   "execution_count": 30,
   "id": "7c23ed76",
   "metadata": {},
   "outputs": [],
   "source": [
    "def occ_mob_cps(df, dict_code_index):\n",
    "    \"\"\" Function that calculates occupation\\industry transitions\n",
    "    Args:\n",
    "        df(DaraFrame): dataframe with cps SORTED by CPSIDP\n",
    "    \"\"\"\n",
    "    # make empty matrix\n",
    "    n = len(dict_code_index)\n",
    "    A = np.zeros([n, n])\n",
    "    # set id for old occupation\n",
    "    occ_old = 0\n",
    "    person_id_old= 0\n",
    "    # iterate over rows (df is sorted by person id)\n",
    "    for index, row in df.iterrows():\n",
    "        person_id_new = row[\"CPSIDP\"]\n",
    "        # still same person as before\n",
    "        if person_id_new == person_id_old:\n",
    "            # check if person changed occupation\n",
    "            if occ_old != row[\"OCC2010\"]:\n",
    "                i, j = dict_code_index[occ_old], dict_code_index[row[\"OCC2010\"]]\n",
    "                A[i, j] += row[\"PANLWT\"]\n",
    "            \n",
    "        # if it is not same person a before update id's\n",
    "        else:\n",
    "            person_id_old = person_id_new\n",
    "            occ_old = row[\"OCC2010\"]\n",
    "\n",
    "    return A"
   ]
  },
  {
   "cell_type": "code",
   "execution_count": 31,
   "id": "19e688e2",
   "metadata": {},
   "outputs": [],
   "source": [
    "df_2019 = df_2019.sort_values(by = ['CPSIDP', 'Idx'])\n",
    "T_cps_2019 = occ_mob_cps(df_2019 , dict_code_index)"
   ]
  },
  {
   "cell_type": "code",
   "execution_count": 32,
   "id": "b1ae4af1",
   "metadata": {},
   "outputs": [
    {
     "data": {
      "image/png": "[encoded data removed]",
      "text/plain": [
       "<Figure size 432x288 with 1 Axes>"
      ]
     },
     "metadata": {
      "needs_background": "light"
     },
     "output_type": "display_data"
    }
   ],
   "source": [
    "plt.imshow(np.sqrt(T_cps_2019))\n",
    "plt.show()"
   ]
  },
  {
   "cell_type": "code",
   "execution_count": 33,
   "id": "948b9d0d",
   "metadata": {},
   "outputs": [
    {
     "name": "stderr",
     "output_type": "stream",
     "text": [
      "<ipython-input-33-d39c3730b962>:1: RuntimeWarning: invalid value encountered in true_divide\n",
      "  F_cps_2019 = T_cps_2019/T_cps_2019.sum(axis=1, keepdims=True)\n"
     ]
    },
    {
     "data": {
      "image/png": "[encoded data removed]",
      "text/plain": [
       "<Figure size 432x288 with 1 Axes>"
      ]
     },
     "metadata": {
      "needs_background": "light"
     },
     "output_type": "display_data"
    }
   ],
   "source": [
    "F_cps_2019 = T_cps_2019/T_cps_2019.sum(axis=1, keepdims=True)\n",
    "plt.imshow(F_cps_2019)\n",
    "plt.show()"
   ]
  },
  {
   "cell_type": "code",
   "execution_count": 34,
   "id": "de4530f3",
   "metadata": {},
   "outputs": [
    {
     "data": {
      "text/html": [
       "<div>\n",
       "<style scoped>\n",
       "    .dataframe tbody tr th:only-of-type {\n",
       "        vertical-align: middle;\n",
       "    }\n",
       "\n",
       "    .dataframe tbody tr th {\n",
       "        vertical-align: top;\n",
       "    }\n",
       "\n",
       "    .dataframe thead th {\n",
       "        text-align: right;\n",
       "    }\n",
       "</style>\n",
       "<table border=\"1\" class=\"dataframe\">\n",
       "  <thead>\n",
       "    <tr style=\"text-align: right;\">\n",
       "      <th></th>\n",
       "      <th>YEAR</th>\n",
       "      <th>SERIAL</th>\n",
       "      <th>MONTH</th>\n",
       "      <th>CPSIDP</th>\n",
       "      <th>MISH</th>\n",
       "      <th>PANLWT</th>\n",
       "      <th>OCC</th>\n",
       "      <th>OCC2010</th>\n",
       "      <th>IND</th>\n",
       "      <th>EMPSAME</th>\n",
       "      <th>ASECOVERP</th>\n",
       "      <th>OCCLY</th>\n",
       "      <th>OCC10LY</th>\n",
       "      <th>QOCCLY</th>\n",
       "      <th>Idx</th>\n",
       "    </tr>\n",
       "  </thead>\n",
       "  <tbody>\n",
       "    <tr>\n",
       "      <th>34206682</th>\n",
       "      <td>2019</td>\n",
       "      <td>18</td>\n",
       "      <td>1</td>\n",
       "      <td>20171100002001</td>\n",
       "      <td>7</td>\n",
       "      <td>4486.5314</td>\n",
       "      <td>3500</td>\n",
       "      <td>3500</td>\n",
       "      <td>8090</td>\n",
       "      <td>99.0</td>\n",
       "      <td>NaN</td>\n",
       "      <td>NaN</td>\n",
       "      <td>NaN</td>\n",
       "      <td>NaN</td>\n",
       "      <td>34206682</td>\n",
       "    </tr>\n",
       "    <tr>\n",
       "      <th>34327490</th>\n",
       "      <td>2019</td>\n",
       "      <td>22</td>\n",
       "      <td>2</td>\n",
       "      <td>20171100002001</td>\n",
       "      <td>8</td>\n",
       "      <td>4020.0010</td>\n",
       "      <td>3500</td>\n",
       "      <td>3500</td>\n",
       "      <td>8090</td>\n",
       "      <td>99.0</td>\n",
       "      <td>NaN</td>\n",
       "      <td>NaN</td>\n",
       "      <td>NaN</td>\n",
       "      <td>NaN</td>\n",
       "      <td>34327490</td>\n",
       "    </tr>\n",
       "    <tr>\n",
       "      <th>34206683</th>\n",
       "      <td>2019</td>\n",
       "      <td>18</td>\n",
       "      <td>1</td>\n",
       "      <td>20171100002002</td>\n",
       "      <td>7</td>\n",
       "      <td>5431.0143</td>\n",
       "      <td>8140</td>\n",
       "      <td>8140</td>\n",
       "      <td>3680</td>\n",
       "      <td>2.0</td>\n",
       "      <td>NaN</td>\n",
       "      <td>NaN</td>\n",
       "      <td>NaN</td>\n",
       "      <td>NaN</td>\n",
       "      <td>34206683</td>\n",
       "    </tr>\n",
       "    <tr>\n",
       "      <th>34327491</th>\n",
       "      <td>2019</td>\n",
       "      <td>22</td>\n",
       "      <td>2</td>\n",
       "      <td>20171100002002</td>\n",
       "      <td>8</td>\n",
       "      <td>4640.4852</td>\n",
       "      <td>8140</td>\n",
       "      <td>8140</td>\n",
       "      <td>3680</td>\n",
       "      <td>2.0</td>\n",
       "      <td>NaN</td>\n",
       "      <td>NaN</td>\n",
       "      <td>NaN</td>\n",
       "      <td>NaN</td>\n",
       "      <td>34327491</td>\n",
       "    </tr>\n",
       "    <tr>\n",
       "      <th>34206686</th>\n",
       "      <td>2019</td>\n",
       "      <td>23</td>\n",
       "      <td>1</td>\n",
       "      <td>20171100002901</td>\n",
       "      <td>7</td>\n",
       "      <td>2661.4868</td>\n",
       "      <td>5120</td>\n",
       "      <td>5120</td>\n",
       "      <td>9590</td>\n",
       "      <td>99.0</td>\n",
       "      <td>NaN</td>\n",
       "      <td>NaN</td>\n",
       "      <td>NaN</td>\n",
       "      <td>NaN</td>\n",
       "      <td>34206686</td>\n",
       "    </tr>\n",
       "  </tbody>\n",
       "</table>\n",
       "</div>"
      ],
      "text/plain": [
       "          YEAR  SERIAL  MONTH          CPSIDP  MISH     PANLWT   OCC  OCC2010  \\\n",
       "34206682  2019      18      1  20171100002001     7  4486.5314  3500     3500   \n",
       "34327490  2019      22      2  20171100002001     8  4020.0010  3500     3500   \n",
       "34206683  2019      18      1  20171100002002     7  5431.0143  8140     8140   \n",
       "34327491  2019      22      2  20171100002002     8  4640.4852  8140     8140   \n",
       "34206686  2019      23      1  20171100002901     7  2661.4868  5120     5120   \n",
       "\n",
       "           IND  EMPSAME  ASECOVERP  OCCLY  OCC10LY  QOCCLY       Idx  \n",
       "34206682  8090     99.0        NaN    NaN      NaN     NaN  34206682  \n",
       "34327490  8090     99.0        NaN    NaN      NaN     NaN  34327490  \n",
       "34206683  3680      2.0        NaN    NaN      NaN     NaN  34206683  \n",
       "34327491  3680      2.0        NaN    NaN      NaN     NaN  34327491  \n",
       "34206686  9590     99.0        NaN    NaN      NaN     NaN  34206686  "
      ]
     },
     "execution_count": 34,
     "metadata": {},
     "output_type": "execute_result"
    }
   ],
   "source": [
    "df_2019.head()"
   ]
  },
  {
   "cell_type": "code",
   "execution_count": 35,
   "id": "b90a5ece",
   "metadata": {},
   "outputs": [
    {
     "data": {
      "text/plain": [
       "2.0     411878\n",
       "99.0    241140\n",
       "1.0       8874\n",
       "96.0       133\n",
       "97.0        85\n",
       "Name: EMPSAME, dtype: int64"
      ]
     },
     "execution_count": 35,
     "metadata": {},
     "output_type": "execute_result"
    }
   ],
   "source": [
    "df_2019[\"EMPSAME\"].value_counts()"
   ]
  },
  {
   "cell_type": "code",
   "execution_count": 37,
   "id": "84122a9c",
   "metadata": {},
   "outputs": [],
   "source": [
    "#df_2019[\"WTFINL\"][df_2019[\"MONTH\"] == 2].sum()"
   ]
  },
  {
   "cell_type": "code",
   "execution_count": null,
   "id": "adaf2175",
   "metadata": {},
   "outputs": [],
   "source": []
  }
 ],
 "metadata": {
  "kernelspec": {
   "display_name": "Python 3",
   "language": "python",
   "name": "python3"
  },
  "language_info": {
   "codemirror_mode": {
    "name": "ipython",
    "version": 3
   },
   "file_extension": ".py",
   "mimetype": "text/x-python",
   "name": "python",
   "nbconvert_exporter": "python",
   "pygments_lexer": "ipython3",
   "version": "3.8.8"
  }
 },
 "nbformat": 4,
 "nbformat_minor": 5
}
