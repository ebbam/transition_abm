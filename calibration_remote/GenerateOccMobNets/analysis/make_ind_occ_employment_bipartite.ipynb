{
 "cells": [
  {
   "cell_type": "code",
   "execution_count": 1,
   "id": "f11268af",
   "metadata": {},
   "outputs": [],
   "source": [
    "import pandas as pd\n",
    "import random\n",
    "import numpy as np\n",
    "from matplotlib import pylab as plt\n",
    "import scipy.stats\n",
    "import copy\n",
    "from scipy.sparse import linalg as LA"
   ]
  },
  {
   "cell_type": "code",
   "execution_count": 2,
   "id": "ae2231b1",
   "metadata": {},
   "outputs": [],
   "source": [
    "path_data = \"../data/\"\n",
    "file_ind2007 = \"2007-acs-ind-codes.csv\"\n",
    "file_ind2010 = \"2012-acs-ind-codes.csv\"\n",
    "df = pd.read_csv(path_data + \"cps_00011_ind_geo.csv\")\n",
    "df_ind= pd.read_csv(path_data + \"industries_acs_10_19_emp.csv\")\n",
    "df_occ = pd.read_csv(path_data + \"occ_names_employment.csv\")\n",
    "# df_ind07 = pd.read_csv(path_data + file_ind2007)\n",
    "# df_ind10 = pd.read_csv(path_data + file_ind2010)\n",
    "n_occ = len(df_occ)\n",
    "n_ind = len(df_ind)"
   ]
  },
  {
   "cell_type": "code",
   "execution_count": 3,
   "id": "861ab310",
   "metadata": {},
   "outputs": [],
   "source": [
    "ind_codes = df_ind[\"Code\"].tolist()\n",
    "occ_codes = df_occ[\"Code\"].tolist()"
   ]
  },
  {
   "cell_type": "code",
   "execution_count": 4,
   "id": "1d15307e",
   "metadata": {},
   "outputs": [
    {
     "data": {
      "text/plain": [
       "Index(['Unnamed: 0', 'Code', 'Label', 'EMP_10_19_MEAN'], dtype='object')"
      ]
     },
     "execution_count": 4,
     "metadata": {},
     "output_type": "execute_result"
    }
   ],
   "source": [
    "df_ind.columns"
   ]
  },
  {
   "cell_type": "code",
   "execution_count": 5,
   "id": "e3aebfb3",
   "metadata": {},
   "outputs": [
    {
     "data": {
      "text/plain": [
       "Index(['YEAR', 'SERIAL', 'MONTH', 'CPSID', 'ASECFLAG', 'HFLAG', 'ASECWTH',\n",
       "       'MISH', 'STATEFIP', 'ASECOVERH', 'PERNUM', 'CPSIDP', 'ASECWT', 'AGE',\n",
       "       'SEX', 'RACE', 'HISPAN', 'EMPSTAT', 'LABFORCE', 'OCC', 'OCC2010',\n",
       "       'IND1990', 'IND', 'ASECOVERP', 'OCCLY', 'INDLY', 'IND90LY', 'OCC10LY',\n",
       "       'QOCCLY', 'MIGSTA1'],\n",
       "      dtype='object')"
      ]
     },
     "execution_count": 5,
     "metadata": {},
     "output_type": "execute_result"
    }
   ],
   "source": [
    "df.columns"
   ]
  },
  {
   "cell_type": "code",
   "execution_count": 7,
   "id": "8f9388f0",
   "metadata": {},
   "outputs": [
    {
     "data": {
      "text/plain": [
       "4309522"
      ]
     },
     "execution_count": 7,
     "metadata": {},
     "output_type": "execute_result"
    }
   ],
   "source": [
    "len(df)"
   ]
  },
  {
   "cell_type": "code",
   "execution_count": 6,
   "id": "aef99536",
   "metadata": {},
   "outputs": [
    {
     "data": {
      "text/html": [
       "<div>\n",
       "<style scoped>\n",
       "    .dataframe tbody tr th:only-of-type {\n",
       "        vertical-align: middle;\n",
       "    }\n",
       "\n",
       "    .dataframe tbody tr th {\n",
       "        vertical-align: top;\n",
       "    }\n",
       "\n",
       "    .dataframe thead th {\n",
       "        text-align: right;\n",
       "    }\n",
       "</style>\n",
       "<table border=\"1\" class=\"dataframe\">\n",
       "  <thead>\n",
       "    <tr style=\"text-align: right;\">\n",
       "      <th></th>\n",
       "      <th>YEAR</th>\n",
       "      <th>SERIAL</th>\n",
       "      <th>MONTH</th>\n",
       "      <th>CPSID</th>\n",
       "      <th>ASECFLAG</th>\n",
       "      <th>HFLAG</th>\n",
       "      <th>ASECWTH</th>\n",
       "      <th>MISH</th>\n",
       "      <th>STATEFIP</th>\n",
       "      <th>ASECOVERH</th>\n",
       "      <th>...</th>\n",
       "      <th>OCC2010</th>\n",
       "      <th>IND1990</th>\n",
       "      <th>IND</th>\n",
       "      <th>ASECOVERP</th>\n",
       "      <th>OCCLY</th>\n",
       "      <th>INDLY</th>\n",
       "      <th>IND90LY</th>\n",
       "      <th>OCC10LY</th>\n",
       "      <th>QOCCLY</th>\n",
       "      <th>MIGSTA1</th>\n",
       "    </tr>\n",
       "  </thead>\n",
       "  <tbody>\n",
       "    <tr>\n",
       "      <th>0</th>\n",
       "      <td>2000</td>\n",
       "      <td>2</td>\n",
       "      <td>3</td>\n",
       "      <td>19981202520100</td>\n",
       "      <td>1</td>\n",
       "      <td>NaN</td>\n",
       "      <td>974.38</td>\n",
       "      <td>8</td>\n",
       "      <td>23</td>\n",
       "      <td>0</td>\n",
       "      <td>...</td>\n",
       "      <td>2200</td>\n",
       "      <td>850</td>\n",
       "      <td>850</td>\n",
       "      <td>0</td>\n",
       "      <td>146</td>\n",
       "      <td>850</td>\n",
       "      <td>850</td>\n",
       "      <td>2200</td>\n",
       "      <td>0</td>\n",
       "      <td>99</td>\n",
       "    </tr>\n",
       "    <tr>\n",
       "      <th>1</th>\n",
       "      <td>2000</td>\n",
       "      <td>2</td>\n",
       "      <td>3</td>\n",
       "      <td>19981202520100</td>\n",
       "      <td>1</td>\n",
       "      <td>NaN</td>\n",
       "      <td>974.38</td>\n",
       "      <td>8</td>\n",
       "      <td>23</td>\n",
       "      <td>0</td>\n",
       "      <td>...</td>\n",
       "      <td>9620</td>\n",
       "      <td>581</td>\n",
       "      <td>581</td>\n",
       "      <td>0</td>\n",
       "      <td>877</td>\n",
       "      <td>581</td>\n",
       "      <td>581</td>\n",
       "      <td>9620</td>\n",
       "      <td>0</td>\n",
       "      <td>99</td>\n",
       "    </tr>\n",
       "    <tr>\n",
       "      <th>2</th>\n",
       "      <td>2000</td>\n",
       "      <td>3</td>\n",
       "      <td>3</td>\n",
       "      <td>20000103263800</td>\n",
       "      <td>1</td>\n",
       "      <td>NaN</td>\n",
       "      <td>809.33</td>\n",
       "      <td>3</td>\n",
       "      <td>23</td>\n",
       "      <td>0</td>\n",
       "      <td>...</td>\n",
       "      <td>9999</td>\n",
       "      <td>0</td>\n",
       "      <td>0</td>\n",
       "      <td>0</td>\n",
       "      <td>0</td>\n",
       "      <td>0</td>\n",
       "      <td>0</td>\n",
       "      <td>9999</td>\n",
       "      <td>0</td>\n",
       "      <td>99</td>\n",
       "    </tr>\n",
       "    <tr>\n",
       "      <th>3</th>\n",
       "      <td>2000</td>\n",
       "      <td>3</td>\n",
       "      <td>3</td>\n",
       "      <td>20000103263800</td>\n",
       "      <td>1</td>\n",
       "      <td>NaN</td>\n",
       "      <td>809.33</td>\n",
       "      <td>3</td>\n",
       "      <td>23</td>\n",
       "      <td>0</td>\n",
       "      <td>...</td>\n",
       "      <td>7200</td>\n",
       "      <td>612</td>\n",
       "      <td>612</td>\n",
       "      <td>0</td>\n",
       "      <td>505</td>\n",
       "      <td>751</td>\n",
       "      <td>751</td>\n",
       "      <td>7200</td>\n",
       "      <td>0</td>\n",
       "      <td>99</td>\n",
       "    </tr>\n",
       "    <tr>\n",
       "      <th>4</th>\n",
       "      <td>2000</td>\n",
       "      <td>4</td>\n",
       "      <td>3</td>\n",
       "      <td>20000102304500</td>\n",
       "      <td>1</td>\n",
       "      <td>NaN</td>\n",
       "      <td>946.16</td>\n",
       "      <td>3</td>\n",
       "      <td>23</td>\n",
       "      <td>0</td>\n",
       "      <td>...</td>\n",
       "      <td>4965</td>\n",
       "      <td>651</td>\n",
       "      <td>651</td>\n",
       "      <td>0</td>\n",
       "      <td>274</td>\n",
       "      <td>651</td>\n",
       "      <td>651</td>\n",
       "      <td>4965</td>\n",
       "      <td>0</td>\n",
       "      <td>99</td>\n",
       "    </tr>\n",
       "  </tbody>\n",
       "</table>\n",
       "<p>5 rows × 30 columns</p>\n",
       "</div>"
      ],
      "text/plain": [
       "   YEAR  SERIAL  MONTH           CPSID  ASECFLAG  HFLAG  ASECWTH  MISH  \\\n",
       "0  2000       2      3  19981202520100         1    NaN   974.38     8   \n",
       "1  2000       2      3  19981202520100         1    NaN   974.38     8   \n",
       "2  2000       3      3  20000103263800         1    NaN   809.33     3   \n",
       "3  2000       3      3  20000103263800         1    NaN   809.33     3   \n",
       "4  2000       4      3  20000102304500         1    NaN   946.16     3   \n",
       "\n",
       "   STATEFIP  ASECOVERH  ...  OCC2010  IND1990  IND  ASECOVERP  OCCLY  INDLY  \\\n",
       "0        23          0  ...     2200      850  850          0    146    850   \n",
       "1        23          0  ...     9620      581  581          0    877    581   \n",
       "2        23          0  ...     9999        0    0          0      0      0   \n",
       "3        23          0  ...     7200      612  612          0    505    751   \n",
       "4        23          0  ...     4965      651  651          0    274    651   \n",
       "\n",
       "   IND90LY  OCC10LY  QOCCLY  MIGSTA1  \n",
       "0      850     2200       0       99  \n",
       "1      581     9620       0       99  \n",
       "2        0     9999       0       99  \n",
       "3      751     7200       0       99  \n",
       "4      651     4965       0       99  \n",
       "\n",
       "[5 rows x 30 columns]"
      ]
     },
     "execution_count": 6,
     "metadata": {},
     "output_type": "execute_result"
    }
   ],
   "source": [
    "df.head()"
   ]
  },
  {
   "cell_type": "code",
   "execution_count": 38,
   "id": "265d5b05",
   "metadata": {},
   "outputs": [],
   "source": [
    "A_ind_occ = np.zeros([n_ind, n_occ])\n",
    "for i, ind in enumerate(ind_codes):\n",
    "    for j, occ in enumerate(occ_codes):\n",
    "        A_ind_occ[i, j] += df[\"ASECWT\"].loc[(df[\"IND\"] == int(ind)) & \\\n",
    "                                    (df[\"EMPSTAT\"].isin([10, 12])) & \\\n",
    "                                   (df[\"OCC2010\"] == int(occ))].sum()\n",
    "# normalize for the 10 years\n",
    "A_ind_occ = A_ind_occ/10"
   ]
  },
  {
   "cell_type": "code",
   "execution_count": 40,
   "id": "5d7210da",
   "metadata": {},
   "outputs": [],
   "source": [
    "np.savetxt(path_data + \"asec_ind_occ_10_19_mean.csv\", A_ind_occ, delimiter=\",\")"
   ]
  },
  {
   "cell_type": "code",
   "execution_count": null,
   "id": "c56dc63a",
   "metadata": {},
   "outputs": [],
   "source": []
  },
  {
   "cell_type": "code",
   "execution_count": 5,
   "id": "e6453a97",
   "metadata": {},
   "outputs": [],
   "source": [
    "# NOTE mixing classification systems\n",
    "dict_code_ind07 = dict(zip(df_ind07[\"2007 Census Code\"], df_ind07[\"Industry 2007 Description\"]))\n",
    "dict_code_ind10 = dict(zip(df_ind10[\"2012 Census Code\"], df_ind10[\"Industry 2012 Description\"]))\n",
    "dict_code_ind_both = copy.copy(dict_code_ind10)"
   ]
  },
  {
   "cell_type": "code",
   "execution_count": 7,
   "id": "a053bf69",
   "metadata": {},
   "outputs": [],
   "source": [
    "for key07 in dict_code_ind07.keys():\n",
    "    if key07 not in dict_code_ind_both.keys():\n",
    "        dict_code_ind_both[key07] = dict_code_ind07[key07]"
   ]
  },
  {
   "cell_type": "code",
   "execution_count": null,
   "id": "991af4d9",
   "metadata": {},
   "outputs": [],
   "source": []
  }
 ],
 "metadata": {
  "kernelspec": {
   "display_name": "Python 3",
   "language": "python",
   "name": "python3"
  },
  "language_info": {
   "codemirror_mode": {
    "name": "ipython",
    "version": 3
   },
   "file_extension": ".py",
   "mimetype": "text/x-python",
   "name": "python",
   "nbconvert_exporter": "python",
   "pygments_lexer": "ipython3",
   "version": "3.8.8"
  }
 },
 "nbformat": 4,
 "nbformat_minor": 5
}
